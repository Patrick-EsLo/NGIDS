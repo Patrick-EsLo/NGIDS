{
  "cells": [
    {
      "cell_type": "code",
      "execution_count": null,
      "metadata": {
        "id": "qeMhO1YAi5Qi"
      },
      "outputs": [],
      "source": [
        "import numpy as np\n",
        "import pandas as pd\n",
        "import seaborn as sns\n",
        "import matplotlib.pyplot as plt\n",
        "from pandas.api.types import is_numeric_dtype\n",
        "import warnings\n",
        "from sklearn import tree\n",
        "from sklearn.model_selection import train_test_split\n",
        "from sklearn.neighbors import KNeighborsClassifier\n",
        "from sklearn.linear_model import LogisticRegression\n",
        "from sklearn.preprocessing import StandardScaler, LabelEncoder\n",
        "from sklearn.tree  import DecisionTreeClassifier\n",
        "from sklearn.ensemble import RandomForestClassifier, AdaBoostClassifier, VotingClassifier, GradientBoostingClassifier\n",
        "from sklearn.svm import SVC, LinearSVC\n",
        "from sklearn.naive_bayes import BernoulliNB\n",
        "from sklearn.metrics import confusion_matrix, accuracy_score, classification_report\n",
        "from sklearn.metrics import ConfusionMatrixDisplay\n",
        "from lightgbm import LGBMClassifier\n",
        "from sklearn.feature_selection import RFE\n",
        "import itertools\n",
        "from xgboost import XGBClassifier\n",
        "from tabulate import tabulate\n",
        "from sklearn.metrics import accuracy_score\n",
        "from sklearn.model_selection import train_test_split\n",
        "from sklearn.neural_network import MLPClassifier\n",
        "from sklearn.metrics import accuracy_score\n",
        "import os\n",
        "import time\n",
        "import requests\n",
        "import gdown\n",
        "from tensorflow import keras\n",
        "from tensorflow.keras import layers\n",
        "import tensorflow as tf\n",
        "import matplotlib.pyplot as plt"
      ]
    },
    {
      "cell_type": "code",
      "execution_count": null,
      "metadata": {
        "colab": {
          "base_uri": "https://localhost:8080/",
          "height": 206
        },
        "id": "GEWREltHjD3k",
        "outputId": "9f1fd12f-63b9-4608-d27f-b1e228db4c7e"
      },
      "outputs": [
        {
          "output_type": "execute_result",
          "data": {
            "text/plain": [
              "   Destination Port  Flow Duration  Total Length of Fwd Packets   Label\n",
              "0             62179       0.000000                           66  attack\n",
              "1                80       0.183655                           66  attack\n",
              "2             62179       0.183794                           60  attack\n",
              "3                 0       0.186751                          365  attack\n",
              "4                80       0.365907                           60  attack"
            ],
            "text/html": [
              "\n",
              "  <div id=\"df-56eb6c85-aee4-42f1-81ab-36c1126bf993\" class=\"colab-df-container\">\n",
              "    <div>\n",
              "<style scoped>\n",
              "    .dataframe tbody tr th:only-of-type {\n",
              "        vertical-align: middle;\n",
              "    }\n",
              "\n",
              "    .dataframe tbody tr th {\n",
              "        vertical-align: top;\n",
              "    }\n",
              "\n",
              "    .dataframe thead th {\n",
              "        text-align: right;\n",
              "    }\n",
              "</style>\n",
              "<table border=\"1\" class=\"dataframe\">\n",
              "  <thead>\n",
              "    <tr style=\"text-align: right;\">\n",
              "      <th></th>\n",
              "      <th>Destination Port</th>\n",
              "      <th>Flow Duration</th>\n",
              "      <th>Total Length of Fwd Packets</th>\n",
              "      <th>Label</th>\n",
              "    </tr>\n",
              "  </thead>\n",
              "  <tbody>\n",
              "    <tr>\n",
              "      <th>0</th>\n",
              "      <td>62179</td>\n",
              "      <td>0.000000</td>\n",
              "      <td>66</td>\n",
              "      <td>attack</td>\n",
              "    </tr>\n",
              "    <tr>\n",
              "      <th>1</th>\n",
              "      <td>80</td>\n",
              "      <td>0.183655</td>\n",
              "      <td>66</td>\n",
              "      <td>attack</td>\n",
              "    </tr>\n",
              "    <tr>\n",
              "      <th>2</th>\n",
              "      <td>62179</td>\n",
              "      <td>0.183794</td>\n",
              "      <td>60</td>\n",
              "      <td>attack</td>\n",
              "    </tr>\n",
              "    <tr>\n",
              "      <th>3</th>\n",
              "      <td>0</td>\n",
              "      <td>0.186751</td>\n",
              "      <td>365</td>\n",
              "      <td>attack</td>\n",
              "    </tr>\n",
              "    <tr>\n",
              "      <th>4</th>\n",
              "      <td>80</td>\n",
              "      <td>0.365907</td>\n",
              "      <td>60</td>\n",
              "      <td>attack</td>\n",
              "    </tr>\n",
              "  </tbody>\n",
              "</table>\n",
              "</div>\n",
              "    <div class=\"colab-df-buttons\">\n",
              "\n",
              "  <div class=\"colab-df-container\">\n",
              "    <button class=\"colab-df-convert\" onclick=\"convertToInteractive('df-56eb6c85-aee4-42f1-81ab-36c1126bf993')\"\n",
              "            title=\"Convert this dataframe to an interactive table.\"\n",
              "            style=\"display:none;\">\n",
              "\n",
              "  <svg xmlns=\"http://www.w3.org/2000/svg\" height=\"24px\" viewBox=\"0 -960 960 960\">\n",
              "    <path d=\"M120-120v-720h720v720H120Zm60-500h600v-160H180v160Zm220 220h160v-160H400v160Zm0 220h160v-160H400v160ZM180-400h160v-160H180v160Zm440 0h160v-160H620v160ZM180-180h160v-160H180v160Zm440 0h160v-160H620v160Z\"/>\n",
              "  </svg>\n",
              "    </button>\n",
              "\n",
              "  <style>\n",
              "    .colab-df-container {\n",
              "      display:flex;\n",
              "      gap: 12px;\n",
              "    }\n",
              "\n",
              "    .colab-df-convert {\n",
              "      background-color: #E8F0FE;\n",
              "      border: none;\n",
              "      border-radius: 50%;\n",
              "      cursor: pointer;\n",
              "      display: none;\n",
              "      fill: #1967D2;\n",
              "      height: 32px;\n",
              "      padding: 0 0 0 0;\n",
              "      width: 32px;\n",
              "    }\n",
              "\n",
              "    .colab-df-convert:hover {\n",
              "      background-color: #E2EBFA;\n",
              "      box-shadow: 0px 1px 2px rgba(60, 64, 67, 0.3), 0px 1px 3px 1px rgba(60, 64, 67, 0.15);\n",
              "      fill: #174EA6;\n",
              "    }\n",
              "\n",
              "    .colab-df-buttons div {\n",
              "      margin-bottom: 4px;\n",
              "    }\n",
              "\n",
              "    [theme=dark] .colab-df-convert {\n",
              "      background-color: #3B4455;\n",
              "      fill: #D2E3FC;\n",
              "    }\n",
              "\n",
              "    [theme=dark] .colab-df-convert:hover {\n",
              "      background-color: #434B5C;\n",
              "      box-shadow: 0px 1px 3px 1px rgba(0, 0, 0, 0.15);\n",
              "      filter: drop-shadow(0px 1px 2px rgba(0, 0, 0, 0.3));\n",
              "      fill: #FFFFFF;\n",
              "    }\n",
              "  </style>\n",
              "\n",
              "    <script>\n",
              "      const buttonEl =\n",
              "        document.querySelector('#df-56eb6c85-aee4-42f1-81ab-36c1126bf993 button.colab-df-convert');\n",
              "      buttonEl.style.display =\n",
              "        google.colab.kernel.accessAllowed ? 'block' : 'none';\n",
              "\n",
              "      async function convertToInteractive(key) {\n",
              "        const element = document.querySelector('#df-56eb6c85-aee4-42f1-81ab-36c1126bf993');\n",
              "        const dataTable =\n",
              "          await google.colab.kernel.invokeFunction('convertToInteractive',\n",
              "                                                    [key], {});\n",
              "        if (!dataTable) return;\n",
              "\n",
              "        const docLinkHtml = 'Like what you see? Visit the ' +\n",
              "          '<a target=\"_blank\" href=https://colab.research.google.com/notebooks/data_table.ipynb>data table notebook</a>'\n",
              "          + ' to learn more about interactive tables.';\n",
              "        element.innerHTML = '';\n",
              "        dataTable['output_type'] = 'display_data';\n",
              "        await google.colab.output.renderOutput(dataTable, element);\n",
              "        const docLink = document.createElement('div');\n",
              "        docLink.innerHTML = docLinkHtml;\n",
              "        element.appendChild(docLink);\n",
              "      }\n",
              "    </script>\n",
              "  </div>\n",
              "\n",
              "\n",
              "<div id=\"df-a3149ad8-4aad-44f2-a704-6b670eddc814\">\n",
              "  <button class=\"colab-df-quickchart\" onclick=\"quickchart('df-a3149ad8-4aad-44f2-a704-6b670eddc814')\"\n",
              "            title=\"Suggest charts\"\n",
              "            style=\"display:none;\">\n",
              "\n",
              "<svg xmlns=\"http://www.w3.org/2000/svg\" height=\"24px\"viewBox=\"0 0 24 24\"\n",
              "     width=\"24px\">\n",
              "    <g>\n",
              "        <path d=\"M19 3H5c-1.1 0-2 .9-2 2v14c0 1.1.9 2 2 2h14c1.1 0 2-.9 2-2V5c0-1.1-.9-2-2-2zM9 17H7v-7h2v7zm4 0h-2V7h2v10zm4 0h-2v-4h2v4z\"/>\n",
              "    </g>\n",
              "</svg>\n",
              "  </button>\n",
              "\n",
              "<style>\n",
              "  .colab-df-quickchart {\n",
              "      --bg-color: #E8F0FE;\n",
              "      --fill-color: #1967D2;\n",
              "      --hover-bg-color: #E2EBFA;\n",
              "      --hover-fill-color: #174EA6;\n",
              "      --disabled-fill-color: #AAA;\n",
              "      --disabled-bg-color: #DDD;\n",
              "  }\n",
              "\n",
              "  [theme=dark] .colab-df-quickchart {\n",
              "      --bg-color: #3B4455;\n",
              "      --fill-color: #D2E3FC;\n",
              "      --hover-bg-color: #434B5C;\n",
              "      --hover-fill-color: #FFFFFF;\n",
              "      --disabled-bg-color: #3B4455;\n",
              "      --disabled-fill-color: #666;\n",
              "  }\n",
              "\n",
              "  .colab-df-quickchart {\n",
              "    background-color: var(--bg-color);\n",
              "    border: none;\n",
              "    border-radius: 50%;\n",
              "    cursor: pointer;\n",
              "    display: none;\n",
              "    fill: var(--fill-color);\n",
              "    height: 32px;\n",
              "    padding: 0;\n",
              "    width: 32px;\n",
              "  }\n",
              "\n",
              "  .colab-df-quickchart:hover {\n",
              "    background-color: var(--hover-bg-color);\n",
              "    box-shadow: 0 1px 2px rgba(60, 64, 67, 0.3), 0 1px 3px 1px rgba(60, 64, 67, 0.15);\n",
              "    fill: var(--button-hover-fill-color);\n",
              "  }\n",
              "\n",
              "  .colab-df-quickchart-complete:disabled,\n",
              "  .colab-df-quickchart-complete:disabled:hover {\n",
              "    background-color: var(--disabled-bg-color);\n",
              "    fill: var(--disabled-fill-color);\n",
              "    box-shadow: none;\n",
              "  }\n",
              "\n",
              "  .colab-df-spinner {\n",
              "    border: 2px solid var(--fill-color);\n",
              "    border-color: transparent;\n",
              "    border-bottom-color: var(--fill-color);\n",
              "    animation:\n",
              "      spin 1s steps(1) infinite;\n",
              "  }\n",
              "\n",
              "  @keyframes spin {\n",
              "    0% {\n",
              "      border-color: transparent;\n",
              "      border-bottom-color: var(--fill-color);\n",
              "      border-left-color: var(--fill-color);\n",
              "    }\n",
              "    20% {\n",
              "      border-color: transparent;\n",
              "      border-left-color: var(--fill-color);\n",
              "      border-top-color: var(--fill-color);\n",
              "    }\n",
              "    30% {\n",
              "      border-color: transparent;\n",
              "      border-left-color: var(--fill-color);\n",
              "      border-top-color: var(--fill-color);\n",
              "      border-right-color: var(--fill-color);\n",
              "    }\n",
              "    40% {\n",
              "      border-color: transparent;\n",
              "      border-right-color: var(--fill-color);\n",
              "      border-top-color: var(--fill-color);\n",
              "    }\n",
              "    60% {\n",
              "      border-color: transparent;\n",
              "      border-right-color: var(--fill-color);\n",
              "    }\n",
              "    80% {\n",
              "      border-color: transparent;\n",
              "      border-right-color: var(--fill-color);\n",
              "      border-bottom-color: var(--fill-color);\n",
              "    }\n",
              "    90% {\n",
              "      border-color: transparent;\n",
              "      border-bottom-color: var(--fill-color);\n",
              "    }\n",
              "  }\n",
              "</style>\n",
              "\n",
              "  <script>\n",
              "    async function quickchart(key) {\n",
              "      const quickchartButtonEl =\n",
              "        document.querySelector('#' + key + ' button');\n",
              "      quickchartButtonEl.disabled = true;  // To prevent multiple clicks.\n",
              "      quickchartButtonEl.classList.add('colab-df-spinner');\n",
              "      try {\n",
              "        const charts = await google.colab.kernel.invokeFunction(\n",
              "            'suggestCharts', [key], {});\n",
              "      } catch (error) {\n",
              "        console.error('Error during call to suggestCharts:', error);\n",
              "      }\n",
              "      quickchartButtonEl.classList.remove('colab-df-spinner');\n",
              "      quickchartButtonEl.classList.add('colab-df-quickchart-complete');\n",
              "    }\n",
              "    (() => {\n",
              "      let quickchartButtonEl =\n",
              "        document.querySelector('#df-a3149ad8-4aad-44f2-a704-6b670eddc814 button');\n",
              "      quickchartButtonEl.style.display =\n",
              "        google.colab.kernel.accessAllowed ? 'block' : 'none';\n",
              "    })();\n",
              "  </script>\n",
              "</div>\n",
              "\n",
              "    </div>\n",
              "  </div>\n"
            ],
            "application/vnd.google.colaboratory.intrinsic+json": {
              "type": "dataframe",
              "variable_name": "train_data",
              "summary": "{\n  \"name\": \"train_data\",\n  \"rows\": 16296,\n  \"fields\": [\n    {\n      \"column\": \"Destination Port\",\n      \"properties\": {\n        \"dtype\": \"number\",\n        \"std\": 28459,\n        \"min\": 0,\n        \"max\": 62653,\n        \"num_unique_values\": 484,\n        \"samples\": [\n          62462,\n          62636,\n          62530\n        ],\n        \"semantic_type\": \"\",\n        \"description\": \"\"\n      }\n    },\n    {\n      \"column\": \"Flow Duration\",\n      \"properties\": {\n        \"dtype\": \"number\",\n        \"std\": 7057.223925690671,\n        \"min\": 0.0,\n        \"max\": 22746.47275,\n        \"num_unique_values\": 15187,\n        \"samples\": [\n          22438.8006,\n          18070.15161,\n          10010.79037\n        ],\n        \"semantic_type\": \"\",\n        \"description\": \"\"\n      }\n    },\n    {\n      \"column\": \"Total Length of Fwd Packets\",\n      \"properties\": {\n        \"dtype\": \"number\",\n        \"std\": 543,\n        \"min\": 60,\n        \"max\": 1514,\n        \"num_unique_values\": 398,\n        \"samples\": [\n          666,\n          407,\n          224\n        ],\n        \"semantic_type\": \"\",\n        \"description\": \"\"\n      }\n    },\n    {\n      \"column\": \" Label\",\n      \"properties\": {\n        \"dtype\": \"category\",\n        \"num_unique_values\": 2,\n        \"samples\": [\n          \"BENIGN\",\n          \"attack\"\n        ],\n        \"semantic_type\": \"\",\n        \"description\": \"\"\n      }\n    }\n  ]\n}"
            }
          },
          "metadata": {},
          "execution_count": 2
        }
      ],
      "source": [
        "train_data=pd.read_csv('simulation5.csv') #('simulation_train_data.csv')\n",
        "train_data.head()"
      ]
    },
    {
      "cell_type": "code",
      "execution_count": null,
      "metadata": {
        "colab": {
          "base_uri": "https://localhost:8080/",
          "height": 175
        },
        "id": "NHxwqLb3pCRw",
        "outputId": "e5637abf-a5b3-42e7-9be6-a8098300bc22"
      },
      "outputs": [
        {
          "output_type": "execute_result",
          "data": {
            "text/plain": [
              "         Label\n",
              "count    16296\n",
              "unique       2\n",
              "top     BENIGN\n",
              "freq      8511"
            ],
            "text/html": [
              "\n",
              "  <div id=\"df-2725f522-a8de-43c4-ba2c-900ba3562bb6\" class=\"colab-df-container\">\n",
              "    <div>\n",
              "<style scoped>\n",
              "    .dataframe tbody tr th:only-of-type {\n",
              "        vertical-align: middle;\n",
              "    }\n",
              "\n",
              "    .dataframe tbody tr th {\n",
              "        vertical-align: top;\n",
              "    }\n",
              "\n",
              "    .dataframe thead th {\n",
              "        text-align: right;\n",
              "    }\n",
              "</style>\n",
              "<table border=\"1\" class=\"dataframe\">\n",
              "  <thead>\n",
              "    <tr style=\"text-align: right;\">\n",
              "      <th></th>\n",
              "      <th>Label</th>\n",
              "    </tr>\n",
              "  </thead>\n",
              "  <tbody>\n",
              "    <tr>\n",
              "      <th>count</th>\n",
              "      <td>16296</td>\n",
              "    </tr>\n",
              "    <tr>\n",
              "      <th>unique</th>\n",
              "      <td>2</td>\n",
              "    </tr>\n",
              "    <tr>\n",
              "      <th>top</th>\n",
              "      <td>BENIGN</td>\n",
              "    </tr>\n",
              "    <tr>\n",
              "      <th>freq</th>\n",
              "      <td>8511</td>\n",
              "    </tr>\n",
              "  </tbody>\n",
              "</table>\n",
              "</div>\n",
              "    <div class=\"colab-df-buttons\">\n",
              "\n",
              "  <div class=\"colab-df-container\">\n",
              "    <button class=\"colab-df-convert\" onclick=\"convertToInteractive('df-2725f522-a8de-43c4-ba2c-900ba3562bb6')\"\n",
              "            title=\"Convert this dataframe to an interactive table.\"\n",
              "            style=\"display:none;\">\n",
              "\n",
              "  <svg xmlns=\"http://www.w3.org/2000/svg\" height=\"24px\" viewBox=\"0 -960 960 960\">\n",
              "    <path d=\"M120-120v-720h720v720H120Zm60-500h600v-160H180v160Zm220 220h160v-160H400v160Zm0 220h160v-160H400v160ZM180-400h160v-160H180v160Zm440 0h160v-160H620v160ZM180-180h160v-160H180v160Zm440 0h160v-160H620v160Z\"/>\n",
              "  </svg>\n",
              "    </button>\n",
              "\n",
              "  <style>\n",
              "    .colab-df-container {\n",
              "      display:flex;\n",
              "      gap: 12px;\n",
              "    }\n",
              "\n",
              "    .colab-df-convert {\n",
              "      background-color: #E8F0FE;\n",
              "      border: none;\n",
              "      border-radius: 50%;\n",
              "      cursor: pointer;\n",
              "      display: none;\n",
              "      fill: #1967D2;\n",
              "      height: 32px;\n",
              "      padding: 0 0 0 0;\n",
              "      width: 32px;\n",
              "    }\n",
              "\n",
              "    .colab-df-convert:hover {\n",
              "      background-color: #E2EBFA;\n",
              "      box-shadow: 0px 1px 2px rgba(60, 64, 67, 0.3), 0px 1px 3px 1px rgba(60, 64, 67, 0.15);\n",
              "      fill: #174EA6;\n",
              "    }\n",
              "\n",
              "    .colab-df-buttons div {\n",
              "      margin-bottom: 4px;\n",
              "    }\n",
              "\n",
              "    [theme=dark] .colab-df-convert {\n",
              "      background-color: #3B4455;\n",
              "      fill: #D2E3FC;\n",
              "    }\n",
              "\n",
              "    [theme=dark] .colab-df-convert:hover {\n",
              "      background-color: #434B5C;\n",
              "      box-shadow: 0px 1px 3px 1px rgba(0, 0, 0, 0.15);\n",
              "      filter: drop-shadow(0px 1px 2px rgba(0, 0, 0, 0.3));\n",
              "      fill: #FFFFFF;\n",
              "    }\n",
              "  </style>\n",
              "\n",
              "    <script>\n",
              "      const buttonEl =\n",
              "        document.querySelector('#df-2725f522-a8de-43c4-ba2c-900ba3562bb6 button.colab-df-convert');\n",
              "      buttonEl.style.display =\n",
              "        google.colab.kernel.accessAllowed ? 'block' : 'none';\n",
              "\n",
              "      async function convertToInteractive(key) {\n",
              "        const element = document.querySelector('#df-2725f522-a8de-43c4-ba2c-900ba3562bb6');\n",
              "        const dataTable =\n",
              "          await google.colab.kernel.invokeFunction('convertToInteractive',\n",
              "                                                    [key], {});\n",
              "        if (!dataTable) return;\n",
              "\n",
              "        const docLinkHtml = 'Like what you see? Visit the ' +\n",
              "          '<a target=\"_blank\" href=https://colab.research.google.com/notebooks/data_table.ipynb>data table notebook</a>'\n",
              "          + ' to learn more about interactive tables.';\n",
              "        element.innerHTML = '';\n",
              "        dataTable['output_type'] = 'display_data';\n",
              "        await google.colab.output.renderOutput(dataTable, element);\n",
              "        const docLink = document.createElement('div');\n",
              "        docLink.innerHTML = docLinkHtml;\n",
              "        element.appendChild(docLink);\n",
              "      }\n",
              "    </script>\n",
              "  </div>\n",
              "\n",
              "\n",
              "<div id=\"df-55513cf8-77b6-4747-8617-6b4f8c859fcd\">\n",
              "  <button class=\"colab-df-quickchart\" onclick=\"quickchart('df-55513cf8-77b6-4747-8617-6b4f8c859fcd')\"\n",
              "            title=\"Suggest charts\"\n",
              "            style=\"display:none;\">\n",
              "\n",
              "<svg xmlns=\"http://www.w3.org/2000/svg\" height=\"24px\"viewBox=\"0 0 24 24\"\n",
              "     width=\"24px\">\n",
              "    <g>\n",
              "        <path d=\"M19 3H5c-1.1 0-2 .9-2 2v14c0 1.1.9 2 2 2h14c1.1 0 2-.9 2-2V5c0-1.1-.9-2-2-2zM9 17H7v-7h2v7zm4 0h-2V7h2v10zm4 0h-2v-4h2v4z\"/>\n",
              "    </g>\n",
              "</svg>\n",
              "  </button>\n",
              "\n",
              "<style>\n",
              "  .colab-df-quickchart {\n",
              "      --bg-color: #E8F0FE;\n",
              "      --fill-color: #1967D2;\n",
              "      --hover-bg-color: #E2EBFA;\n",
              "      --hover-fill-color: #174EA6;\n",
              "      --disabled-fill-color: #AAA;\n",
              "      --disabled-bg-color: #DDD;\n",
              "  }\n",
              "\n",
              "  [theme=dark] .colab-df-quickchart {\n",
              "      --bg-color: #3B4455;\n",
              "      --fill-color: #D2E3FC;\n",
              "      --hover-bg-color: #434B5C;\n",
              "      --hover-fill-color: #FFFFFF;\n",
              "      --disabled-bg-color: #3B4455;\n",
              "      --disabled-fill-color: #666;\n",
              "  }\n",
              "\n",
              "  .colab-df-quickchart {\n",
              "    background-color: var(--bg-color);\n",
              "    border: none;\n",
              "    border-radius: 50%;\n",
              "    cursor: pointer;\n",
              "    display: none;\n",
              "    fill: var(--fill-color);\n",
              "    height: 32px;\n",
              "    padding: 0;\n",
              "    width: 32px;\n",
              "  }\n",
              "\n",
              "  .colab-df-quickchart:hover {\n",
              "    background-color: var(--hover-bg-color);\n",
              "    box-shadow: 0 1px 2px rgba(60, 64, 67, 0.3), 0 1px 3px 1px rgba(60, 64, 67, 0.15);\n",
              "    fill: var(--button-hover-fill-color);\n",
              "  }\n",
              "\n",
              "  .colab-df-quickchart-complete:disabled,\n",
              "  .colab-df-quickchart-complete:disabled:hover {\n",
              "    background-color: var(--disabled-bg-color);\n",
              "    fill: var(--disabled-fill-color);\n",
              "    box-shadow: none;\n",
              "  }\n",
              "\n",
              "  .colab-df-spinner {\n",
              "    border: 2px solid var(--fill-color);\n",
              "    border-color: transparent;\n",
              "    border-bottom-color: var(--fill-color);\n",
              "    animation:\n",
              "      spin 1s steps(1) infinite;\n",
              "  }\n",
              "\n",
              "  @keyframes spin {\n",
              "    0% {\n",
              "      border-color: transparent;\n",
              "      border-bottom-color: var(--fill-color);\n",
              "      border-left-color: var(--fill-color);\n",
              "    }\n",
              "    20% {\n",
              "      border-color: transparent;\n",
              "      border-left-color: var(--fill-color);\n",
              "      border-top-color: var(--fill-color);\n",
              "    }\n",
              "    30% {\n",
              "      border-color: transparent;\n",
              "      border-left-color: var(--fill-color);\n",
              "      border-top-color: var(--fill-color);\n",
              "      border-right-color: var(--fill-color);\n",
              "    }\n",
              "    40% {\n",
              "      border-color: transparent;\n",
              "      border-right-color: var(--fill-color);\n",
              "      border-top-color: var(--fill-color);\n",
              "    }\n",
              "    60% {\n",
              "      border-color: transparent;\n",
              "      border-right-color: var(--fill-color);\n",
              "    }\n",
              "    80% {\n",
              "      border-color: transparent;\n",
              "      border-right-color: var(--fill-color);\n",
              "      border-bottom-color: var(--fill-color);\n",
              "    }\n",
              "    90% {\n",
              "      border-color: transparent;\n",
              "      border-bottom-color: var(--fill-color);\n",
              "    }\n",
              "  }\n",
              "</style>\n",
              "\n",
              "  <script>\n",
              "    async function quickchart(key) {\n",
              "      const quickchartButtonEl =\n",
              "        document.querySelector('#' + key + ' button');\n",
              "      quickchartButtonEl.disabled = true;  // To prevent multiple clicks.\n",
              "      quickchartButtonEl.classList.add('colab-df-spinner');\n",
              "      try {\n",
              "        const charts = await google.colab.kernel.invokeFunction(\n",
              "            'suggestCharts', [key], {});\n",
              "      } catch (error) {\n",
              "        console.error('Error during call to suggestCharts:', error);\n",
              "      }\n",
              "      quickchartButtonEl.classList.remove('colab-df-spinner');\n",
              "      quickchartButtonEl.classList.add('colab-df-quickchart-complete');\n",
              "    }\n",
              "    (() => {\n",
              "      let quickchartButtonEl =\n",
              "        document.querySelector('#df-55513cf8-77b6-4747-8617-6b4f8c859fcd button');\n",
              "      quickchartButtonEl.style.display =\n",
              "        google.colab.kernel.accessAllowed ? 'block' : 'none';\n",
              "    })();\n",
              "  </script>\n",
              "</div>\n",
              "\n",
              "    </div>\n",
              "  </div>\n"
            ],
            "application/vnd.google.colaboratory.intrinsic+json": {
              "type": "dataframe",
              "summary": "{\n  \"name\": \"train_data\",\n  \"rows\": 4,\n  \"fields\": [\n    {\n      \"column\": \" Label\",\n      \"properties\": {\n        \"dtype\": \"string\",\n        \"num_unique_values\": 4,\n        \"samples\": [\n          2,\n          \"8511\",\n          \"16296\"\n        ],\n        \"semantic_type\": \"\",\n        \"description\": \"\"\n      }\n    }\n  ]\n}"
            }
          },
          "metadata": {},
          "execution_count": 3
        }
      ],
      "source": [
        "train_data.describe(include='object')"
      ]
    },
    {
      "cell_type": "code",
      "execution_count": null,
      "metadata": {
        "colab": {
          "base_uri": "https://localhost:8080/"
        },
        "id": "tF3asEfEm8IP",
        "outputId": "1c49369c-5e68-4662-e2a4-a74df9248598"
      },
      "outputs": [
        {
          "output_type": "execute_result",
          "data": {
            "text/plain": [
              "Destination Port               0\n",
              "Flow Duration                  0\n",
              "Total Length of Fwd Packets    0\n",
              " Label                         0\n",
              "dtype: int64"
            ]
          },
          "metadata": {},
          "execution_count": 4
        }
      ],
      "source": [
        "train_data.isnull().sum()"
      ]
    },
    {
      "cell_type": "code",
      "execution_count": null,
      "metadata": {
        "id": "i6SEFtlgnI1C"
      },
      "outputs": [],
      "source": [
        "total = train_data.shape[0]\n",
        "missing_columns = [col for col in train_data.columns if train_data[col].isnull().sum() > 0]\n",
        "for col in missing_columns:\n",
        "    null_count = train_data[col].isnull().sum()\n",
        "    per = (null_count/total) * 100\n",
        "    print(f\"{col}: {null_count} ({round(per, 3)}%)\")"
      ]
    },
    {
      "cell_type": "code",
      "execution_count": null,
      "metadata": {
        "colab": {
          "base_uri": "https://localhost:8080/"
        },
        "id": "A9QvztuvoFWn",
        "outputId": "e471b1b7-22ae-4407-a3f6-f05595928791"
      },
      "outputs": [
        {
          "output_type": "stream",
          "name": "stdout",
          "text": [
            "<class 'pandas.core.frame.DataFrame'>\n",
            "RangeIndex: 16296 entries, 0 to 16295\n",
            "Data columns (total 4 columns):\n",
            " #   Column                       Non-Null Count  Dtype  \n",
            "---  ------                       --------------  -----  \n",
            " 0   Destination Port             16296 non-null  int64  \n",
            " 1   Flow Duration                16296 non-null  float64\n",
            " 2   Total Length of Fwd Packets  16296 non-null  int64  \n",
            " 3    Label                       16296 non-null  object \n",
            "dtypes: float64(1), int64(2), object(1)\n",
            "memory usage: 509.4+ KB\n"
          ]
        }
      ],
      "source": [
        "train_data.info()"
      ]
    },
    {
      "cell_type": "code",
      "execution_count": null,
      "metadata": {
        "colab": {
          "base_uri": "https://localhost:8080/"
        },
        "id": "qL8PX7xHnPtM",
        "outputId": "9598a656-65ba-4a41-a47a-4dfba15960d6"
      },
      "outputs": [
        {
          "output_type": "stream",
          "name": "stdout",
          "text": [
            "Number of duplicate rows: 108\n"
          ]
        }
      ],
      "source": [
        "print(f\"Number of duplicate rows: {train_data.duplicated().sum()}\")"
      ]
    },
    {
      "cell_type": "code",
      "execution_count": null,
      "metadata": {
        "id": "W25xxvRRbunX"
      },
      "outputs": [],
      "source": [
        "train_data = train_data.drop_duplicates(keep='first')"
      ]
    },
    {
      "cell_type": "code",
      "execution_count": null,
      "metadata": {
        "colab": {
          "base_uri": "https://localhost:8080/"
        },
        "id": "TLq64OMxbunY",
        "outputId": "6ffae84a-e20a-4778-e814-75d92813c483"
      },
      "outputs": [
        {
          "output_type": "stream",
          "name": "stdout",
          "text": [
            "Number of duplicate rows: 0\n"
          ]
        }
      ],
      "source": [
        "print(f\"Number of duplicate rows: {train_data.duplicated().sum()}\")"
      ]
    },
    {
      "cell_type": "code",
      "execution_count": null,
      "metadata": {
        "colab": {
          "base_uri": "https://localhost:8080/"
        },
        "id": "q9q0kD5dnVUu",
        "outputId": "b165ea13-2ef8-4bed-8aa8-4efe41b4697f"
      },
      "outputs": [
        {
          "output_type": "stream",
          "name": "stdout",
          "text": [
            "Class distribution Training set:\n",
            " Label\n",
            "BENIGN    8443\n",
            "attack    7745\n",
            "Name: count, dtype: int64\n"
          ]
        }
      ],
      "source": [
        "print('Class distribution Training set:')\n",
        "print(train_data[' Label'].value_counts())"
      ]
    },
    {
      "cell_type": "code",
      "execution_count": null,
      "metadata": {
        "colab": {
          "base_uri": "https://localhost:8080/"
        },
        "id": "AO6CIDMcpY2g",
        "outputId": "6086dd96-2912-4a26-ae85-11a40ff16281"
      },
      "outputs": [
        {
          "output_type": "stream",
          "name": "stdout",
          "text": [
            "['Destination Port', 'Flow Duration', 'Total Length of Fwd Packets', ' Label']\n"
          ]
        }
      ],
      "source": [
        "column_names = train_data.columns.tolist()\n",
        "print(column_names)"
      ]
    },
    {
      "cell_type": "code",
      "execution_count": null,
      "metadata": {
        "colab": {
          "base_uri": "https://localhost:8080/",
          "height": 542
        },
        "id": "JcxAI-gBqAKj",
        "outputId": "a85dab18-1084-413b-b4d9-f10475f21023"
      },
      "outputs": [
        {
          "output_type": "display_data",
          "data": {
            "text/plain": [
              "<Figure size 1000x600 with 1 Axes>"
            ],
            "image/png": "[encoded data removed]"
          },
          "metadata": {}
        }
      ],
      "source": [
        "plt.figure(figsize=(10, 6))\n",
        "sns.countplot(x=train_data[' Label']) #original\n",
        "plt.show()"
      ]
    },
    {
      "cell_type": "code",
      "execution_count": null,
      "metadata": {
        "id": "sXtPDfs4q8uU"
      },
      "outputs": [],
      "source": [
        "def le(df):\n",
        "    for col in df.columns:\n",
        "        if df[col].dtype == 'object':\n",
        "                label_encoder = LabelEncoder()\n",
        "                df[col] = label_encoder.fit_transform(df[col])\n",
        "\n",
        "le(train_data)\n",
        "#le(test_data)"
      ]
    },
    {
      "cell_type": "code",
      "execution_count": null,
      "metadata": {
        "colab": {
          "base_uri": "https://localhost:8080/"
        },
        "id": "d81ZLVHPsxac",
        "outputId": "f560da63-053e-477a-ae94-51d4085d84b3"
      },
      "outputs": [
        {
          "output_type": "stream",
          "name": "stdout",
          "text": [
            "Class distribution Training set:\n",
            " Label\n",
            "0    8443\n",
            "1    7745\n",
            "Name: count, dtype: int64\n"
          ]
        }
      ],
      "source": [
        "print('Class distribution Training set:')\n",
        "print(train_data[' Label'].value_counts())"
      ]
    },
    {
      "cell_type": "code",
      "execution_count": null,
      "metadata": {
        "colab": {
          "base_uri": "https://localhost:8080/",
          "height": 423
        },
        "id": "vs7TKCbHrxeB",
        "outputId": "8a88422e-187b-463b-b05c-a9d9412c67ca"
      },
      "outputs": [
        {
          "output_type": "execute_result",
          "data": {
            "text/plain": [
              "       Destination Port  Flow Duration  Total Length of Fwd Packets   Label\n",
              "0                 62179       0.000000                           66       1\n",
              "1                    80       0.183655                           66       1\n",
              "2                 62179       0.183794                           60       1\n",
              "3                     0       0.186751                          365       1\n",
              "4                    80       0.365907                           60       1\n",
              "...                 ...            ...                          ...     ...\n",
              "16291               443   22745.826730                           66       1\n",
              "16292               443   22746.027350                           60       1\n",
              "16293                 0   22746.028360                         1356       1\n",
              "16294                 0   22746.233870                          296       1\n",
              "16295               443   22746.472750                           60       1\n",
              "\n",
              "[16188 rows x 4 columns]"
            ],
            "text/html": [
              "\n",
              "  <div id=\"df-33e09fcd-36f1-4458-b939-8e5045d88039\" class=\"colab-df-container\">\n",
              "    <div>\n",
              "<style scoped>\n",
              "    .dataframe tbody tr th:only-of-type {\n",
              "        vertical-align: middle;\n",
              "    }\n",
              "\n",
              "    .dataframe tbody tr th {\n",
              "        vertical-align: top;\n",
              "    }\n",
              "\n",
              "    .dataframe thead th {\n",
              "        text-align: right;\n",
              "    }\n",
              "</style>\n",
              "<table border=\"1\" class=\"dataframe\">\n",
              "  <thead>\n",
              "    <tr style=\"text-align: right;\">\n",
              "      <th></th>\n",
              "      <th>Destination Port</th>\n",
              "      <th>Flow Duration</th>\n",
              "      <th>Total Length of Fwd Packets</th>\n",
              "      <th>Label</th>\n",
              "    </tr>\n",
              "  </thead>\n",
              "  <tbody>\n",
              "    <tr>\n",
              "      <th>0</th>\n",
              "      <td>62179</td>\n",
              "      <td>0.000000</td>\n",
              "      <td>66</td>\n",
              "      <td>1</td>\n",
              "    </tr>\n",
              "    <tr>\n",
              "      <th>1</th>\n",
              "      <td>80</td>\n",
              "      <td>0.183655</td>\n",
              "      <td>66</td>\n",
              "      <td>1</td>\n",
              "    </tr>\n",
              "    <tr>\n",
              "      <th>2</th>\n",
              "      <td>62179</td>\n",
              "      <td>0.183794</td>\n",
              "      <td>60</td>\n",
              "      <td>1</td>\n",
              "    </tr>\n",
              "    <tr>\n",
              "      <th>3</th>\n",
              "      <td>0</td>\n",
              "      <td>0.186751</td>\n",
              "      <td>365</td>\n",
              "      <td>1</td>\n",
              "    </tr>\n",
              "    <tr>\n",
              "      <th>4</th>\n",
              "      <td>80</td>\n",
              "      <td>0.365907</td>\n",
              "      <td>60</td>\n",
              "      <td>1</td>\n",
              "    </tr>\n",
              "    <tr>\n",
              "      <th>...</th>\n",
              "      <td>...</td>\n",
              "      <td>...</td>\n",
              "      <td>...</td>\n",
              "      <td>...</td>\n",
              "    </tr>\n",
              "    <tr>\n",
              "      <th>16291</th>\n",
              "      <td>443</td>\n",
              "      <td>22745.826730</td>\n",
              "      <td>66</td>\n",
              "      <td>1</td>\n",
              "    </tr>\n",
              "    <tr>\n",
              "      <th>16292</th>\n",
              "      <td>443</td>\n",
              "      <td>22746.027350</td>\n",
              "      <td>60</td>\n",
              "      <td>1</td>\n",
              "    </tr>\n",
              "    <tr>\n",
              "      <th>16293</th>\n",
              "      <td>0</td>\n",
              "      <td>22746.028360</td>\n",
              "      <td>1356</td>\n",
              "      <td>1</td>\n",
              "    </tr>\n",
              "    <tr>\n",
              "      <th>16294</th>\n",
              "      <td>0</td>\n",
              "      <td>22746.233870</td>\n",
              "      <td>296</td>\n",
              "      <td>1</td>\n",
              "    </tr>\n",
              "    <tr>\n",
              "      <th>16295</th>\n",
              "      <td>443</td>\n",
              "      <td>22746.472750</td>\n",
              "      <td>60</td>\n",
              "      <td>1</td>\n",
              "    </tr>\n",
              "  </tbody>\n",
              "</table>\n",
              "<p>16188 rows × 4 columns</p>\n",
              "</div>\n",
              "    <div class=\"colab-df-buttons\">\n",
              "\n",
              "  <div class=\"colab-df-container\">\n",
              "    <button class=\"colab-df-convert\" onclick=\"convertToInteractive('df-33e09fcd-36f1-4458-b939-8e5045d88039')\"\n",
              "            title=\"Convert this dataframe to an interactive table.\"\n",
              "            style=\"display:none;\">\n",
              "\n",
              "  <svg xmlns=\"http://www.w3.org/2000/svg\" height=\"24px\" viewBox=\"0 -960 960 960\">\n",
              "    <path d=\"M120-120v-720h720v720H120Zm60-500h600v-160H180v160Zm220 220h160v-160H400v160Zm0 220h160v-160H400v160ZM180-400h160v-160H180v160Zm440 0h160v-160H620v160ZM180-180h160v-160H180v160Zm440 0h160v-160H620v160Z\"/>\n",
              "  </svg>\n",
              "    </button>\n",
              "\n",
              "  <style>\n",
              "    .colab-df-container {\n",
              "      display:flex;\n",
              "      gap: 12px;\n",
              "    }\n",
              "\n",
              "    .colab-df-convert {\n",
              "      background-color: #E8F0FE;\n",
              "      border: none;\n",
              "      border-radius: 50%;\n",
              "      cursor: pointer;\n",
              "      display: none;\n",
              "      fill: #1967D2;\n",
              "      height: 32px;\n",
              "      padding: 0 0 0 0;\n",
              "      width: 32px;\n",
              "    }\n",
              "\n",
              "    .colab-df-convert:hover {\n",
              "      background-color: #E2EBFA;\n",
              "      box-shadow: 0px 1px 2px rgba(60, 64, 67, 0.3), 0px 1px 3px 1px rgba(60, 64, 67, 0.15);\n",
              "      fill: #174EA6;\n",
              "    }\n",
              "\n",
              "    .colab-df-buttons div {\n",
              "      margin-bottom: 4px;\n",
              "    }\n",
              "\n",
              "    [theme=dark] .colab-df-convert {\n",
              "      background-color: #3B4455;\n",
              "      fill: #D2E3FC;\n",
              "    }\n",
              "\n",
              "    [theme=dark] .colab-df-convert:hover {\n",
              "      background-color: #434B5C;\n",
              "      box-shadow: 0px 1px 3px 1px rgba(0, 0, 0, 0.15);\n",
              "      filter: drop-shadow(0px 1px 2px rgba(0, 0, 0, 0.3));\n",
              "      fill: #FFFFFF;\n",
              "    }\n",
              "  </style>\n",
              "\n",
              "    <script>\n",
              "      const buttonEl =\n",
              "        document.querySelector('#df-33e09fcd-36f1-4458-b939-8e5045d88039 button.colab-df-convert');\n",
              "      buttonEl.style.display =\n",
              "        google.colab.kernel.accessAllowed ? 'block' : 'none';\n",
              "\n",
              "      async function convertToInteractive(key) {\n",
              "        const element = document.querySelector('#df-33e09fcd-36f1-4458-b939-8e5045d88039');\n",
              "        const dataTable =\n",
              "          await google.colab.kernel.invokeFunction('convertToInteractive',\n",
              "                                                    [key], {});\n",
              "        if (!dataTable) return;\n",
              "\n",
              "        const docLinkHtml = 'Like what you see? Visit the ' +\n",
              "          '<a target=\"_blank\" href=https://colab.research.google.com/notebooks/data_table.ipynb>data table notebook</a>'\n",
              "          + ' to learn more about interactive tables.';\n",
              "        element.innerHTML = '';\n",
              "        dataTable['output_type'] = 'display_data';\n",
              "        await google.colab.output.renderOutput(dataTable, element);\n",
              "        const docLink = document.createElement('div');\n",
              "        docLink.innerHTML = docLinkHtml;\n",
              "        element.appendChild(docLink);\n",
              "      }\n",
              "    </script>\n",
              "  </div>\n",
              "\n",
              "\n",
              "<div id=\"df-8d3471ff-f051-421e-b25c-b0d943b92fc4\">\n",
              "  <button class=\"colab-df-quickchart\" onclick=\"quickchart('df-8d3471ff-f051-421e-b25c-b0d943b92fc4')\"\n",
              "            title=\"Suggest charts\"\n",
              "            style=\"display:none;\">\n",
              "\n",
              "<svg xmlns=\"http://www.w3.org/2000/svg\" height=\"24px\"viewBox=\"0 0 24 24\"\n",
              "     width=\"24px\">\n",
              "    <g>\n",
              "        <path d=\"M19 3H5c-1.1 0-2 .9-2 2v14c0 1.1.9 2 2 2h14c1.1 0 2-.9 2-2V5c0-1.1-.9-2-2-2zM9 17H7v-7h2v7zm4 0h-2V7h2v10zm4 0h-2v-4h2v4z\"/>\n",
              "    </g>\n",
              "</svg>\n",
              "  </button>\n",
              "\n",
              "<style>\n",
              "  .colab-df-quickchart {\n",
              "      --bg-color: #E8F0FE;\n",
              "      --fill-color: #1967D2;\n",
              "      --hover-bg-color: #E2EBFA;\n",
              "      --hover-fill-color: #174EA6;\n",
              "      --disabled-fill-color: #AAA;\n",
              "      --disabled-bg-color: #DDD;\n",
              "  }\n",
              "\n",
              "  [theme=dark] .colab-df-quickchart {\n",
              "      --bg-color: #3B4455;\n",
              "      --fill-color: #D2E3FC;\n",
              "      --hover-bg-color: #434B5C;\n",
              "      --hover-fill-color: #FFFFFF;\n",
              "      --disabled-bg-color: #3B4455;\n",
              "      --disabled-fill-color: #666;\n",
              "  }\n",
              "\n",
              "  .colab-df-quickchart {\n",
              "    background-color: var(--bg-color);\n",
              "    border: none;\n",
              "    border-radius: 50%;\n",
              "    cursor: pointer;\n",
              "    display: none;\n",
              "    fill: var(--fill-color);\n",
              "    height: 32px;\n",
              "    padding: 0;\n",
              "    width: 32px;\n",
              "  }\n",
              "\n",
              "  .colab-df-quickchart:hover {\n",
              "    background-color: var(--hover-bg-color);\n",
              "    box-shadow: 0 1px 2px rgba(60, 64, 67, 0.3), 0 1px 3px 1px rgba(60, 64, 67, 0.15);\n",
              "    fill: var(--button-hover-fill-color);\n",
              "  }\n",
              "\n",
              "  .colab-df-quickchart-complete:disabled,\n",
              "  .colab-df-quickchart-complete:disabled:hover {\n",
              "    background-color: var(--disabled-bg-color);\n",
              "    fill: var(--disabled-fill-color);\n",
              "    box-shadow: none;\n",
              "  }\n",
              "\n",
              "  .colab-df-spinner {\n",
              "    border: 2px solid var(--fill-color);\n",
              "    border-color: transparent;\n",
              "    border-bottom-color: var(--fill-color);\n",
              "    animation:\n",
              "      spin 1s steps(1) infinite;\n",
              "  }\n",
              "\n",
              "  @keyframes spin {\n",
              "    0% {\n",
              "      border-color: transparent;\n",
              "      border-bottom-color: var(--fill-color);\n",
              "      border-left-color: var(--fill-color);\n",
              "    }\n",
              "    20% {\n",
              "      border-color: transparent;\n",
              "      border-left-color: var(--fill-color);\n",
              "      border-top-color: var(--fill-color);\n",
              "    }\n",
              "    30% {\n",
              "      border-color: transparent;\n",
              "      border-left-color: var(--fill-color);\n",
              "      border-top-color: var(--fill-color);\n",
              "      border-right-color: var(--fill-color);\n",
              "    }\n",
              "    40% {\n",
              "      border-color: transparent;\n",
              "      border-right-color: var(--fill-color);\n",
              "      border-top-color: var(--fill-color);\n",
              "    }\n",
              "    60% {\n",
              "      border-color: transparent;\n",
              "      border-right-color: var(--fill-color);\n",
              "    }\n",
              "    80% {\n",
              "      border-color: transparent;\n",
              "      border-right-color: var(--fill-color);\n",
              "      border-bottom-color: var(--fill-color);\n",
              "    }\n",
              "    90% {\n",
              "      border-color: transparent;\n",
              "      border-bottom-color: var(--fill-color);\n",
              "    }\n",
              "  }\n",
              "</style>\n",
              "\n",
              "  <script>\n",
              "    async function quickchart(key) {\n",
              "      const quickchartButtonEl =\n",
              "        document.querySelector('#' + key + ' button');\n",
              "      quickchartButtonEl.disabled = true;  // To prevent multiple clicks.\n",
              "      quickchartButtonEl.classList.add('colab-df-spinner');\n",
              "      try {\n",
              "        const charts = await google.colab.kernel.invokeFunction(\n",
              "            'suggestCharts', [key], {});\n",
              "      } catch (error) {\n",
              "        console.error('Error during call to suggestCharts:', error);\n",
              "      }\n",
              "      quickchartButtonEl.classList.remove('colab-df-spinner');\n",
              "      quickchartButtonEl.classList.add('colab-df-quickchart-complete');\n",
              "    }\n",
              "    (() => {\n",
              "      let quickchartButtonEl =\n",
              "        document.querySelector('#df-8d3471ff-f051-421e-b25c-b0d943b92fc4 button');\n",
              "      quickchartButtonEl.style.display =\n",
              "        google.colab.kernel.accessAllowed ? 'block' : 'none';\n",
              "    })();\n",
              "  </script>\n",
              "</div>\n",
              "\n",
              "    </div>\n",
              "  </div>\n"
            ],
            "application/vnd.google.colaboratory.intrinsic+json": {
              "type": "dataframe",
              "summary": "{\n  \"name\": \"train_data\",\n  \"rows\": 16188,\n  \"fields\": [\n    {\n      \"column\": \"Destination Port\",\n      \"properties\": {\n        \"dtype\": \"number\",\n        \"std\": 28437,\n        \"min\": 0,\n        \"max\": 62653,\n        \"num_unique_values\": 484,\n        \"samples\": [\n          62462,\n          62636,\n          62530\n        ],\n        \"semantic_type\": \"\",\n        \"description\": \"\"\n      }\n    },\n    {\n      \"column\": \"Flow Duration\",\n      \"properties\": {\n        \"dtype\": \"number\",\n        \"std\": 7062.988877884323,\n        \"min\": 0.0,\n        \"max\": 22746.47275,\n        \"num_unique_values\": 15187,\n        \"samples\": [\n          22438.8006,\n          18070.15161,\n          10010.79037\n        ],\n        \"semantic_type\": \"\",\n        \"description\": \"\"\n      }\n    },\n    {\n      \"column\": \"Total Length of Fwd Packets\",\n      \"properties\": {\n        \"dtype\": \"number\",\n        \"std\": 544,\n        \"min\": 60,\n        \"max\": 1514,\n        \"num_unique_values\": 398,\n        \"samples\": [\n          666,\n          407,\n          224\n        ],\n        \"semantic_type\": \"\",\n        \"description\": \"\"\n      }\n    },\n    {\n      \"column\": \" Label\",\n      \"properties\": {\n        \"dtype\": \"number\",\n        \"std\": 0,\n        \"min\": 0,\n        \"max\": 1,\n        \"num_unique_values\": 2,\n        \"samples\": [\n          0,\n          1\n        ],\n        \"semantic_type\": \"\",\n        \"description\": \"\"\n      }\n    }\n  ]\n}"
            }
          },
          "metadata": {},
          "execution_count": 15
        }
      ],
      "source": [
        "train_data.dropna(subset=[' Label'])"
      ]
    },
    {
      "cell_type": "code",
      "execution_count": null,
      "metadata": {
        "colab": {
          "base_uri": "https://localhost:8080/"
        },
        "id": "kIvLBfowuSJF",
        "outputId": "6342eac5-58c2-4631-abbb-f5baab960a8f"
      },
      "outputs": [
        {
          "output_type": "stream",
          "name": "stdout",
          "text": [
            "Class distribution Training set:\n",
            " Label\n",
            "0    8443\n",
            "1    7745\n",
            "Name: count, dtype: int64\n"
          ]
        }
      ],
      "source": [
        "print('Class distribution Training set:')\n",
        "print(train_data[' Label'].value_counts())"
      ]
    },
    {
      "cell_type": "code",
      "execution_count": null,
      "metadata": {
        "id": "8z38TA4TvKSL"
      },
      "outputs": [],
      "source": [
        "nan_columns = train_data.columns[train_data.isna().any()].tolist()"
      ]
    },
    {
      "cell_type": "code",
      "execution_count": null,
      "metadata": {
        "colab": {
          "base_uri": "https://localhost:8080/"
        },
        "id": "G9mzDHgGvRbN",
        "outputId": "fc0f2555-2b94-4ec1-85b0-6b9e935f8351"
      },
      "outputs": [
        {
          "output_type": "stream",
          "name": "stdout",
          "text": [
            "No columns have NaN values.\n"
          ]
        }
      ],
      "source": [
        "if len(nan_columns) > 0:\n",
        "    print(\"Columns with NaN values:\")\n",
        "    for column in nan_columns:\n",
        "        print(column)\n",
        "else:\n",
        "    print(\"No columns have NaN values.\")"
      ]
    },
    {
      "cell_type": "code",
      "execution_count": null,
      "metadata": {
        "id": "AbmkhWdvveQD"
      },
      "outputs": [],
      "source": [
        "train_data.fillna(0, inplace=True)\n",
        "#test_data.fillna(0, inplace=True)"
      ]
    },
    {
      "cell_type": "code",
      "execution_count": null,
      "metadata": {
        "id": "KaqwLDWPxdHu"
      },
      "outputs": [],
      "source": [
        "train_data.replace([np.inf, -np.inf], 0, inplace=True)\n",
        "#test_data.replace([np.inf, -np.inf], 0, inplace=True)"
      ]
    },
    {
      "cell_type": "code",
      "execution_count": null,
      "metadata": {
        "colab": {
          "base_uri": "https://localhost:8080/"
        },
        "id": "BihEhnCxvli8",
        "outputId": "fb12f15f-d0fb-4ce6-9a40-2d3e61062334"
      },
      "outputs": [
        {
          "output_type": "stream",
          "name": "stdout",
          "text": [
            "Class distribution Training set:\n",
            " Label\n",
            "0    8443\n",
            "1    7745\n",
            "Name: count, dtype: int64\n"
          ]
        }
      ],
      "source": [
        "print('Class distribution Training set:')\n",
        "print(train_data[' Label'].value_counts())"
      ]
    },
    {
      "cell_type": "code",
      "execution_count": null,
      "metadata": {
        "colab": {
          "base_uri": "https://localhost:8080/"
        },
        "id": "kqT9cHvb2fmT",
        "outputId": "8f1dd5ae-93b3-4336-a87f-6cf291563280"
      },
      "outputs": [
        {
          "output_type": "stream",
          "name": "stdout",
          "text": [
            "Class distribution Training set:\n"
          ]
        }
      ],
      "source": [
        "print('Class distribution Training set:')\n",
        "#print(test_data[' Label'].value_counts())"
      ]
    },
    {
      "cell_type": "markdown",
      "metadata": {
        "id": "jl1VvDw85_ek"
      },
      "source": [
        "# Random Forest"
      ]
    },
    {
      "cell_type": "code",
      "execution_count": null,
      "metadata": {
        "id": "ceTGMTkquo6O"
      },
      "outputs": [],
      "source": [
        "X = train_data.drop([' Label'], axis=1)\n",
        "y = train_data[' Label']\n",
        "#X_train = train_data.drop([' Label'], axis=1)\n",
        "#y_train = train_data[' Label']\n",
        "#X_test = test_data.drop([' Label'], axis=1)\n",
        "#y_test = test_data[' Label']"
      ]
    },
    {
      "cell_type": "code",
      "source": [
        "X_train, X_test, y_train, y_test = train_test_split(X, y, test_size=0.3, random_state=42)\n"
      ],
      "metadata": {
        "id": "8ewPVVqnRqw4"
      },
      "execution_count": null,
      "outputs": []
    },
    {
      "cell_type": "code",
      "execution_count": null,
      "metadata": {
        "id": "_H5_tRUZbunf"
      },
      "outputs": [],
      "source": [
        "#rf_classifier = RandomForestClassifier(random_state=42) # rosay et all usa n_estimators=100 , numero de trees.\n",
        "rf_classifier = RandomForestClassifier(n_estimators=100, random_state=42)"
      ]
    },
    {
      "cell_type": "code",
      "execution_count": null,
      "metadata": {
        "colab": {
          "base_uri": "https://localhost:8080/",
          "height": 74
        },
        "id": "INxg7rusbung",
        "outputId": "641bcda1-c2ba-4955-f773-0374daa409d3"
      },
      "outputs": [
        {
          "output_type": "execute_result",
          "data": {
            "text/plain": [
              "RandomForestClassifier(random_state=42)"
            ],
            "text/html": [
              "<style>#sk-container-id-1 {color: black;background-color: white;}#sk-container-id-1 pre{padding: 0;}#sk-container-id-1 div.sk-toggleable {background-color: white;}#sk-container-id-1 label.sk-toggleable__label {cursor: pointer;display: block;width: 100%;margin-bottom: 0;padding: 0.3em;box-sizing: border-box;text-align: center;}#sk-container-id-1 label.sk-toggleable__label-arrow:before {content: \"▸\";float: left;margin-right: 0.25em;color: #696969;}#sk-container-id-1 label.sk-toggleable__label-arrow:hover:before {color: black;}#sk-container-id-1 div.sk-estimator:hover label.sk-toggleable__label-arrow:before {color: black;}#sk-container-id-1 div.sk-toggleable__content {max-height: 0;max-width: 0;overflow: hidden;text-align: left;background-color: #f0f8ff;}#sk-container-id-1 div.sk-toggleable__content pre {margin: 0.2em;color: black;border-radius: 0.25em;background-color: #f0f8ff;}#sk-container-id-1 input.sk-toggleable__control:checked~div.sk-toggleable__content {max-height: 200px;max-width: 100%;overflow: auto;}#sk-container-id-1 input.sk-toggleable__control:checked~label.sk-toggleable__label-arrow:before {content: \"▾\";}#sk-container-id-1 div.sk-estimator input.sk-toggleable__control:checked~label.sk-toggleable__label {background-color: #d4ebff;}#sk-container-id-1 div.sk-label input.sk-toggleable__control:checked~label.sk-toggleable__label {background-color: #d4ebff;}#sk-container-id-1 input.sk-hidden--visually {border: 0;clip: rect(1px 1px 1px 1px);clip: rect(1px, 1px, 1px, 1px);height: 1px;margin: -1px;overflow: hidden;padding: 0;position: absolute;width: 1px;}#sk-container-id-1 div.sk-estimator {font-family: monospace;background-color: #f0f8ff;border: 1px dotted black;border-radius: 0.25em;box-sizing: border-box;margin-bottom: 0.5em;}#sk-container-id-1 div.sk-estimator:hover {background-color: #d4ebff;}#sk-container-id-1 div.sk-parallel-item::after {content: \"\";width: 100%;border-bottom: 1px solid gray;flex-grow: 1;}#sk-container-id-1 div.sk-label:hover label.sk-toggleable__label {background-color: #d4ebff;}#sk-container-id-1 div.sk-serial::before {content: \"\";position: absolute;border-left: 1px solid gray;box-sizing: border-box;top: 0;bottom: 0;left: 50%;z-index: 0;}#sk-container-id-1 div.sk-serial {display: flex;flex-direction: column;align-items: center;background-color: white;padding-right: 0.2em;padding-left: 0.2em;position: relative;}#sk-container-id-1 div.sk-item {position: relative;z-index: 1;}#sk-container-id-1 div.sk-parallel {display: flex;align-items: stretch;justify-content: center;background-color: white;position: relative;}#sk-container-id-1 div.sk-item::before, #sk-container-id-1 div.sk-parallel-item::before {content: \"\";position: absolute;border-left: 1px solid gray;box-sizing: border-box;top: 0;bottom: 0;left: 50%;z-index: -1;}#sk-container-id-1 div.sk-parallel-item {display: flex;flex-direction: column;z-index: 1;position: relative;background-color: white;}#sk-container-id-1 div.sk-parallel-item:first-child::after {align-self: flex-end;width: 50%;}#sk-container-id-1 div.sk-parallel-item:last-child::after {align-self: flex-start;width: 50%;}#sk-container-id-1 div.sk-parallel-item:only-child::after {width: 0;}#sk-container-id-1 div.sk-dashed-wrapped {border: 1px dashed gray;margin: 0 0.4em 0.5em 0.4em;box-sizing: border-box;padding-bottom: 0.4em;background-color: white;}#sk-container-id-1 div.sk-label label {font-family: monospace;font-weight: bold;display: inline-block;line-height: 1.2em;}#sk-container-id-1 div.sk-label-container {text-align: center;}#sk-container-id-1 div.sk-container {/* jupyter's `normalize.less` sets `[hidden] { display: none; }` but bootstrap.min.css set `[hidden] { display: none !important; }` so we also need the `!important` here to be able to override the default hidden behavior on the sphinx rendered scikit-learn.org. See: https://github.com/scikit-learn/scikit-learn/issues/21755 */display: inline-block !important;position: relative;}#sk-container-id-1 div.sk-text-repr-fallback {display: none;}</style><div id=\"sk-container-id-1\" class=\"sk-top-container\"><div class=\"sk-text-repr-fallback\"><pre>RandomForestClassifier(random_state=42)</pre><b>In a Jupyter environment, please rerun this cell to show the HTML representation or trust the notebook. <br />On GitHub, the HTML representation is unable to render, please try loading this page with nbviewer.org.</b></div><div class=\"sk-container\" hidden><div class=\"sk-item\"><div class=\"sk-estimator sk-toggleable\"><input class=\"sk-toggleable__control sk-hidden--visually\" id=\"sk-estimator-id-1\" type=\"checkbox\" checked><label for=\"sk-estimator-id-1\" class=\"sk-toggleable__label sk-toggleable__label-arrow\">RandomForestClassifier</label><div class=\"sk-toggleable__content\"><pre>RandomForestClassifier(random_state=42)</pre></div></div></div></div></div>"
            ]
          },
          "metadata": {},
          "execution_count": 26
        }
      ],
      "source": [
        "rf_classifier.fit(X_train, y_train)"
      ]
    },
    {
      "cell_type": "code",
      "source": [
        "y_pred1 = rf_classifier.predict(X_train)"
      ],
      "metadata": {
        "id": "vJBUUBYZQAsj"
      },
      "execution_count": null,
      "outputs": []
    },
    {
      "cell_type": "code",
      "source": [
        "accuracy = accuracy_score(y_train, y_pred1)\n",
        "print(f'Accuracy Train: {accuracy:.2f}')\n",
        "std_deviation = np.std([accuracy])\n",
        "print(f'Std Deviation Train: {std_deviation:.2f}')"
      ],
      "metadata": {
        "colab": {
          "base_uri": "https://localhost:8080/"
        },
        "id": "qDdBvBcsQBCk",
        "outputId": "24bb2b9f-d5e4-455c-e23a-41897fe0a1cb"
      },
      "execution_count": null,
      "outputs": [
        {
          "output_type": "stream",
          "name": "stdout",
          "text": [
            "Accuracy Train: 1.00\n",
            "Std Deviation Train: 0.00\n"
          ]
        }
      ]
    },
    {
      "cell_type": "code",
      "execution_count": null,
      "metadata": {
        "id": "BczGZHqIbuni"
      },
      "outputs": [],
      "source": [
        "y_pred = rf_classifier.predict(X_test)"
      ]
    },
    {
      "cell_type": "code",
      "execution_count": null,
      "metadata": {
        "colab": {
          "base_uri": "https://localhost:8080/"
        },
        "id": "cNYumIPmxpQc",
        "outputId": "3c3357b0-ba79-42f9-bbff-fc169a16907d"
      },
      "outputs": [
        {
          "output_type": "stream",
          "name": "stdout",
          "text": [
            "Accuracy TEST: 0.96\n",
            "Std Deviation Test: 0.00\n"
          ]
        }
      ],
      "source": [
        "accuracy = accuracy_score(y_test, y_pred)\n",
        "print(f'Accuracy TEST: {accuracy:.2f}')\n",
        "std_deviation = np.std([accuracy])\n",
        "print(f'Std Deviation Test: {std_deviation:.2f}')"
      ]
    },
    {
      "cell_type": "code",
      "execution_count": null,
      "metadata": {
        "colab": {
          "base_uri": "https://localhost:8080/",
          "height": 564
        },
        "id": "UnCjYFy2bunj",
        "outputId": "1cac632e-17c9-4ab0-d04a-2edc42cac761"
      },
      "outputs": [
        {
          "output_type": "display_data",
          "data": {
            "text/plain": [
              "<Figure size 800x600 with 1 Axes>"
            ],
            "image/png": "[encoded data removed]"
          },
          "metadata": {}
        }
      ],
      "source": [
        "confusion = confusion_matrix(y_test, y_pred)\n",
        "plt.figure(figsize=(8, 6))\n",
        "sns.heatmap(confusion, annot=True, fmt='d', cmap='Blues', cbar=False)\n",
        "plt.xlabel('Predicted Labels')\n",
        "plt.ylabel('True Labels')\n",
        "plt.title('Confusion Matrix')\n",
        "plt.show()\n",
        "\n",
        "#validar porcentagem se todos os valores qu existem desta classe se estão sendo previstar como elas mesmo.\n"
      ]
    },
    {
      "cell_type": "code",
      "execution_count": null,
      "metadata": {
        "colab": {
          "base_uri": "https://localhost:8080/"
        },
        "id": "DkQXsx1hbunk",
        "outputId": "37440935-dd00-422e-b6a6-35f41044411e"
      },
      "outputs": [
        {
          "output_type": "stream",
          "name": "stdout",
          "text": [
            "Classification Report:\n",
            "              precision    recall  f1-score   support\n",
            "\n",
            "           0       0.95      0.97      0.96      2525\n",
            "           1       0.96      0.95      0.96      2332\n",
            "\n",
            "    accuracy                           0.96      4857\n",
            "   macro avg       0.96      0.96      0.96      4857\n",
            "weighted avg       0.96      0.96      0.96      4857\n",
            "\n"
          ]
        }
      ],
      "source": [
        "report = classification_report(y_test, y_pred)\n",
        "print(\"Classification Report:\")\n",
        "print(report)"
      ]
    },
    {
      "cell_type": "markdown",
      "metadata": {
        "id": "hS_4SYeb5bD2"
      },
      "source": [
        "# KNN"
      ]
    },
    {
      "cell_type": "code",
      "execution_count": null,
      "metadata": {
        "id": "MfpO47fpbunl"
      },
      "outputs": [],
      "source": [
        "knn_classifier = KNeighborsClassifier(n_neighbors=3) #rosay et all k=5; # mudar parametros de K (3,5,7,9,11,13,15) Após achar o melhor K, executa o k-folds k-10"
      ]
    },
    {
      "cell_type": "code",
      "execution_count": null,
      "metadata": {
        "colab": {
          "base_uri": "https://localhost:8080/",
          "height": 74
        },
        "id": "1XJKZTcTbunl",
        "outputId": "5a20b380-3fe3-44b5-eaff-fc3c2a737cf5"
      },
      "outputs": [
        {
          "output_type": "execute_result",
          "data": {
            "text/plain": [
              "KNeighborsClassifier(n_neighbors=3)"
            ],
            "text/html": [
              "<style>#sk-container-id-2 {color: black;background-color: white;}#sk-container-id-2 pre{padding: 0;}#sk-container-id-2 div.sk-toggleable {background-color: white;}#sk-container-id-2 label.sk-toggleable__label {cursor: pointer;display: block;width: 100%;margin-bottom: 0;padding: 0.3em;box-sizing: border-box;text-align: center;}#sk-container-id-2 label.sk-toggleable__label-arrow:before {content: \"▸\";float: left;margin-right: 0.25em;color: #696969;}#sk-container-id-2 label.sk-toggleable__label-arrow:hover:before {color: black;}#sk-container-id-2 div.sk-estimator:hover label.sk-toggleable__label-arrow:before {color: black;}#sk-container-id-2 div.sk-toggleable__content {max-height: 0;max-width: 0;overflow: hidden;text-align: left;background-color: #f0f8ff;}#sk-container-id-2 div.sk-toggleable__content pre {margin: 0.2em;color: black;border-radius: 0.25em;background-color: #f0f8ff;}#sk-container-id-2 input.sk-toggleable__control:checked~div.sk-toggleable__content {max-height: 200px;max-width: 100%;overflow: auto;}#sk-container-id-2 input.sk-toggleable__control:checked~label.sk-toggleable__label-arrow:before {content: \"▾\";}#sk-container-id-2 div.sk-estimator input.sk-toggleable__control:checked~label.sk-toggleable__label {background-color: #d4ebff;}#sk-container-id-2 div.sk-label input.sk-toggleable__control:checked~label.sk-toggleable__label {background-color: #d4ebff;}#sk-container-id-2 input.sk-hidden--visually {border: 0;clip: rect(1px 1px 1px 1px);clip: rect(1px, 1px, 1px, 1px);height: 1px;margin: -1px;overflow: hidden;padding: 0;position: absolute;width: 1px;}#sk-container-id-2 div.sk-estimator {font-family: monospace;background-color: #f0f8ff;border: 1px dotted black;border-radius: 0.25em;box-sizing: border-box;margin-bottom: 0.5em;}#sk-container-id-2 div.sk-estimator:hover {background-color: #d4ebff;}#sk-container-id-2 div.sk-parallel-item::after {content: \"\";width: 100%;border-bottom: 1px solid gray;flex-grow: 1;}#sk-container-id-2 div.sk-label:hover label.sk-toggleable__label {background-color: #d4ebff;}#sk-container-id-2 div.sk-serial::before {content: \"\";position: absolute;border-left: 1px solid gray;box-sizing: border-box;top: 0;bottom: 0;left: 50%;z-index: 0;}#sk-container-id-2 div.sk-serial {display: flex;flex-direction: column;align-items: center;background-color: white;padding-right: 0.2em;padding-left: 0.2em;position: relative;}#sk-container-id-2 div.sk-item {position: relative;z-index: 1;}#sk-container-id-2 div.sk-parallel {display: flex;align-items: stretch;justify-content: center;background-color: white;position: relative;}#sk-container-id-2 div.sk-item::before, #sk-container-id-2 div.sk-parallel-item::before {content: \"\";position: absolute;border-left: 1px solid gray;box-sizing: border-box;top: 0;bottom: 0;left: 50%;z-index: -1;}#sk-container-id-2 div.sk-parallel-item {display: flex;flex-direction: column;z-index: 1;position: relative;background-color: white;}#sk-container-id-2 div.sk-parallel-item:first-child::after {align-self: flex-end;width: 50%;}#sk-container-id-2 div.sk-parallel-item:last-child::after {align-self: flex-start;width: 50%;}#sk-container-id-2 div.sk-parallel-item:only-child::after {width: 0;}#sk-container-id-2 div.sk-dashed-wrapped {border: 1px dashed gray;margin: 0 0.4em 0.5em 0.4em;box-sizing: border-box;padding-bottom: 0.4em;background-color: white;}#sk-container-id-2 div.sk-label label {font-family: monospace;font-weight: bold;display: inline-block;line-height: 1.2em;}#sk-container-id-2 div.sk-label-container {text-align: center;}#sk-container-id-2 div.sk-container {/* jupyter's `normalize.less` sets `[hidden] { display: none; }` but bootstrap.min.css set `[hidden] { display: none !important; }` so we also need the `!important` here to be able to override the default hidden behavior on the sphinx rendered scikit-learn.org. See: https://github.com/scikit-learn/scikit-learn/issues/21755 */display: inline-block !important;position: relative;}#sk-container-id-2 div.sk-text-repr-fallback {display: none;}</style><div id=\"sk-container-id-2\" class=\"sk-top-container\"><div class=\"sk-text-repr-fallback\"><pre>KNeighborsClassifier(n_neighbors=3)</pre><b>In a Jupyter environment, please rerun this cell to show the HTML representation or trust the notebook. <br />On GitHub, the HTML representation is unable to render, please try loading this page with nbviewer.org.</b></div><div class=\"sk-container\" hidden><div class=\"sk-item\"><div class=\"sk-estimator sk-toggleable\"><input class=\"sk-toggleable__control sk-hidden--visually\" id=\"sk-estimator-id-2\" type=\"checkbox\" checked><label for=\"sk-estimator-id-2\" class=\"sk-toggleable__label sk-toggleable__label-arrow\">KNeighborsClassifier</label><div class=\"sk-toggleable__content\"><pre>KNeighborsClassifier(n_neighbors=3)</pre></div></div></div></div></div>"
            ]
          },
          "metadata": {},
          "execution_count": 34
        }
      ],
      "source": [
        "knn_classifier.fit(X_train, y_train) # k = 3 foi o melhor resultado"
      ]
    },
    {
      "cell_type": "code",
      "execution_count": null,
      "metadata": {
        "id": "x7Xw2WJYbunm"
      },
      "outputs": [],
      "source": [
        "X_train = train_data.drop([' Label'], axis=1)\n",
        "y_train = train_data[' Label']\n",
        "#X_test = test_data.drop([' Label'], axis=1)\n",
        "#y_test = test_data[' Label']"
      ]
    },
    {
      "cell_type": "code",
      "execution_count": null,
      "metadata": {
        "id": "MWpyHtXWbunn"
      },
      "outputs": [],
      "source": [
        "y_pred_train = knn_classifier.predict(X_train)"
      ]
    },
    {
      "cell_type": "code",
      "execution_count": null,
      "metadata": {
        "colab": {
          "base_uri": "https://localhost:8080/"
        },
        "id": "IQuPc6hwbunq",
        "outputId": "c26849df-10a0-4f61-9224-9f184e8d55c2"
      },
      "outputs": [
        {
          "output_type": "stream",
          "name": "stdout",
          "text": [
            "Accuracy TRAIN: 0.9279095626389918\n",
            "Std Deviation Train: 0.00\n"
          ]
        }
      ],
      "source": [
        "# Accuracy TRAIN\n",
        "accuracy = accuracy_score(y_train, y_pred_train)\n",
        "print(f'Accuracy TRAIN: {accuracy}')\n",
        "std_deviation = np.std([accuracy])\n",
        "print(f'Std Deviation Train: {std_deviation:.2f}')"
      ]
    },
    {
      "cell_type": "code",
      "execution_count": null,
      "metadata": {
        "id": "K-gUz49lbunn"
      },
      "outputs": [],
      "source": [
        "y_pred_test = knn_classifier.predict(X_test)"
      ]
    },
    {
      "cell_type": "code",
      "execution_count": null,
      "metadata": {
        "colab": {
          "base_uri": "https://localhost:8080/"
        },
        "id": "8O-emSGAbunq",
        "outputId": "aa2bda03-90fa-4915-e378-f660e035b527"
      },
      "outputs": [
        {
          "output_type": "stream",
          "name": "stdout",
          "text": [
            "Accuracy TEST: 0.8877908173769816\n",
            "Std Deviation Test: 0.00\n"
          ]
        }
      ],
      "source": [
        "# Accuracy TEST\n",
        "accuracy = accuracy_score(y_test, y_pred_test)\n",
        "print(f'Accuracy TEST: {accuracy}')\n",
        "std_deviation = np.std([accuracy])\n",
        "print(f'Std Deviation Test: {std_deviation:.2f}')"
      ]
    },
    {
      "cell_type": "code",
      "execution_count": null,
      "metadata": {
        "colab": {
          "base_uri": "https://localhost:8080/",
          "height": 613
        },
        "id": "0Xtkld8nbunq",
        "outputId": "140d9a64-4c14-4ef0-cf6d-4bc5b0b442bd"
      },
      "outputs": [
        {
          "output_type": "stream",
          "name": "stdout",
          "text": [
            "              precision    recall  f1-score   support\n",
            "\n",
            "           0       0.88      0.91      0.89      2525\n",
            "           1       0.90      0.86      0.88      2332\n",
            "\n",
            "    accuracy                           0.89      4857\n",
            "   macro avg       0.89      0.89      0.89      4857\n",
            "weighted avg       0.89      0.89      0.89      4857\n",
            "\n"
          ]
        },
        {
          "output_type": "display_data",
          "data": {
            "text/plain": [
              "<Figure size 640x480 with 2 Axes>"
            ],
            "image/png": "[encoded data removed]"
          },
          "metadata": {}
        }
      ],
      "source": [
        "cm = confusion_matrix(y_test, y_pred_test)\n",
        "\n",
        "disp = ConfusionMatrixDisplay(confusion_matrix=cm)\n",
        "disp.plot()\n",
        "print(classification_report(y_test, y_pred_test))"
      ]
    },
    {
      "cell_type": "markdown",
      "metadata": {
        "id": "BN51ChH66Cuv"
      },
      "source": [
        "# MLP Sequential Mode"
      ]
    },
    {
      "cell_type": "code",
      "execution_count": null,
      "metadata": {
        "id": "RLAiLzHT6EoG"
      },
      "outputs": [],
      "source": [
        "X_train = train_data.drop([' Label'], axis=1)\n",
        "y_train = train_data[' Label']\n",
        "#X_test = test_data.drop([' Label'], axis=1)\n",
        "#y_test = test_data[' Label']\n"
      ]
    },
    {
      "cell_type": "code",
      "execution_count": null,
      "metadata": {
        "id": "OASDZusfbunr"
      },
      "outputs": [],
      "source": [
        "scaler = StandardScaler()\n",
        "X_train = scaler.fit_transform(X_train)\n",
        "#X_test = scaler.transform(X_test)"
      ]
    },
    {
      "cell_type": "code",
      "source": [
        "input_dim = train_data.shape[1] - 1  # Subtract 1 to exclude the target variable\n",
        "print(input_dim)"
      ],
      "metadata": {
        "colab": {
          "base_uri": "https://localhost:8080/"
        },
        "id": "2-NJZKd6vUvX",
        "outputId": "fd7914ed-6050-43ea-9882-fb69cbd47f38"
      },
      "execution_count": null,
      "outputs": [
        {
          "output_type": "stream",
          "name": "stdout",
          "text": [
            "3\n"
          ]
        }
      ]
    },
    {
      "cell_type": "code",
      "execution_count": null,
      "metadata": {
        "id": "D9tOykAabunr",
        "colab": {
          "base_uri": "https://localhost:8080/"
        },
        "outputId": "06fd1a37-a3e1-4596-ea64-320734a54715"
      },
      "outputs": [
        {
          "output_type": "stream",
          "name": "stdout",
          "text": [
            "Model: \"sequential\"\n",
            "_________________________________________________________________\n",
            " Layer (type)                Output Shape              Param #   \n",
            "=================================================================\n",
            " dense (Dense)               (None, 66)                264       \n",
            "                                                                 \n",
            " dense_1 (Dense)             (None, 33)                2211      \n",
            "                                                                 \n",
            " dense_2 (Dense)             (None, 1)                 34        \n",
            "                                                                 \n",
            "=================================================================\n",
            "Total params: 2509 (9.80 KB)\n",
            "Trainable params: 2509 (9.80 KB)\n",
            "Non-trainable params: 0 (0.00 Byte)\n",
            "_________________________________________________________________\n"
          ]
        }
      ],
      "source": [
        "model = keras.Sequential([\n",
        "    layers.Input(shape=(3)),#input_dim=3\n",
        "    layers.Dense(66, activation='sigmoid', kernel_initializer='lecun_normal'),\n",
        "    layers.Dense(33, activation='sigmoid', kernel_initializer='lecun_normal'),\n",
        "    layers.Dense(1, activation='sigmoid') #sigmoid 1\n",
        "])\n",
        "# rosay et all usa duas camadas de 256 nós e 14 nós de saida (nó é um neuronio)\n",
        "#camadas densas do RNA\n",
        "#softmax\n",
        "\n",
        "# Compile the model\n",
        "model.compile(optimizer='adam', loss='binary_crossentropy', metrics=['accuracy'])\n",
        "\n",
        "# Summary of the model architecture\n",
        "model.summary()"
      ]
    },
    {
      "cell_type": "code",
      "execution_count": null,
      "metadata": {
        "colab": {
          "base_uri": "https://localhost:8080/"
        },
        "id": "GVKtimIpbuns",
        "outputId": "cb882939-2e48-4245-c272-fa669372f787"
      },
      "outputs": [
        {
          "output_type": "stream",
          "name": "stdout",
          "text": [
            "Epoch 1/125\n",
            "506/506 [==============================] - 4s 3ms/step - loss: 0.6603 - accuracy: 0.6279 - val_loss: 0.6385 - val_accuracy: 0.6566\n",
            "Epoch 2/125\n",
            "506/506 [==============================] - 2s 3ms/step - loss: 0.6466 - accuracy: 0.6427 - val_loss: 0.6324 - val_accuracy: 0.6570\n",
            "Epoch 3/125\n",
            "506/506 [==============================] - 2s 3ms/step - loss: 0.6349 - accuracy: 0.6447 - val_loss: 0.6340 - val_accuracy: 0.6576\n",
            "Epoch 4/125\n",
            "506/506 [==============================] - 2s 3ms/step - loss: 0.6172 - accuracy: 0.6539 - val_loss: 0.6354 - val_accuracy: 0.6724\n",
            "Epoch 5/125\n",
            "506/506 [==============================] - 2s 3ms/step - loss: 0.6004 - accuracy: 0.6488 - val_loss: 0.6663 - val_accuracy: 0.5728\n",
            "Epoch 6/125\n",
            "506/506 [==============================] - 2s 3ms/step - loss: 0.5883 - accuracy: 0.6486 - val_loss: 0.7017 - val_accuracy: 0.5201\n",
            "Epoch 7/125\n",
            "506/506 [==============================] - 2s 3ms/step - loss: 0.5813 - accuracy: 0.6637 - val_loss: 0.7037 - val_accuracy: 0.5199\n",
            "Epoch 8/125\n",
            "506/506 [==============================] - 2s 3ms/step - loss: 0.5768 - accuracy: 0.6722 - val_loss: 0.7154 - val_accuracy: 0.5199\n",
            "Epoch 9/125\n",
            "506/506 [==============================] - 2s 3ms/step - loss: 0.5741 - accuracy: 0.6788 - val_loss: 0.7216 - val_accuracy: 0.5199\n",
            "Epoch 10/125\n",
            "506/506 [==============================] - 2s 3ms/step - loss: 0.5716 - accuracy: 0.6811 - val_loss: 0.7205 - val_accuracy: 0.5199\n",
            "Epoch 11/125\n",
            "506/506 [==============================] - 2s 3ms/step - loss: 0.5700 - accuracy: 0.6833 - val_loss: 0.7242 - val_accuracy: 0.5199\n",
            "Epoch 12/125\n",
            "506/506 [==============================] - 2s 3ms/step - loss: 0.5689 - accuracy: 0.6838 - val_loss: 0.7232 - val_accuracy: 0.5199\n",
            "Epoch 13/125\n",
            "506/506 [==============================] - 2s 3ms/step - loss: 0.5677 - accuracy: 0.6845 - val_loss: 0.7166 - val_accuracy: 0.5199\n",
            "Epoch 14/125\n",
            "506/506 [==============================] - 2s 3ms/step - loss: 0.5670 - accuracy: 0.6848 - val_loss: 0.7338 - val_accuracy: 0.5199\n",
            "Epoch 15/125\n",
            "506/506 [==============================] - 2s 3ms/step - loss: 0.5659 - accuracy: 0.6858 - val_loss: 0.7244 - val_accuracy: 0.5199\n",
            "Epoch 16/125\n",
            "506/506 [==============================] - 2s 3ms/step - loss: 0.5655 - accuracy: 0.6864 - val_loss: 0.7228 - val_accuracy: 0.5205\n",
            "Epoch 17/125\n",
            "506/506 [==============================] - 2s 3ms/step - loss: 0.5647 - accuracy: 0.6866 - val_loss: 0.7615 - val_accuracy: 0.5199\n",
            "Epoch 18/125\n",
            "506/506 [==============================] - 2s 3ms/step - loss: 0.5642 - accuracy: 0.6874 - val_loss: 0.7448 - val_accuracy: 0.5199\n",
            "Epoch 19/125\n",
            "506/506 [==============================] - 2s 3ms/step - loss: 0.5633 - accuracy: 0.6874 - val_loss: 0.7657 - val_accuracy: 0.5199\n",
            "Epoch 20/125\n",
            "506/506 [==============================] - 2s 3ms/step - loss: 0.5629 - accuracy: 0.6881 - val_loss: 0.7637 - val_accuracy: 0.5199\n",
            "Epoch 21/125\n",
            "506/506 [==============================] - 2s 3ms/step - loss: 0.5622 - accuracy: 0.6882 - val_loss: 0.7606 - val_accuracy: 0.5199\n",
            "Epoch 22/125\n",
            "506/506 [==============================] - 2s 3ms/step - loss: 0.5619 - accuracy: 0.6870 - val_loss: 0.7929 - val_accuracy: 0.5199\n",
            "Epoch 23/125\n",
            "506/506 [==============================] - 2s 3ms/step - loss: 0.5610 - accuracy: 0.6874 - val_loss: 0.7891 - val_accuracy: 0.5199\n",
            "Epoch 24/125\n",
            "506/506 [==============================] - 2s 3ms/step - loss: 0.5602 - accuracy: 0.6865 - val_loss: 0.7967 - val_accuracy: 0.5199\n",
            "Epoch 25/125\n",
            "506/506 [==============================] - 2s 3ms/step - loss: 0.5591 - accuracy: 0.6863 - val_loss: 0.7892 - val_accuracy: 0.5199\n",
            "Epoch 26/125\n",
            "506/506 [==============================] - 2s 3ms/step - loss: 0.5582 - accuracy: 0.6833 - val_loss: 0.8332 - val_accuracy: 0.5199\n",
            "Epoch 27/125\n",
            "506/506 [==============================] - 2s 3ms/step - loss: 0.5569 - accuracy: 0.6827 - val_loss: 0.8176 - val_accuracy: 0.5199\n",
            "Epoch 28/125\n",
            "506/506 [==============================] - 2s 3ms/step - loss: 0.5555 - accuracy: 0.6833 - val_loss: 0.8196 - val_accuracy: 0.5199\n",
            "Epoch 29/125\n",
            "506/506 [==============================] - 2s 3ms/step - loss: 0.5542 - accuracy: 0.6827 - val_loss: 0.8492 - val_accuracy: 0.5199\n",
            "Epoch 30/125\n",
            "506/506 [==============================] - 2s 3ms/step - loss: 0.5522 - accuracy: 0.6815 - val_loss: 0.8566 - val_accuracy: 0.5199\n",
            "Epoch 31/125\n",
            "506/506 [==============================] - 2s 3ms/step - loss: 0.5500 - accuracy: 0.6828 - val_loss: 0.8518 - val_accuracy: 0.5199\n",
            "Epoch 32/125\n",
            "506/506 [==============================] - 2s 3ms/step - loss: 0.5472 - accuracy: 0.6877 - val_loss: 0.8545 - val_accuracy: 0.5199\n",
            "Epoch 33/125\n",
            "506/506 [==============================] - 2s 3ms/step - loss: 0.5453 - accuracy: 0.6935 - val_loss: 0.8674 - val_accuracy: 0.5199\n",
            "Epoch 34/125\n",
            "506/506 [==============================] - 2s 3ms/step - loss: 0.5421 - accuracy: 0.6952 - val_loss: 0.8819 - val_accuracy: 0.5199\n",
            "Epoch 35/125\n",
            "506/506 [==============================] - 2s 3ms/step - loss: 0.5400 - accuracy: 0.6998 - val_loss: 0.8985 - val_accuracy: 0.5199\n",
            "Epoch 36/125\n",
            "506/506 [==============================] - 2s 3ms/step - loss: 0.5379 - accuracy: 0.7015 - val_loss: 0.9259 - val_accuracy: 0.5199\n",
            "Epoch 37/125\n",
            "506/506 [==============================] - 2s 3ms/step - loss: 0.5356 - accuracy: 0.7040 - val_loss: 0.9135 - val_accuracy: 0.5199\n",
            "Epoch 38/125\n",
            "506/506 [==============================] - 2s 3ms/step - loss: 0.5337 - accuracy: 0.7047 - val_loss: 0.9662 - val_accuracy: 0.5199\n",
            "Epoch 39/125\n",
            "506/506 [==============================] - 2s 3ms/step - loss: 0.5314 - accuracy: 0.7047 - val_loss: 1.0312 - val_accuracy: 0.5199\n",
            "Epoch 40/125\n",
            "506/506 [==============================] - 2s 3ms/step - loss: 0.5298 - accuracy: 0.7062 - val_loss: 0.9891 - val_accuracy: 0.5199\n",
            "Epoch 41/125\n",
            "506/506 [==============================] - 2s 3ms/step - loss: 0.5282 - accuracy: 0.7091 - val_loss: 1.0064 - val_accuracy: 0.5199\n",
            "Epoch 42/125\n",
            "506/506 [==============================] - 2s 3ms/step - loss: 0.5266 - accuracy: 0.7084 - val_loss: 1.0843 - val_accuracy: 0.5199\n",
            "Epoch 43/125\n",
            "506/506 [==============================] - 2s 3ms/step - loss: 0.5254 - accuracy: 0.7100 - val_loss: 1.1593 - val_accuracy: 0.5199\n",
            "Epoch 44/125\n",
            "506/506 [==============================] - 2s 3ms/step - loss: 0.5238 - accuracy: 0.7106 - val_loss: 1.1823 - val_accuracy: 0.5199\n",
            "Epoch 45/125\n",
            "506/506 [==============================] - 2s 3ms/step - loss: 0.5224 - accuracy: 0.7130 - val_loss: 1.2205 - val_accuracy: 0.5199\n",
            "Epoch 46/125\n",
            "506/506 [==============================] - 2s 3ms/step - loss: 0.5214 - accuracy: 0.7159 - val_loss: 1.2341 - val_accuracy: 0.5199\n",
            "Epoch 47/125\n",
            "506/506 [==============================] - 2s 3ms/step - loss: 0.5201 - accuracy: 0.7142 - val_loss: 1.3078 - val_accuracy: 0.5199\n",
            "Epoch 48/125\n",
            "506/506 [==============================] - 2s 3ms/step - loss: 0.5194 - accuracy: 0.7153 - val_loss: 1.3376 - val_accuracy: 0.5199\n",
            "Epoch 49/125\n",
            "506/506 [==============================] - 2s 3ms/step - loss: 0.5187 - accuracy: 0.7168 - val_loss: 1.3490 - val_accuracy: 0.5199\n",
            "Epoch 50/125\n",
            "506/506 [==============================] - 2s 3ms/step - loss: 0.5173 - accuracy: 0.7191 - val_loss: 1.4033 - val_accuracy: 0.5199\n",
            "Epoch 51/125\n",
            "506/506 [==============================] - 2s 3ms/step - loss: 0.5168 - accuracy: 0.7178 - val_loss: 1.4430 - val_accuracy: 0.5199\n",
            "Epoch 52/125\n",
            "506/506 [==============================] - 2s 3ms/step - loss: 0.5162 - accuracy: 0.7187 - val_loss: 1.4762 - val_accuracy: 0.5199\n",
            "Epoch 53/125\n",
            "506/506 [==============================] - 2s 3ms/step - loss: 0.5159 - accuracy: 0.7197 - val_loss: 1.4756 - val_accuracy: 0.5199\n",
            "Epoch 54/125\n",
            "506/506 [==============================] - 2s 3ms/step - loss: 0.5149 - accuracy: 0.7202 - val_loss: 1.5044 - val_accuracy: 0.5199\n",
            "Epoch 55/125\n",
            "506/506 [==============================] - 2s 3ms/step - loss: 0.5144 - accuracy: 0.7219 - val_loss: 1.5560 - val_accuracy: 0.5199\n",
            "Epoch 56/125\n",
            "506/506 [==============================] - 2s 3ms/step - loss: 0.5137 - accuracy: 0.7236 - val_loss: 1.5068 - val_accuracy: 0.5199\n",
            "Epoch 57/125\n",
            "506/506 [==============================] - 2s 3ms/step - loss: 0.5139 - accuracy: 0.7198 - val_loss: 1.4678 - val_accuracy: 0.5199\n",
            "Epoch 58/125\n",
            "506/506 [==============================] - 2s 3ms/step - loss: 0.5126 - accuracy: 0.7233 - val_loss: 1.6095 - val_accuracy: 0.5199\n",
            "Epoch 59/125\n",
            "506/506 [==============================] - 2s 3ms/step - loss: 0.5122 - accuracy: 0.7221 - val_loss: 1.5867 - val_accuracy: 0.5199\n",
            "Epoch 60/125\n",
            "506/506 [==============================] - 2s 3ms/step - loss: 0.5113 - accuracy: 0.7255 - val_loss: 1.6103 - val_accuracy: 0.5199\n",
            "Epoch 61/125\n",
            "506/506 [==============================] - 2s 3ms/step - loss: 0.5116 - accuracy: 0.7236 - val_loss: 1.5613 - val_accuracy: 0.5199\n",
            "Epoch 62/125\n",
            "506/506 [==============================] - 2s 3ms/step - loss: 0.5110 - accuracy: 0.7230 - val_loss: 1.6759 - val_accuracy: 0.5199\n",
            "Epoch 63/125\n",
            "506/506 [==============================] - 2s 3ms/step - loss: 0.5105 - accuracy: 0.7254 - val_loss: 1.6332 - val_accuracy: 0.5199\n",
            "Epoch 64/125\n",
            "506/506 [==============================] - 2s 3ms/step - loss: 0.5099 - accuracy: 0.7263 - val_loss: 1.6634 - val_accuracy: 0.5199\n",
            "Epoch 65/125\n",
            "506/506 [==============================] - 2s 3ms/step - loss: 0.5096 - accuracy: 0.7248 - val_loss: 1.6729 - val_accuracy: 0.5199\n",
            "Epoch 66/125\n",
            "506/506 [==============================] - 2s 3ms/step - loss: 0.5092 - accuracy: 0.7279 - val_loss: 1.6047 - val_accuracy: 0.5199\n",
            "Epoch 67/125\n",
            "506/506 [==============================] - 2s 3ms/step - loss: 0.5085 - accuracy: 0.7260 - val_loss: 1.6272 - val_accuracy: 0.5199\n",
            "Epoch 68/125\n",
            "506/506 [==============================] - 2s 3ms/step - loss: 0.5083 - accuracy: 0.7322 - val_loss: 1.5690 - val_accuracy: 0.5199\n",
            "Epoch 69/125\n",
            "506/506 [==============================] - 2s 3ms/step - loss: 0.5077 - accuracy: 0.7264 - val_loss: 1.6669 - val_accuracy: 0.5199\n",
            "Epoch 70/125\n",
            "506/506 [==============================] - 2s 3ms/step - loss: 0.5072 - accuracy: 0.7281 - val_loss: 1.6773 - val_accuracy: 0.4834\n",
            "Epoch 71/125\n",
            "506/506 [==============================] - 2s 3ms/step - loss: 0.5071 - accuracy: 0.7307 - val_loss: 1.6545 - val_accuracy: 0.5190\n",
            "Epoch 72/125\n",
            "506/506 [==============================] - 2s 3ms/step - loss: 0.5065 - accuracy: 0.7318 - val_loss: 1.7011 - val_accuracy: 0.5199\n",
            "Epoch 73/125\n",
            "506/506 [==============================] - 2s 3ms/step - loss: 0.5061 - accuracy: 0.7313 - val_loss: 1.6945 - val_accuracy: 0.5199\n",
            "Epoch 74/125\n",
            "506/506 [==============================] - 2s 3ms/step - loss: 0.5051 - accuracy: 0.7333 - val_loss: 1.7157 - val_accuracy: 0.5199\n",
            "Epoch 75/125\n",
            "506/506 [==============================] - 2s 3ms/step - loss: 0.5045 - accuracy: 0.7347 - val_loss: 1.6346 - val_accuracy: 0.5180\n",
            "Epoch 76/125\n",
            "506/506 [==============================] - 2s 3ms/step - loss: 0.5040 - accuracy: 0.7346 - val_loss: 1.6774 - val_accuracy: 0.5180\n",
            "Epoch 77/125\n",
            "506/506 [==============================] - 2s 3ms/step - loss: 0.5028 - accuracy: 0.7335 - val_loss: 1.6950 - val_accuracy: 0.4801\n",
            "Epoch 78/125\n",
            "506/506 [==============================] - 2s 3ms/step - loss: 0.5018 - accuracy: 0.7367 - val_loss: 1.7220 - val_accuracy: 0.5182\n",
            "Epoch 79/125\n",
            "506/506 [==============================] - 2s 3ms/step - loss: 0.5010 - accuracy: 0.7360 - val_loss: 1.7494 - val_accuracy: 0.5186\n",
            "Epoch 80/125\n",
            "506/506 [==============================] - 2s 3ms/step - loss: 0.5013 - accuracy: 0.7354 - val_loss: 1.7323 - val_accuracy: 0.4501\n",
            "Epoch 81/125\n",
            "506/506 [==============================] - 2s 3ms/step - loss: 0.5004 - accuracy: 0.7371 - val_loss: 1.8307 - val_accuracy: 0.4527\n",
            "Epoch 82/125\n",
            "506/506 [==============================] - 2s 3ms/step - loss: 0.4996 - accuracy: 0.7349 - val_loss: 1.7978 - val_accuracy: 0.5252\n",
            "Epoch 83/125\n",
            "506/506 [==============================] - 2s 3ms/step - loss: 0.4991 - accuracy: 0.7366 - val_loss: 1.8503 - val_accuracy: 0.5244\n",
            "Epoch 84/125\n",
            "506/506 [==============================] - 2s 3ms/step - loss: 0.4982 - accuracy: 0.7380 - val_loss: 1.8933 - val_accuracy: 0.5199\n",
            "Epoch 85/125\n",
            "506/506 [==============================] - 2s 3ms/step - loss: 0.4978 - accuracy: 0.7376 - val_loss: 1.9331 - val_accuracy: 0.5108\n",
            "Epoch 86/125\n",
            "506/506 [==============================] - 2s 3ms/step - loss: 0.4968 - accuracy: 0.7364 - val_loss: 1.9376 - val_accuracy: 0.4315\n",
            "Epoch 87/125\n",
            "506/506 [==============================] - 2s 3ms/step - loss: 0.4965 - accuracy: 0.7359 - val_loss: 2.0620 - val_accuracy: 0.5106\n",
            "Epoch 88/125\n",
            "506/506 [==============================] - 2s 3ms/step - loss: 0.4957 - accuracy: 0.7372 - val_loss: 2.0982 - val_accuracy: 0.4280\n",
            "Epoch 89/125\n",
            "506/506 [==============================] - 2s 3ms/step - loss: 0.4948 - accuracy: 0.7389 - val_loss: 2.0962 - val_accuracy: 0.5001\n",
            "Epoch 90/125\n",
            "506/506 [==============================] - 2s 3ms/step - loss: 0.4944 - accuracy: 0.7359 - val_loss: 2.1180 - val_accuracy: 0.4280\n",
            "Epoch 91/125\n",
            "506/506 [==============================] - 2s 3ms/step - loss: 0.4941 - accuracy: 0.7385 - val_loss: 2.1889 - val_accuracy: 0.4268\n",
            "Epoch 92/125\n",
            "506/506 [==============================] - 2s 3ms/step - loss: 0.4932 - accuracy: 0.7375 - val_loss: 2.2302 - val_accuracy: 0.5005\n",
            "Epoch 93/125\n",
            "506/506 [==============================] - 2s 3ms/step - loss: 0.4927 - accuracy: 0.7370 - val_loss: 2.2393 - val_accuracy: 0.4999\n",
            "Epoch 94/125\n",
            "506/506 [==============================] - 2s 3ms/step - loss: 0.4922 - accuracy: 0.7396 - val_loss: 2.3158 - val_accuracy: 0.5001\n",
            "Epoch 95/125\n",
            "506/506 [==============================] - 2s 3ms/step - loss: 0.4917 - accuracy: 0.7367 - val_loss: 2.3620 - val_accuracy: 0.5013\n",
            "Epoch 96/125\n",
            "506/506 [==============================] - 2s 3ms/step - loss: 0.4912 - accuracy: 0.7381 - val_loss: 2.3805 - val_accuracy: 0.3436\n",
            "Epoch 97/125\n",
            "506/506 [==============================] - 2s 3ms/step - loss: 0.4909 - accuracy: 0.7378 - val_loss: 2.4724 - val_accuracy: 0.5015\n",
            "Epoch 98/125\n",
            "506/506 [==============================] - 2s 3ms/step - loss: 0.4897 - accuracy: 0.7392 - val_loss: 2.4811 - val_accuracy: 0.5018\n",
            "Epoch 99/125\n",
            "506/506 [==============================] - 2s 3ms/step - loss: 0.4897 - accuracy: 0.7389 - val_loss: 2.4590 - val_accuracy: 0.5003\n",
            "Epoch 100/125\n",
            "506/506 [==============================] - 2s 3ms/step - loss: 0.4890 - accuracy: 0.7415 - val_loss: 2.5919 - val_accuracy: 0.5018\n",
            "Epoch 101/125\n",
            "506/506 [==============================] - 2s 3ms/step - loss: 0.4884 - accuracy: 0.7401 - val_loss: 2.6013 - val_accuracy: 0.4991\n",
            "Epoch 102/125\n",
            "506/506 [==============================] - 2s 3ms/step - loss: 0.4881 - accuracy: 0.7400 - val_loss: 2.5380 - val_accuracy: 0.4980\n",
            "Epoch 103/125\n",
            "506/506 [==============================] - 2s 3ms/step - loss: 0.4880 - accuracy: 0.7380 - val_loss: 2.6289 - val_accuracy: 0.4970\n",
            "Epoch 104/125\n",
            "506/506 [==============================] - 2s 3ms/step - loss: 0.4872 - accuracy: 0.7391 - val_loss: 2.6199 - val_accuracy: 0.4962\n",
            "Epoch 105/125\n",
            "506/506 [==============================] - 2s 3ms/step - loss: 0.4868 - accuracy: 0.7406 - val_loss: 2.4940 - val_accuracy: 0.3436\n",
            "Epoch 106/125\n",
            "506/506 [==============================] - 2s 3ms/step - loss: 0.4865 - accuracy: 0.7423 - val_loss: 2.4125 - val_accuracy: 0.4960\n",
            "Epoch 107/125\n",
            "506/506 [==============================] - 2s 3ms/step - loss: 0.4860 - accuracy: 0.7397 - val_loss: 2.5099 - val_accuracy: 0.3438\n",
            "Epoch 108/125\n",
            "506/506 [==============================] - 2s 3ms/step - loss: 0.4851 - accuracy: 0.7436 - val_loss: 2.4981 - val_accuracy: 0.4943\n",
            "Epoch 109/125\n",
            "506/506 [==============================] - 2s 3ms/step - loss: 0.4853 - accuracy: 0.7401 - val_loss: 2.4859 - val_accuracy: 0.3430\n",
            "Epoch 110/125\n",
            "506/506 [==============================] - 2s 3ms/step - loss: 0.4848 - accuracy: 0.7423 - val_loss: 2.5142 - val_accuracy: 0.4943\n",
            "Epoch 111/125\n",
            "506/506 [==============================] - 2s 3ms/step - loss: 0.4839 - accuracy: 0.7428 - val_loss: 2.4929 - val_accuracy: 0.4999\n",
            "Epoch 112/125\n",
            "506/506 [==============================] - 2s 3ms/step - loss: 0.4836 - accuracy: 0.7430 - val_loss: 2.4471 - val_accuracy: 0.4999\n",
            "Epoch 113/125\n",
            "506/506 [==============================] - 2s 3ms/step - loss: 0.4833 - accuracy: 0.7414 - val_loss: 2.5457 - val_accuracy: 0.4989\n",
            "Epoch 114/125\n",
            "506/506 [==============================] - 2s 3ms/step - loss: 0.4828 - accuracy: 0.7442 - val_loss: 2.5397 - val_accuracy: 0.3457\n",
            "Epoch 115/125\n",
            "506/506 [==============================] - 2s 3ms/step - loss: 0.4826 - accuracy: 0.7461 - val_loss: 2.5435 - val_accuracy: 0.4908\n",
            "Epoch 116/125\n",
            "506/506 [==============================] - 2s 3ms/step - loss: 0.4826 - accuracy: 0.7437 - val_loss: 2.5108 - val_accuracy: 0.4972\n",
            "Epoch 117/125\n",
            "506/506 [==============================] - 2s 3ms/step - loss: 0.4820 - accuracy: 0.7444 - val_loss: 2.4661 - val_accuracy: 0.4966\n",
            "Epoch 118/125\n",
            "506/506 [==============================] - 2s 3ms/step - loss: 0.4813 - accuracy: 0.7433 - val_loss: 2.5765 - val_accuracy: 0.4884\n",
            "Epoch 119/125\n",
            "506/506 [==============================] - 2s 3ms/step - loss: 0.4811 - accuracy: 0.7436 - val_loss: 2.5690 - val_accuracy: 0.4974\n",
            "Epoch 120/125\n",
            "506/506 [==============================] - 2s 3ms/step - loss: 0.4813 - accuracy: 0.7431 - val_loss: 2.5094 - val_accuracy: 0.4978\n",
            "Epoch 121/125\n",
            "506/506 [==============================] - 2s 3ms/step - loss: 0.4808 - accuracy: 0.7443 - val_loss: 2.5121 - val_accuracy: 0.3537\n",
            "Epoch 122/125\n",
            "506/506 [==============================] - 2s 3ms/step - loss: 0.4805 - accuracy: 0.7452 - val_loss: 2.5126 - val_accuracy: 0.5065\n",
            "Epoch 123/125\n",
            "506/506 [==============================] - 2s 3ms/step - loss: 0.4802 - accuracy: 0.7443 - val_loss: 2.5305 - val_accuracy: 0.5030\n",
            "Epoch 124/125\n",
            "506/506 [==============================] - 2s 3ms/step - loss: 0.4804 - accuracy: 0.7450 - val_loss: 2.5898 - val_accuracy: 0.4960\n",
            "Epoch 125/125\n",
            "506/506 [==============================] - 2s 3ms/step - loss: 0.4796 - accuracy: 0.7446 - val_loss: 2.5557 - val_accuracy: 0.3640\n"
          ]
        }
      ],
      "source": [
        "history = model.fit(X_train, y_train, epochs=125, batch_size=32, validation_data=(X_test, y_test)) # rosay et all --> 25 epochs, 32 instances , sugetsão aumetra eposchs para 100"
      ]
    },
    {
      "cell_type": "code",
      "source": [
        "y_pred = model.predict(X_test)\n"
      ],
      "metadata": {
        "colab": {
          "base_uri": "https://localhost:8080/"
        },
        "id": "IMJVSjZYzg6s",
        "outputId": "04ed5dee-7269-4d73-b79c-9ff39e044a05"
      },
      "execution_count": null,
      "outputs": [
        {
          "output_type": "stream",
          "name": "stdout",
          "text": [
            "152/152 [==============================] - 0s 1ms/step\n"
          ]
        }
      ]
    },
    {
      "cell_type": "code",
      "source": [
        "test_loss, test_accuracy = model.evaluate(X_test, y_test)\n",
        "print(f'Test accuracy: {test_accuracy:.2f}')\n",
        "std_deviation = np.std([test_accuracy])\n",
        "print(f'Std Deviation Test: {std_deviation:.2f}')"
      ],
      "metadata": {
        "colab": {
          "base_uri": "https://localhost:8080/"
        },
        "id": "TS6GEB28l9nZ",
        "outputId": "dcf36aba-f34e-439b-da0b-ac96a40efe6d"
      },
      "execution_count": null,
      "outputs": [
        {
          "output_type": "stream",
          "name": "stdout",
          "text": [
            "152/152 [==============================] - 0s 2ms/step - loss: 2.5557 - accuracy: 0.3640\n",
            "Test accuracy: 0.36\n",
            "Std Deviation Test: 0.00\n"
          ]
        }
      ]
    },
    {
      "cell_type": "code",
      "source": [
        "y_pred_train_mlp = model.predict(X_train)"
      ],
      "metadata": {
        "id": "tWBfhcJjPrY1",
        "colab": {
          "base_uri": "https://localhost:8080/"
        },
        "outputId": "3f85a88e-ca04-4b31-8aeb-ee597347c0b5"
      },
      "execution_count": null,
      "outputs": [
        {
          "output_type": "stream",
          "name": "stdout",
          "text": [
            "506/506 [==============================] - 1s 1ms/step\n"
          ]
        }
      ]
    },
    {
      "cell_type": "code",
      "source": [
        "test_loss, train_accuracy = model.evaluate(X_train, y_train)\n",
        "print(f'Train accuracy: {train_accuracy:.2f}')\n",
        "std_deviation = np.std([train_accuracy])\n",
        "print(f'Std Deviation Train: {std_deviation:.2f}')"
      ],
      "metadata": {
        "id": "zC0YODoLPwd3",
        "colab": {
          "base_uri": "https://localhost:8080/"
        },
        "outputId": "6e370cea-fc88-4346-b90d-5be0dfa24aeb"
      },
      "execution_count": null,
      "outputs": [
        {
          "output_type": "stream",
          "name": "stdout",
          "text": [
            "506/506 [==============================] - 1s 2ms/step - loss: 0.4786 - accuracy: 0.7459\n",
            "Train accuracy: 0.75\n",
            "Std Deviation Train: 0.00\n"
          ]
        }
      ]
    },
    {
      "cell_type": "markdown",
      "metadata": {
        "id": "ob46aUlx9WXy"
      },
      "source": [
        "# MLP Random"
      ]
    },
    {
      "cell_type": "code",
      "source": [
        "from keras.layers import Input, Dense\n",
        "from keras.models import Model\n",
        "import numpy as np\n",
        "\n",
        "X_train, X_test, y_train, y_test = train_test_split(X, y, test_size=0.3, random_state=42)\n",
        "\n",
        "# Define the input layer\n",
        "input_layer = Input(shape=(3,))\n",
        "\n",
        "# Add hidden layers\n",
        "hidden_layer1 = Dense(33, activation='sigmoid')(input_layer)\n",
        "hidden_layer2 = Dense(66, activation='sigmoid')(hidden_layer1)\n",
        "\n",
        "#66 & 33 nodes foram os melhores resultados\n",
        "\n",
        "# Output layer\n",
        "output_layer = Dense(1, activation='sigmoid')(hidden_layer2)\n",
        "\n",
        "# Create the model\n",
        "model = Model(inputs=input_layer, outputs=output_layer)\n",
        "\n",
        "# Compile the model\n",
        "model.compile(optimizer='adam', loss='binary_crossentropy', metrics=['accuracy'])\n",
        "\n",
        "# Print the model summary\n",
        "model.summary()\n",
        "\n",
        "# Train the model\n",
        "model.fit(X_train, y_train, epochs=125, batch_size=32)\n",
        "\n"
      ],
      "metadata": {
        "colab": {
          "base_uri": "https://localhost:8080/"
        },
        "id": "ghgg99eNWMdE",
        "outputId": "4eee6dbc-29eb-4eee-bdc8-4d548c0f7a01"
      },
      "execution_count": null,
      "outputs": [
        {
          "output_type": "stream",
          "name": "stdout",
          "text": [
            "Model: \"model\"\n",
            "_________________________________________________________________\n",
            " Layer (type)                Output Shape              Param #   \n",
            "=================================================================\n",
            " input_2 (InputLayer)        [(None, 3)]               0         \n",
            "                                                                 \n",
            " dense_3 (Dense)             (None, 33)                132       \n",
            "                                                                 \n",
            " dense_4 (Dense)             (None, 66)                2244      \n",
            "                                                                 \n",
            " dense_5 (Dense)             (None, 1)                 67        \n",
            "                                                                 \n",
            "=================================================================\n",
            "Total params: 2443 (9.54 KB)\n",
            "Trainable params: 2443 (9.54 KB)\n",
            "Non-trainable params: 0 (0.00 Byte)\n",
            "_________________________________________________________________\n",
            "Epoch 1/125\n",
            "355/355 [==============================] - 2s 3ms/step - loss: 0.6239 - accuracy: 0.6538\n",
            "Epoch 2/125\n",
            "355/355 [==============================] - 1s 3ms/step - loss: 0.6041 - accuracy: 0.6580\n",
            "Epoch 3/125\n",
            "355/355 [==============================] - 1s 3ms/step - loss: 0.6038 - accuracy: 0.6641\n",
            "Epoch 4/125\n",
            "355/355 [==============================] - 1s 3ms/step - loss: 0.6015 - accuracy: 0.6676\n",
            "Epoch 5/125\n",
            "355/355 [==============================] - 1s 3ms/step - loss: 0.5952 - accuracy: 0.6736\n",
            "Epoch 6/125\n",
            "355/355 [==============================] - 1s 3ms/step - loss: 0.5941 - accuracy: 0.6796\n",
            "Epoch 7/125\n",
            "355/355 [==============================] - 1s 3ms/step - loss: 0.5734 - accuracy: 0.6803\n",
            "Epoch 8/125\n",
            "355/355 [==============================] - 1s 3ms/step - loss: 0.5657 - accuracy: 0.6846\n",
            "Epoch 9/125\n",
            "355/355 [==============================] - 1s 3ms/step - loss: 0.5655 - accuracy: 0.6861\n",
            "Epoch 10/125\n",
            "355/355 [==============================] - 1s 3ms/step - loss: 0.5702 - accuracy: 0.6924\n",
            "Epoch 11/125\n",
            "355/355 [==============================] - 1s 3ms/step - loss: 0.5753 - accuracy: 0.6798\n",
            "Epoch 12/125\n",
            "355/355 [==============================] - 1s 3ms/step - loss: 0.5622 - accuracy: 0.6870\n",
            "Epoch 13/125\n",
            "355/355 [==============================] - 1s 3ms/step - loss: 0.5762 - accuracy: 0.6922\n",
            "Epoch 14/125\n",
            "355/355 [==============================] - 1s 3ms/step - loss: 0.5655 - accuracy: 0.6855\n",
            "Epoch 15/125\n",
            "355/355 [==============================] - 1s 3ms/step - loss: 0.5688 - accuracy: 0.6787\n",
            "Epoch 16/125\n",
            "355/355 [==============================] - 1s 3ms/step - loss: 0.5701 - accuracy: 0.6781\n",
            "Epoch 17/125\n",
            "355/355 [==============================] - 1s 3ms/step - loss: 0.5724 - accuracy: 0.6863\n",
            "Epoch 18/125\n",
            "355/355 [==============================] - 1s 3ms/step - loss: 0.5740 - accuracy: 0.6843\n",
            "Epoch 19/125\n",
            "355/355 [==============================] - 1s 3ms/step - loss: 0.5717 - accuracy: 0.6792\n",
            "Epoch 20/125\n",
            "355/355 [==============================] - 1s 3ms/step - loss: 0.5667 - accuracy: 0.6773\n",
            "Epoch 21/125\n",
            "355/355 [==============================] - 1s 3ms/step - loss: 0.5642 - accuracy: 0.6772\n",
            "Epoch 22/125\n",
            "355/355 [==============================] - 1s 3ms/step - loss: 0.5585 - accuracy: 0.6929\n",
            "Epoch 23/125\n",
            "355/355 [==============================] - 1s 3ms/step - loss: 0.5688 - accuracy: 0.6881\n",
            "Epoch 24/125\n",
            "355/355 [==============================] - 1s 3ms/step - loss: 0.5748 - accuracy: 0.6895\n",
            "Epoch 25/125\n",
            "355/355 [==============================] - 1s 3ms/step - loss: 0.5788 - accuracy: 0.6843\n",
            "Epoch 26/125\n",
            "355/355 [==============================] - 1s 3ms/step - loss: 0.5800 - accuracy: 0.6866\n",
            "Epoch 27/125\n",
            "355/355 [==============================] - 1s 3ms/step - loss: 0.5665 - accuracy: 0.7106\n",
            "Epoch 28/125\n",
            "355/355 [==============================] - 1s 3ms/step - loss: 0.5673 - accuracy: 0.7018\n",
            "Epoch 29/125\n",
            "355/355 [==============================] - 1s 3ms/step - loss: 0.5712 - accuracy: 0.6892\n",
            "Epoch 30/125\n",
            "355/355 [==============================] - 1s 3ms/step - loss: 0.5655 - accuracy: 0.6940\n",
            "Epoch 31/125\n",
            "355/355 [==============================] - 1s 3ms/step - loss: 0.5606 - accuracy: 0.6972\n",
            "Epoch 32/125\n",
            "355/355 [==============================] - 1s 3ms/step - loss: 0.5576 - accuracy: 0.6981\n",
            "Epoch 33/125\n",
            "355/355 [==============================] - 1s 3ms/step - loss: 0.5545 - accuracy: 0.7066\n",
            "Epoch 34/125\n",
            "355/355 [==============================] - 1s 3ms/step - loss: 0.5544 - accuracy: 0.7057\n",
            "Epoch 35/125\n",
            "355/355 [==============================] - 1s 3ms/step - loss: 0.5529 - accuracy: 0.7098\n",
            "Epoch 36/125\n",
            "355/355 [==============================] - 1s 3ms/step - loss: 0.5492 - accuracy: 0.7098\n",
            "Epoch 37/125\n",
            "355/355 [==============================] - 1s 3ms/step - loss: 0.5470 - accuracy: 0.7115\n",
            "Epoch 38/125\n",
            "355/355 [==============================] - 1s 3ms/step - loss: 0.5476 - accuracy: 0.7089\n",
            "Epoch 39/125\n",
            "355/355 [==============================] - 1s 3ms/step - loss: 0.5438 - accuracy: 0.7110\n",
            "Epoch 40/125\n",
            "355/355 [==============================] - 1s 3ms/step - loss: 0.5446 - accuracy: 0.7139\n",
            "Epoch 41/125\n",
            "355/355 [==============================] - 1s 3ms/step - loss: 0.5526 - accuracy: 0.7075\n",
            "Epoch 42/125\n",
            "355/355 [==============================] - 1s 3ms/step - loss: 0.5472 - accuracy: 0.7142\n",
            "Epoch 43/125\n",
            "355/355 [==============================] - 1s 3ms/step - loss: 0.5439 - accuracy: 0.7135\n",
            "Epoch 44/125\n",
            "355/355 [==============================] - 1s 3ms/step - loss: 0.5461 - accuracy: 0.7147\n",
            "Epoch 45/125\n",
            "355/355 [==============================] - 1s 3ms/step - loss: 0.5515 - accuracy: 0.7132\n",
            "Epoch 46/125\n",
            "355/355 [==============================] - 1s 3ms/step - loss: 0.5444 - accuracy: 0.7129\n",
            "Epoch 47/125\n",
            "355/355 [==============================] - 1s 3ms/step - loss: 0.5442 - accuracy: 0.7132\n",
            "Epoch 48/125\n",
            "355/355 [==============================] - 1s 3ms/step - loss: 0.5527 - accuracy: 0.7030\n",
            "Epoch 49/125\n",
            "355/355 [==============================] - 1s 3ms/step - loss: 0.5610 - accuracy: 0.6923\n",
            "Epoch 50/125\n",
            "355/355 [==============================] - 1s 3ms/step - loss: 0.5571 - accuracy: 0.7095\n",
            "Epoch 51/125\n",
            "355/355 [==============================] - 1s 3ms/step - loss: 0.5626 - accuracy: 0.7110\n",
            "Epoch 52/125\n",
            "355/355 [==============================] - 1s 3ms/step - loss: 0.5675 - accuracy: 0.6968\n",
            "Epoch 53/125\n",
            "355/355 [==============================] - 1s 3ms/step - loss: 0.5714 - accuracy: 0.6980\n",
            "Epoch 54/125\n",
            "355/355 [==============================] - 1s 3ms/step - loss: 0.5632 - accuracy: 0.6987\n",
            "Epoch 55/125\n",
            "355/355 [==============================] - 1s 3ms/step - loss: 0.5717 - accuracy: 0.6897\n",
            "Epoch 56/125\n",
            "355/355 [==============================] - 1s 3ms/step - loss: 0.5812 - accuracy: 0.6814\n",
            "Epoch 57/125\n",
            "355/355 [==============================] - 1s 3ms/step - loss: 0.5792 - accuracy: 0.6825\n",
            "Epoch 58/125\n",
            "355/355 [==============================] - 1s 3ms/step - loss: 0.5788 - accuracy: 0.6802\n",
            "Epoch 59/125\n",
            "355/355 [==============================] - 1s 3ms/step - loss: 0.5782 - accuracy: 0.6826\n",
            "Epoch 60/125\n",
            "355/355 [==============================] - 1s 3ms/step - loss: 0.5919 - accuracy: 0.6771\n",
            "Epoch 61/125\n",
            "355/355 [==============================] - 1s 3ms/step - loss: 0.5972 - accuracy: 0.6790\n",
            "Epoch 62/125\n",
            "355/355 [==============================] - 1s 3ms/step - loss: 0.6060 - accuracy: 0.6645\n",
            "Epoch 63/125\n",
            "355/355 [==============================] - 1s 3ms/step - loss: 0.6088 - accuracy: 0.6637\n",
            "Epoch 64/125\n",
            "355/355 [==============================] - 1s 3ms/step - loss: 0.6076 - accuracy: 0.6649\n",
            "Epoch 65/125\n",
            "355/355 [==============================] - 1s 3ms/step - loss: 0.6036 - accuracy: 0.6639\n",
            "Epoch 66/125\n",
            "355/355 [==============================] - 1s 3ms/step - loss: 0.5969 - accuracy: 0.6749\n",
            "Epoch 67/125\n",
            "355/355 [==============================] - 1s 3ms/step - loss: 0.5994 - accuracy: 0.6751\n",
            "Epoch 68/125\n",
            "355/355 [==============================] - 1s 3ms/step - loss: 0.6000 - accuracy: 0.6736\n",
            "Epoch 69/125\n",
            "355/355 [==============================] - 1s 3ms/step - loss: 0.5968 - accuracy: 0.6803\n",
            "Epoch 70/125\n",
            "355/355 [==============================] - 1s 3ms/step - loss: 0.5893 - accuracy: 0.6858\n",
            "Epoch 71/125\n",
            "355/355 [==============================] - 1s 3ms/step - loss: 0.5788 - accuracy: 0.6871\n",
            "Epoch 72/125\n",
            "355/355 [==============================] - 1s 3ms/step - loss: 0.5673 - accuracy: 0.6859\n",
            "Epoch 73/125\n",
            "355/355 [==============================] - 1s 3ms/step - loss: 0.5777 - accuracy: 0.6983\n",
            "Epoch 74/125\n",
            "355/355 [==============================] - 1s 3ms/step - loss: 0.5811 - accuracy: 0.7043\n",
            "Epoch 75/125\n",
            "355/355 [==============================] - 1s 3ms/step - loss: 0.5872 - accuracy: 0.6983\n",
            "Epoch 76/125\n",
            "355/355 [==============================] - 1s 3ms/step - loss: 0.5790 - accuracy: 0.7049\n",
            "Epoch 77/125\n",
            "355/355 [==============================] - 1s 3ms/step - loss: 0.5767 - accuracy: 0.7075\n",
            "Epoch 78/125\n",
            "355/355 [==============================] - 1s 3ms/step - loss: 0.5731 - accuracy: 0.7096\n",
            "Epoch 79/125\n",
            "355/355 [==============================] - 1s 3ms/step - loss: 0.5714 - accuracy: 0.7024\n",
            "Epoch 80/125\n",
            "355/355 [==============================] - 1s 3ms/step - loss: 0.5736 - accuracy: 0.6870\n",
            "Epoch 81/125\n",
            "355/355 [==============================] - 1s 3ms/step - loss: 0.5738 - accuracy: 0.6826\n",
            "Epoch 82/125\n",
            "355/355 [==============================] - 1s 3ms/step - loss: 0.5935 - accuracy: 0.6761\n",
            "Epoch 83/125\n",
            "355/355 [==============================] - 1s 3ms/step - loss: 0.5971 - accuracy: 0.6797\n",
            "Epoch 84/125\n",
            "355/355 [==============================] - 1s 3ms/step - loss: 0.5869 - accuracy: 0.6858\n",
            "Epoch 85/125\n",
            "355/355 [==============================] - 1s 3ms/step - loss: 0.5853 - accuracy: 0.6886\n",
            "Epoch 86/125\n",
            "355/355 [==============================] - 1s 3ms/step - loss: 0.5854 - accuracy: 0.6898\n",
            "Epoch 87/125\n",
            "355/355 [==============================] - 1s 3ms/step - loss: 0.5866 - accuracy: 0.6865\n",
            "Epoch 88/125\n",
            "355/355 [==============================] - 1s 3ms/step - loss: 0.5930 - accuracy: 0.6814\n",
            "Epoch 89/125\n",
            "355/355 [==============================] - 1s 3ms/step - loss: 0.5907 - accuracy: 0.6811\n",
            "Epoch 90/125\n",
            "355/355 [==============================] - 1s 3ms/step - loss: 0.5744 - accuracy: 0.6883\n",
            "Epoch 91/125\n",
            "355/355 [==============================] - 1s 3ms/step - loss: 0.5625 - accuracy: 0.6918\n",
            "Epoch 92/125\n",
            "355/355 [==============================] - 1s 3ms/step - loss: 0.5582 - accuracy: 0.6914\n",
            "Epoch 93/125\n",
            "355/355 [==============================] - 1s 3ms/step - loss: 0.5561 - accuracy: 0.6884\n",
            "Epoch 94/125\n",
            "355/355 [==============================] - 1s 3ms/step - loss: 0.5430 - accuracy: 0.7046\n",
            "Epoch 95/125\n",
            "355/355 [==============================] - 1s 3ms/step - loss: 0.5504 - accuracy: 0.6966\n",
            "Epoch 96/125\n",
            "355/355 [==============================] - 1s 3ms/step - loss: 0.5526 - accuracy: 0.6963\n",
            "Epoch 97/125\n",
            "355/355 [==============================] - 1s 3ms/step - loss: 0.5654 - accuracy: 0.6926\n",
            "Epoch 98/125\n",
            "355/355 [==============================] - 1s 3ms/step - loss: 0.5712 - accuracy: 0.6907\n",
            "Epoch 99/125\n",
            "355/355 [==============================] - 1s 3ms/step - loss: 0.5656 - accuracy: 0.6968\n",
            "Epoch 100/125\n",
            "355/355 [==============================] - 1s 3ms/step - loss: 0.5572 - accuracy: 0.7065\n",
            "Epoch 101/125\n",
            "355/355 [==============================] - 1s 3ms/step - loss: 0.5444 - accuracy: 0.7131\n",
            "Epoch 102/125\n",
            "355/355 [==============================] - 1s 3ms/step - loss: 0.5537 - accuracy: 0.7038\n",
            "Epoch 103/125\n",
            "355/355 [==============================] - 1s 3ms/step - loss: 0.5689 - accuracy: 0.6908\n",
            "Epoch 104/125\n",
            "355/355 [==============================] - 1s 3ms/step - loss: 0.5790 - accuracy: 0.6904\n",
            "Epoch 105/125\n",
            "355/355 [==============================] - 1s 3ms/step - loss: 0.5856 - accuracy: 0.6877\n",
            "Epoch 106/125\n",
            "355/355 [==============================] - 1s 3ms/step - loss: 0.5861 - accuracy: 0.6862\n",
            "Epoch 107/125\n",
            "355/355 [==============================] - 1s 3ms/step - loss: 0.5885 - accuracy: 0.6848\n",
            "Epoch 108/125\n",
            "355/355 [==============================] - 1s 3ms/step - loss: 0.5837 - accuracy: 0.6903\n",
            "Epoch 109/125\n",
            "355/355 [==============================] - 1s 3ms/step - loss: 0.5808 - accuracy: 0.6907\n",
            "Epoch 110/125\n",
            "355/355 [==============================] - 1s 3ms/step - loss: 0.5835 - accuracy: 0.6858\n",
            "Epoch 111/125\n",
            "355/355 [==============================] - 1s 3ms/step - loss: 0.5797 - accuracy: 0.6912\n",
            "Epoch 112/125\n",
            "355/355 [==============================] - 1s 3ms/step - loss: 0.5683 - accuracy: 0.6957\n",
            "Epoch 113/125\n",
            "355/355 [==============================] - 1s 3ms/step - loss: 0.5765 - accuracy: 0.6845\n",
            "Epoch 114/125\n",
            "355/355 [==============================] - 1s 3ms/step - loss: 0.5532 - accuracy: 0.7005\n",
            "Epoch 115/125\n",
            "355/355 [==============================] - 1s 3ms/step - loss: 0.5566 - accuracy: 0.6975\n",
            "Epoch 116/125\n",
            "355/355 [==============================] - 1s 3ms/step - loss: 0.5562 - accuracy: 0.6958\n",
            "Epoch 117/125\n",
            "355/355 [==============================] - 1s 3ms/step - loss: 0.5564 - accuracy: 0.6983\n",
            "Epoch 118/125\n",
            "355/355 [==============================] - 1s 3ms/step - loss: 0.5490 - accuracy: 0.7057\n",
            "Epoch 119/125\n",
            "355/355 [==============================] - 1s 3ms/step - loss: 0.5390 - accuracy: 0.7157\n",
            "Epoch 120/125\n",
            "355/355 [==============================] - 1s 3ms/step - loss: 0.5429 - accuracy: 0.7083\n",
            "Epoch 121/125\n",
            "355/355 [==============================] - 1s 3ms/step - loss: 0.5636 - accuracy: 0.6933\n",
            "Epoch 122/125\n",
            "355/355 [==============================] - 1s 3ms/step - loss: 0.5650 - accuracy: 0.6961\n",
            "Epoch 123/125\n",
            "355/355 [==============================] - 1s 3ms/step - loss: 0.5703 - accuracy: 0.6895\n",
            "Epoch 124/125\n",
            "355/355 [==============================] - 1s 3ms/step - loss: 0.5713 - accuracy: 0.6855\n",
            "Epoch 125/125\n",
            "355/355 [==============================] - 1s 3ms/step - loss: 0.5707 - accuracy: 0.6855\n"
          ]
        },
        {
          "output_type": "execute_result",
          "data": {
            "text/plain": [
              "<keras.src.callbacks.History at 0x7d5da20ffd60>"
            ]
          },
          "metadata": {},
          "execution_count": 49
        }
      ]
    },
    {
      "cell_type": "code",
      "source": [
        "test_loss, test_accuracy = model.evaluate(X_test, y_test)\n",
        "print(f'Test accuracy: {test_accuracy:.2f}')"
      ],
      "metadata": {
        "colab": {
          "base_uri": "https://localhost:8080/"
        },
        "id": "pTKFBWYaYevJ",
        "outputId": "c4af6bfc-14b2-46c7-8190-20a82b8fd4a4"
      },
      "execution_count": null,
      "outputs": [
        {
          "output_type": "stream",
          "name": "stdout",
          "text": [
            "152/152 [==============================] - 0s 2ms/step - loss: 0.5754 - accuracy: 0.6893\n",
            "Test accuracy: 0.69\n"
          ]
        }
      ]
    },
    {
      "cell_type": "code",
      "source": [
        "test_loss, test_accuracy = model.evaluate(X_train, y_train)\n",
        "print(f'Train accuracy: {test_accuracy:.2f}')"
      ],
      "metadata": {
        "colab": {
          "base_uri": "https://localhost:8080/"
        },
        "id": "gwqtmFvlYmf1",
        "outputId": "7f267c5f-4da3-47a0-c9a8-ca1a1928adc6"
      },
      "execution_count": null,
      "outputs": [
        {
          "output_type": "stream",
          "name": "stdout",
          "text": [
            "355/355 [==============================] - 1s 2ms/step - loss: 0.5697 - accuracy: 0.6919\n",
            "Train accuracy: 0.69\n"
          ]
        }
      ]
    },
    {
      "cell_type": "markdown",
      "source": [
        "**MLP with K-FOLDS K-10**\n"
      ],
      "metadata": {
        "id": "I2BiTGCbdFZ_"
      }
    },
    {
      "cell_type": "code",
      "source": [
        "import numpy as np\n",
        "from keras.layers import Input, Dense\n",
        "from keras.models import Model\n",
        "from sklearn.model_selection import StratifiedKFold\n",
        "from sklearn.metrics import accuracy_score\n",
        "from sklearn.model_selection import KFold\n",
        "\n",
        "X = train_data.drop([' Label'], axis=1)\n",
        "y = train_data[' Label']\n",
        "\n",
        "#X_train, X_test, y_train, y_test = train_test_split(X, y, test_size=0.3, random_state=42)\n",
        "\n",
        "X = np.array (X)\n",
        "y= np.array (y)\n",
        "\n",
        "# Initialize K-Fold\n",
        "kfold = KFold(n_splits=10, shuffle=True, random_state=42)\n",
        "\n",
        "# Lists to store training and test accuracy for each fold\n",
        "train_accuracies = []\n",
        "test_accuracies = []\n",
        "\n",
        "# Perform k-fold cross-validation\n",
        "for train_index, test_index in kfold.split(X):\n",
        "    X_train, X_test = X[train_index], X[test_index]\n",
        "    y_train, y_test = y[train_index], y[test_index]\n",
        "\n",
        "    # Define the MLP model\n",
        "    input_layer = Input(shape=(3,))\n",
        "    hidden_layer1 = Dense(66, activation='relu')(input_layer)\n",
        "    hidden_layer2 = Dense(33, activation='relu')(hidden_layer1)\n",
        "    output_layer = Dense(1, activation='sigmoid')(hidden_layer2)\n",
        "\n",
        "    # Create the model\n",
        "    model = Model(inputs=input_layer, outputs=output_layer)\n",
        "    model.compile(loss='binary_crossentropy', optimizer='adam', metrics=['accuracy'])\n",
        "\n",
        "    # Train the model\n",
        "    model.fit(X_train, y_train, epochs=125, batch_size=32, verbose=0)\n",
        "\n",
        "    # Evaluate the model on training data\n",
        "    train_pred = model.predict(X_train)\n",
        "    train_pred_classes = (train_pred > 0.5).astype(int)\n",
        "    train_accuracy = accuracy_score(y_train, train_pred_classes)\n",
        "    train_accuracies.append(train_accuracy)\n",
        "\n",
        "    # Evaluate the model on test data\n",
        "    test_pred = model.predict(X_test)\n",
        "    test_pred_classes = (test_pred > 0.5).astype(int)\n",
        "    test_accuracy = accuracy_score(y_test, test_pred_classes)\n",
        "    test_accuracies.append(test_accuracy)\n",
        "\n",
        "# Print the average training accuracy across all folds\n",
        "print(\"Average Training Accuracy: {:.2f}%\".format(np.mean(train_accuracies) * 100))\n",
        "print(\"Average Training Standard Deviation: {:.2f}%\".format(np.std(train_accuracies) * 100))\n",
        "\n",
        "# Print the average Test  accuracy across all folds\n",
        "print(\"Average Test Accuracy: {:.2f}%\".format(np.mean(test_accuracies) * 100))\n",
        "print(\"Average Test Standard Deviation: {:.2f}%\".format(np.std(test_accuracies) * 100))\n"
      ],
      "metadata": {
        "colab": {
          "base_uri": "https://localhost:8080/"
        },
        "id": "ax43w84H0eGz",
        "outputId": "15c8e55b-076e-4cdb-b8f6-cd4c79250687"
      },
      "execution_count": null,
      "outputs": [
        {
          "output_type": "stream",
          "name": "stdout",
          "text": [
            "456/456 [==============================] - 1s 1ms/step\n",
            "51/51 [==============================] - 0s 1ms/step\n",
            "456/456 [==============================] - 1s 1ms/step\n",
            "51/51 [==============================] - 0s 1ms/step\n",
            "456/456 [==============================] - 1s 1ms/step\n",
            "51/51 [==============================] - 0s 1ms/step\n",
            "456/456 [==============================] - 1s 1ms/step\n",
            "51/51 [==============================] - 0s 1ms/step\n",
            "456/456 [==============================] - 1s 1ms/step\n",
            "51/51 [==============================] - 0s 1ms/step\n",
            "456/456 [==============================] - 1s 1ms/step\n",
            "51/51 [==============================] - 0s 1ms/step\n",
            "456/456 [==============================] - 1s 1ms/step\n",
            "51/51 [==============================] - 0s 1ms/step\n",
            "456/456 [==============================] - 1s 1ms/step\n",
            "51/51 [==============================] - 0s 1ms/step\n",
            "456/456 [==============================] - 1s 1ms/step\n",
            "51/51 [==============================] - 0s 1ms/step\n",
            "456/456 [==============================] - 1s 1ms/step\n",
            "51/51 [==============================] - 0s 1ms/step\n",
            "Average Training Accuracy: 69.14%\n",
            "Average Training Standard Deviation: 5.56%\n",
            "Average Test Accuracy: 69.06%\n",
            "Average Test Standard Deviation: 5.81%\n"
          ]
        }
      ]
    },
    {
      "cell_type": "markdown",
      "source": [
        "**KNN with K-Folds**"
      ],
      "metadata": {
        "id": "j1MWtxGz4UQM"
      }
    },
    {
      "cell_type": "code",
      "source": [
        "import numpy as np\n",
        "from sklearn.model_selection import KFold\n",
        "from sklearn.neighbors import KNeighborsClassifier\n",
        "from sklearn.metrics import accuracy_score\n",
        "\n",
        "X = train_data.drop([' Label'], axis=1)\n",
        "y = train_data[' Label']\n",
        "\n",
        "#X_train, X_test, y_train, y_test = train_test_split(X, y, random_state=42)\n",
        "\n",
        "#não utilizar divisão de 70/30, visto que o k-folds já faz divisão de 10 pastas em 90/10\n",
        "X = np.array (X)\n",
        "y= np.array (y)\n",
        "\n",
        "#remover aleatoriedade\n",
        "\n",
        "# Initialize K-Fold\n",
        "kfold = KFold(n_splits=10, shuffle=True, random_state=42)\n",
        "\n",
        "# Lists to store training and test accuracy for each fold\n",
        "train_accuracies = []\n",
        "test_accuracies = []\n",
        "\n",
        "# Perform k-fold cross-validation\n",
        "for train_index, test_index in kfold.split(X):\n",
        "    X_train, X_test = X[train_index], X[test_index]\n",
        "    y_train, y_test = y[train_index], y[test_index]\n",
        "\n",
        "    # Initialize KNN classifier\n",
        "    knn = KNeighborsClassifier(n_neighbors=3)\n",
        "\n",
        "    # Train the KNN classifier\n",
        "    knn.fit(X_train, y_train)\n",
        "\n",
        "    # Predict on the training data\n",
        "    train_pred = knn.predict(X_train)\n",
        "    train_accuracy = accuracy_score(y_train, train_pred)\n",
        "    train_accuracies.append(train_accuracy)\n",
        "\n",
        "    # Predict on the test data\n",
        "    test_pred = knn.predict(X_test)\n",
        "    test_accuracy = accuracy_score(y_test, test_pred)\n",
        "    test_accuracies.append(test_accuracy)\n",
        "\n",
        "    # Print training and test accuracy for each fold\n",
        "    print(\"Fold {}: Training Accuracy: {:.2f}%, Test Accuracy: {:.2f}%\".format(len(train_accuracies), train_accuracy * 100, test_accuracy * 100))\n",
        "\n",
        "# Print the average training accuracy across all folds\n",
        "print(\"Average Training Accuracy: {:.2f}%\".format(np.mean(train_accuracies) * 100))\n",
        "print(\"Average Training Standard Deviation: {:.2f}%\".format(np.std(train_accuracies) * 100))\n",
        "\n",
        "# Print the average Test  accuracy across all folds\n",
        "print(\"Average Test Accuracy: {:.2f}%\".format(np.mean(test_accuracies) * 100))\n",
        "print(\"Average Test Standard Deviation: {:.2f}%\".format(np.std(test_accuracies) * 100))\n",
        "\n"
      ],
      "metadata": {
        "colab": {
          "base_uri": "https://localhost:8080/"
        },
        "id": "RrHI50Rj4Tmz",
        "outputId": "28a0cf97-7b9a-46b6-eb45-76833a211ffa"
      },
      "execution_count": null,
      "outputs": [
        {
          "output_type": "stream",
          "name": "stdout",
          "text": [
            "Fold 1: Training Accuracy: 95.39%, Test Accuracy: 89.25%\n",
            "Fold 2: Training Accuracy: 95.50%, Test Accuracy: 89.31%\n",
            "Fold 3: Training Accuracy: 95.45%, Test Accuracy: 90.36%\n",
            "Fold 4: Training Accuracy: 95.41%, Test Accuracy: 88.45%\n",
            "Fold 5: Training Accuracy: 95.48%, Test Accuracy: 88.88%\n",
            "Fold 6: Training Accuracy: 95.57%, Test Accuracy: 88.88%\n",
            "Fold 7: Training Accuracy: 95.52%, Test Accuracy: 91.17%\n",
            "Fold 8: Training Accuracy: 95.51%, Test Accuracy: 87.52%\n",
            "Fold 9: Training Accuracy: 95.53%, Test Accuracy: 89.18%\n",
            "Fold 10: Training Accuracy: 95.44%, Test Accuracy: 89.43%\n",
            "Average Training Accuracy: 95.48%\n",
            "Average Training Standard Deviation: 0.05%\n",
            "Average Test Accuracy: 89.25%\n",
            "Average Test Standard Deviation: 0.94%\n"
          ]
        }
      ]
    },
    {
      "cell_type": "markdown",
      "source": [
        "**Random Forest With K-Folds**"
      ],
      "metadata": {
        "id": "KZ0agop24pgH"
      }
    },
    {
      "cell_type": "code",
      "source": [
        "import numpy as np\n",
        "from sklearn.model_selection import KFold\n",
        "from sklearn.ensemble import RandomForestClassifier\n",
        "from sklearn.metrics import accuracy_score\n",
        "\n",
        "X = train_data.drop([' Label'], axis=1)\n",
        "y = train_data[' Label']\n",
        "\n",
        "#X_train, X_test, y_train, y_test = train_test_split(X, y, test_size=0.3, random_state=42)\n",
        "\n",
        "X = np.array (X)\n",
        "y= np.array (y)\n",
        "\n",
        "# Initialize K-Fold\n",
        "kfold = KFold(n_splits=10, shuffle=True, random_state=42)\n",
        "\n",
        "# Lists to store training and test accuracy for each fold\n",
        "train_accuracies = []\n",
        "test_accuracies = []\n",
        "\n",
        "# Perform k-fold cross-validation\n",
        "for train_index, test_index in kfold.split(X):\n",
        "    X_train, X_test = X[train_index], X[test_index]\n",
        "    y_train, y_test = y[train_index], y[test_index]\n",
        "\n",
        "    # Initialize Random Forest classifier\n",
        "    rf_classifier = RandomForestClassifier(n_estimators=100, random_state=42)\n",
        "\n",
        "    # Train the Random Forest classifier\n",
        "    rf_classifier.fit(X_train, y_train)\n",
        "\n",
        "    # Predict on the training data\n",
        "    train_pred = rf_classifier.predict(X_train)\n",
        "    train_accuracy = accuracy_score(y_train, train_pred)\n",
        "    train_accuracies.append(train_accuracy)\n",
        "\n",
        "    # Predict on the test data\n",
        "    test_pred = rf_classifier.predict(X_test)\n",
        "    test_accuracy = accuracy_score(y_test, test_pred)\n",
        "    test_accuracies.append(test_accuracy)\n",
        "\n",
        "    # Print training and test accuracy for each fold\n",
        "    print(\"Fold {}: Training Accuracy: {:.2f}%, Test Accuracy: {:.2f}%\".format(len(train_accuracies), train_accuracy * 100, test_accuracy * 100))\n",
        "\n",
        "# Print the average Training accuracy across all folds\n",
        "print(\"Average Training Accuracy: {:.2f}%\".format(np.mean(train_accuracies) * 100))\n",
        "print(\"Average Training Standard Deviation: {:.2f}%\".format(np.std(train_accuracies) * 100))\n",
        "\n",
        "# Print the average Test  accuracy across all folds\n",
        "print(\"Average Test Accuracy: {:.2f}%\".format(np.mean(test_accuracies) * 100))\n",
        "print(\"Average Test Standard Deviation: {:.2f}%\".format(np.std(test_accuracies) * 100))\n",
        "\n"
      ],
      "metadata": {
        "colab": {
          "base_uri": "https://localhost:8080/"
        },
        "id": "LWdnKCuy4sPi",
        "outputId": "283611d8-d5ca-4852-d805-36b7f2ae6d98"
      },
      "execution_count": null,
      "outputs": [
        {
          "output_type": "stream",
          "name": "stdout",
          "text": [
            "Fold 1: Training Accuracy: 99.98%, Test Accuracy: 96.48%\n",
            "Fold 2: Training Accuracy: 99.99%, Test Accuracy: 95.92%\n",
            "Fold 3: Training Accuracy: 99.99%, Test Accuracy: 96.54%\n",
            "Fold 4: Training Accuracy: 100.00%, Test Accuracy: 95.43%\n",
            "Fold 5: Training Accuracy: 99.99%, Test Accuracy: 96.36%\n",
            "Fold 6: Training Accuracy: 99.99%, Test Accuracy: 96.85%\n",
            "Fold 7: Training Accuracy: 99.99%, Test Accuracy: 95.61%\n",
            "Fold 8: Training Accuracy: 99.99%, Test Accuracy: 96.11%\n",
            "Fold 9: Training Accuracy: 100.00%, Test Accuracy: 95.80%\n",
            "Fold 10: Training Accuracy: 99.99%, Test Accuracy: 96.23%\n",
            "Average Training Accuracy: 99.99%\n",
            "Average Training Standard Deviation: 0.01%\n",
            "Average Test Accuracy: 96.13%\n",
            "Average Test Standard Deviation: 0.42%\n"
          ]
        }
      ]
    },
    {
      "cell_type": "code",
      "source": [
        "confusion = confusion_matrix(y_test, train_pred)\n",
        "plt.figure(figsize=(8, 6))\n",
        "sns.heatmap(confusion, annot=True, fmt='d', cmap='Blues', cbar=False)\n",
        "plt.xlabel('Predicted Labels')\n",
        "plt.ylabel('True Labels')\n",
        "plt.title('Confusion Matrix')\n",
        "plt.show()"
      ],
      "metadata": {
        "colab": {
          "base_uri": "https://localhost:8080/",
          "height": 371
        },
        "id": "SrP1HZI8YOd4",
        "outputId": "f1e4a9c2-8d08-4b4a-fed3-7988a9121d1b"
      },
      "execution_count": null,
      "outputs": [
        {
          "output_type": "error",
          "ename": "ValueError",
          "evalue": "Found input variables with inconsistent numbers of samples: [1618, 14570]",
          "traceback": [
            "\u001b[0;31m---------------------------------------------------------------------------\u001b[0m",
            "\u001b[0;31mValueError\u001b[0m                                Traceback (most recent call last)",
            "\u001b[0;32m<ipython-input-26-9cbb4bf30f6e>\u001b[0m in \u001b[0;36m<cell line: 1>\u001b[0;34m()\u001b[0m\n\u001b[0;32m----> 1\u001b[0;31m \u001b[0mconfusion\u001b[0m \u001b[0;34m=\u001b[0m \u001b[0mconfusion_matrix\u001b[0m\u001b[0;34m(\u001b[0m\u001b[0my_test\u001b[0m\u001b[0;34m,\u001b[0m \u001b[0mtrain_pred\u001b[0m\u001b[0;34m)\u001b[0m\u001b[0;34m\u001b[0m\u001b[0;34m\u001b[0m\u001b[0m\n\u001b[0m\u001b[1;32m      2\u001b[0m \u001b[0mplt\u001b[0m\u001b[0;34m.\u001b[0m\u001b[0mfigure\u001b[0m\u001b[0;34m(\u001b[0m\u001b[0mfigsize\u001b[0m\u001b[0;34m=\u001b[0m\u001b[0;34m(\u001b[0m\u001b[0;36m8\u001b[0m\u001b[0;34m,\u001b[0m \u001b[0;36m6\u001b[0m\u001b[0;34m)\u001b[0m\u001b[0;34m)\u001b[0m\u001b[0;34m\u001b[0m\u001b[0;34m\u001b[0m\u001b[0m\n\u001b[1;32m      3\u001b[0m \u001b[0msns\u001b[0m\u001b[0;34m.\u001b[0m\u001b[0mheatmap\u001b[0m\u001b[0;34m(\u001b[0m\u001b[0mconfusion\u001b[0m\u001b[0;34m,\u001b[0m \u001b[0mannot\u001b[0m\u001b[0;34m=\u001b[0m\u001b[0;32mTrue\u001b[0m\u001b[0;34m,\u001b[0m \u001b[0mfmt\u001b[0m\u001b[0;34m=\u001b[0m\u001b[0;34m'd'\u001b[0m\u001b[0;34m,\u001b[0m \u001b[0mcmap\u001b[0m\u001b[0;34m=\u001b[0m\u001b[0;34m'Blues'\u001b[0m\u001b[0;34m,\u001b[0m \u001b[0mcbar\u001b[0m\u001b[0;34m=\u001b[0m\u001b[0;32mFalse\u001b[0m\u001b[0;34m)\u001b[0m\u001b[0;34m\u001b[0m\u001b[0;34m\u001b[0m\u001b[0m\n\u001b[1;32m      4\u001b[0m \u001b[0mplt\u001b[0m\u001b[0;34m.\u001b[0m\u001b[0mxlabel\u001b[0m\u001b[0;34m(\u001b[0m\u001b[0;34m'Predicted Labels'\u001b[0m\u001b[0;34m)\u001b[0m\u001b[0;34m\u001b[0m\u001b[0;34m\u001b[0m\u001b[0m\n\u001b[1;32m      5\u001b[0m \u001b[0mplt\u001b[0m\u001b[0;34m.\u001b[0m\u001b[0mylabel\u001b[0m\u001b[0;34m(\u001b[0m\u001b[0;34m'True Labels'\u001b[0m\u001b[0;34m)\u001b[0m\u001b[0;34m\u001b[0m\u001b[0;34m\u001b[0m\u001b[0m\n",
            "\u001b[0;32m/usr/local/lib/python3.10/dist-packages/sklearn/metrics/_classification.py\u001b[0m in \u001b[0;36mconfusion_matrix\u001b[0;34m(y_true, y_pred, labels, sample_weight, normalize)\u001b[0m\n\u001b[1;32m    315\u001b[0m     \u001b[0;34m(\u001b[0m\u001b[0;36m0\u001b[0m\u001b[0;34m,\u001b[0m \u001b[0;36m2\u001b[0m\u001b[0;34m,\u001b[0m \u001b[0;36m1\u001b[0m\u001b[0;34m,\u001b[0m \u001b[0;36m1\u001b[0m\u001b[0;34m)\u001b[0m\u001b[0;34m\u001b[0m\u001b[0;34m\u001b[0m\u001b[0m\n\u001b[1;32m    316\u001b[0m     \"\"\"\n\u001b[0;32m--> 317\u001b[0;31m     \u001b[0my_type\u001b[0m\u001b[0;34m,\u001b[0m \u001b[0my_true\u001b[0m\u001b[0;34m,\u001b[0m \u001b[0my_pred\u001b[0m \u001b[0;34m=\u001b[0m \u001b[0m_check_targets\u001b[0m\u001b[0;34m(\u001b[0m\u001b[0my_true\u001b[0m\u001b[0;34m,\u001b[0m \u001b[0my_pred\u001b[0m\u001b[0;34m)\u001b[0m\u001b[0;34m\u001b[0m\u001b[0;34m\u001b[0m\u001b[0m\n\u001b[0m\u001b[1;32m    318\u001b[0m     \u001b[0;32mif\u001b[0m \u001b[0my_type\u001b[0m \u001b[0;32mnot\u001b[0m \u001b[0;32min\u001b[0m \u001b[0;34m(\u001b[0m\u001b[0;34m\"binary\"\u001b[0m\u001b[0;34m,\u001b[0m \u001b[0;34m\"multiclass\"\u001b[0m\u001b[0;34m)\u001b[0m\u001b[0;34m:\u001b[0m\u001b[0;34m\u001b[0m\u001b[0;34m\u001b[0m\u001b[0m\n\u001b[1;32m    319\u001b[0m         \u001b[0;32mraise\u001b[0m \u001b[0mValueError\u001b[0m\u001b[0;34m(\u001b[0m\u001b[0;34m\"%s is not supported\"\u001b[0m \u001b[0;34m%\u001b[0m \u001b[0my_type\u001b[0m\u001b[0;34m)\u001b[0m\u001b[0;34m\u001b[0m\u001b[0;34m\u001b[0m\u001b[0m\n",
            "\u001b[0;32m/usr/local/lib/python3.10/dist-packages/sklearn/metrics/_classification.py\u001b[0m in \u001b[0;36m_check_targets\u001b[0;34m(y_true, y_pred)\u001b[0m\n\u001b[1;32m     84\u001b[0m     \u001b[0my_pred\u001b[0m \u001b[0;34m:\u001b[0m \u001b[0marray\u001b[0m \u001b[0;32mor\u001b[0m \u001b[0mindicator\u001b[0m \u001b[0mmatrix\u001b[0m\u001b[0;34m\u001b[0m\u001b[0;34m\u001b[0m\u001b[0m\n\u001b[1;32m     85\u001b[0m     \"\"\"\n\u001b[0;32m---> 86\u001b[0;31m     \u001b[0mcheck_consistent_length\u001b[0m\u001b[0;34m(\u001b[0m\u001b[0my_true\u001b[0m\u001b[0;34m,\u001b[0m \u001b[0my_pred\u001b[0m\u001b[0;34m)\u001b[0m\u001b[0;34m\u001b[0m\u001b[0;34m\u001b[0m\u001b[0m\n\u001b[0m\u001b[1;32m     87\u001b[0m     \u001b[0mtype_true\u001b[0m \u001b[0;34m=\u001b[0m \u001b[0mtype_of_target\u001b[0m\u001b[0;34m(\u001b[0m\u001b[0my_true\u001b[0m\u001b[0;34m,\u001b[0m \u001b[0minput_name\u001b[0m\u001b[0;34m=\u001b[0m\u001b[0;34m\"y_true\"\u001b[0m\u001b[0;34m)\u001b[0m\u001b[0;34m\u001b[0m\u001b[0;34m\u001b[0m\u001b[0m\n\u001b[1;32m     88\u001b[0m     \u001b[0mtype_pred\u001b[0m \u001b[0;34m=\u001b[0m \u001b[0mtype_of_target\u001b[0m\u001b[0;34m(\u001b[0m\u001b[0my_pred\u001b[0m\u001b[0;34m,\u001b[0m \u001b[0minput_name\u001b[0m\u001b[0;34m=\u001b[0m\u001b[0;34m\"y_pred\"\u001b[0m\u001b[0;34m)\u001b[0m\u001b[0;34m\u001b[0m\u001b[0;34m\u001b[0m\u001b[0m\n",
            "\u001b[0;32m/usr/local/lib/python3.10/dist-packages/sklearn/utils/validation.py\u001b[0m in \u001b[0;36mcheck_consistent_length\u001b[0;34m(*arrays)\u001b[0m\n\u001b[1;32m    395\u001b[0m     \u001b[0muniques\u001b[0m \u001b[0;34m=\u001b[0m \u001b[0mnp\u001b[0m\u001b[0;34m.\u001b[0m\u001b[0munique\u001b[0m\u001b[0;34m(\u001b[0m\u001b[0mlengths\u001b[0m\u001b[0;34m)\u001b[0m\u001b[0;34m\u001b[0m\u001b[0;34m\u001b[0m\u001b[0m\n\u001b[1;32m    396\u001b[0m     \u001b[0;32mif\u001b[0m \u001b[0mlen\u001b[0m\u001b[0;34m(\u001b[0m\u001b[0muniques\u001b[0m\u001b[0;34m)\u001b[0m \u001b[0;34m>\u001b[0m \u001b[0;36m1\u001b[0m\u001b[0;34m:\u001b[0m\u001b[0;34m\u001b[0m\u001b[0;34m\u001b[0m\u001b[0m\n\u001b[0;32m--> 397\u001b[0;31m         raise ValueError(\n\u001b[0m\u001b[1;32m    398\u001b[0m             \u001b[0;34m\"Found input variables with inconsistent numbers of samples: %r\"\u001b[0m\u001b[0;34m\u001b[0m\u001b[0;34m\u001b[0m\u001b[0m\n\u001b[1;32m    399\u001b[0m             \u001b[0;34m%\u001b[0m \u001b[0;34m[\u001b[0m\u001b[0mint\u001b[0m\u001b[0;34m(\u001b[0m\u001b[0ml\u001b[0m\u001b[0;34m)\u001b[0m \u001b[0;32mfor\u001b[0m \u001b[0ml\u001b[0m \u001b[0;32min\u001b[0m \u001b[0mlengths\u001b[0m\u001b[0;34m]\u001b[0m\u001b[0;34m\u001b[0m\u001b[0;34m\u001b[0m\u001b[0m\n",
            "\u001b[0;31mValueError\u001b[0m: Found input variables with inconsistent numbers of samples: [1618, 14570]"
          ]
        }
      ]
    },
    {
      "cell_type": "code",
      "source": [
        "import numpy as np\n",
        "from sklearn.model_selection import KFold\n",
        "from sklearn.ensemble import RandomForestClassifier\n",
        "from sklearn.metrics import accuracy_score, confusion_matrix\n",
        "\n",
        "X = train_data.drop([' Label'], axis=1)\n",
        "y = train_data[' Label']\n",
        "\n",
        "# Convert to numpy arrays\n",
        "X = np.array(X)\n",
        "y = np.array(y)\n",
        "\n",
        "# Initialize K-Fold\n",
        "kfold = KFold(n_splits=10, shuffle=True, random_state=42)\n",
        "\n",
        "# Lists to store training and test accuracy for each fold\n",
        "train_accuracies = []\n",
        "test_accuracies = []\n",
        "\n",
        "# Lists to store confusion matrices for each fold\n",
        "conf_matrices = []\n",
        "\n",
        "# Perform k-fold cross-validation\n",
        "for fold, (train_index, test_index) in enumerate(kfold.split(X), 1):\n",
        "    X_train, X_test = X[train_index], X[test_index]\n",
        "    y_train, y_test = y[train_index], y[test_index]\n",
        "\n",
        "    # Initialize Random Forest classifier\n",
        "    rf_classifier = RandomForestClassifier(n_estimators=100, random_state=42)\n",
        "\n",
        "    # Train the Random Forest classifier\n",
        "    rf_classifier.fit(X_train, y_train)\n",
        "\n",
        "    # Predict on the training data\n",
        "    train_pred = rf_classifier.predict(X_train)\n",
        "    train_accuracy = accuracy_score(y_train, train_pred)\n",
        "    train_accuracies.append(train_accuracy)\n",
        "\n",
        "    # Predict on the test data\n",
        "    test_pred = rf_classifier.predict(X_test)\n",
        "    test_accuracy = accuracy_score(y_test, test_pred)\n",
        "    test_accuracies.append(test_accuracy)\n",
        "\n",
        "    # Compute confusion matrix\n",
        "    conf_matrix = confusion_matrix(y_test, test_pred)\n",
        "    conf_matrices.append(conf_matrix)\n",
        "\n",
        "    # Print training and test accuracy for each fold\n",
        "    print(f\"Fold {fold}: Training Accuracy: {train_accuracy * 100:.2f}%, Test Accuracy: {test_accuracy * 100:.2f}%\")\n",
        "    print(f\"Confusion Matrix (Fold {fold}):\\n{conf_matrix}\\n\")\n",
        "\n",
        "# Print the average Training accuracy across all folds\n",
        "print(\"Average Training Accuracy: {:.2f}%\".format(np.mean(train_accuracies) * 100))\n",
        "print(\"Average Training Standard Deviation: {:.2f}%\".format(np.std(train_accuracies) * 100))\n",
        "\n",
        "# Print the average Test  accuracy across all folds\n",
        "print(\"Average Test Accuracy: {:.2f}%\".format(np.mean(test_accuracies) * 100))\n",
        "print(\"Average Test Standard Deviation: {:.2f}%\".format(np.std(test_accuracies) * 100))\n",
        "\n",
        "# Optionally, you can compute and print the overall confusion matrix\n",
        "overall_conf_matrix = np.sum(conf_matrices, axis=0)\n",
        "print(\"Overall Confusion Matrix:\\n\", overall_conf_matrix)\n",
        "plt.figure(figsize=(8, 6))\n",
        "sns.heatmap(overall_conf_matrix, annot=True, fmt='d', cmap='Blues', cbar=False)\n",
        "plt.xlabel('Predicted Labels')\n",
        "plt.ylabel('True Labels')\n",
        "plt.title('Confusion Matrix')\n",
        "plt.show()\n"
      ],
      "metadata": {
        "colab": {
          "base_uri": "https://localhost:8080/",
          "height": 1000
        },
        "id": "UBRVNBjfZU1d",
        "outputId": "220d6d2e-bb07-43bf-c610-de3499625da5"
      },
      "execution_count": null,
      "outputs": [
        {
          "output_type": "stream",
          "name": "stdout",
          "text": [
            "Fold 1: Training Accuracy: 99.98%, Test Accuracy: 96.48%\n",
            "Confusion Matrix (Fold 1):\n",
            "[[831  27]\n",
            " [ 30 731]]\n",
            "\n",
            "Fold 2: Training Accuracy: 99.99%, Test Accuracy: 95.92%\n",
            "Confusion Matrix (Fold 2):\n",
            "[[793  40]\n",
            " [ 26 760]]\n",
            "\n",
            "Fold 3: Training Accuracy: 99.99%, Test Accuracy: 96.54%\n",
            "Confusion Matrix (Fold 3):\n",
            "[[811  23]\n",
            " [ 33 752]]\n",
            "\n",
            "Fold 4: Training Accuracy: 100.00%, Test Accuracy: 95.43%\n",
            "Confusion Matrix (Fold 4):\n",
            "[[820  31]\n",
            " [ 43 725]]\n",
            "\n",
            "Fold 5: Training Accuracy: 99.99%, Test Accuracy: 96.36%\n",
            "Confusion Matrix (Fold 5):\n",
            "[[834  15]\n",
            " [ 44 726]]\n",
            "\n",
            "Fold 6: Training Accuracy: 99.99%, Test Accuracy: 96.85%\n",
            "Confusion Matrix (Fold 6):\n",
            "[[816  19]\n",
            " [ 32 752]]\n",
            "\n",
            "Fold 7: Training Accuracy: 99.99%, Test Accuracy: 95.61%\n",
            "Confusion Matrix (Fold 7):\n",
            "[[804  24]\n",
            " [ 47 744]]\n",
            "\n",
            "Fold 8: Training Accuracy: 99.99%, Test Accuracy: 96.11%\n",
            "Confusion Matrix (Fold 8):\n",
            "[[830  34]\n",
            " [ 29 726]]\n",
            "\n",
            "Fold 9: Training Accuracy: 100.00%, Test Accuracy: 95.80%\n",
            "Confusion Matrix (Fold 9):\n",
            "[[854  28]\n",
            " [ 40 696]]\n",
            "\n",
            "Fold 10: Training Accuracy: 99.99%, Test Accuracy: 96.23%\n",
            "Confusion Matrix (Fold 10):\n",
            "[[787  22]\n",
            " [ 39 770]]\n",
            "\n",
            "Average Training Accuracy: 99.99%\n",
            "Average Training Standard Deviation: 0.01%\n",
            "Average Test Accuracy: 96.13%\n",
            "Average Test Standard Deviation: 0.42%\n",
            "Overall Confusion Matrix:\n",
            " [[8180  263]\n",
            " [ 363 7382]]\n"
          ]
        },
        {
          "output_type": "display_data",
          "data": {
            "text/plain": [
              "<Figure size 800x600 with 1 Axes>"
            ],
            "image/png": "[encoded data removed]"
          },
          "metadata": {}
        }
      ]
    },
    {
      "cell_type": "code",
      "source": [
        "#ROTINA 0\n",
        "# Assuming 'new_data.csv' is your new dataset\n",
        "new_data = pd.read_csv('simulation5-modified.csv')\n",
        "\n",
        "# Preprocess the new dataset (assuming le() function and preprocessing steps are defined)\n",
        "le(new_data)\n",
        "new_data.fillna(0, inplace=True)\n",
        "new_data.replace([np.inf, -np.inf], 0, inplace=True)\n",
        "\n",
        "# Extract features from the new dataset\n",
        "X_new = new_data.drop(['Label'], axis=1)  # Assuming 'Label' is the target variable\n",
        "\n",
        "# Predict using the trained Random Forest model\n",
        "predictions = rf_classifier.predict(X_new)\n",
        "\n",
        "# Add predictions to the new dataset\n",
        "new_data['Predicted_Label'] = predictions\n",
        "\n",
        "# Save the predictions to a new CSV file\n",
        "new_data.to_csv('predicted_data.csv', index=False)\n"
      ],
      "metadata": {
        "colab": {
          "base_uri": "https://localhost:8080/"
        },
        "id": "AyfltrNeYDIF",
        "outputId": "b378a098-396a-4b63-8942-4a84365c617d"
      },
      "execution_count": null,
      "outputs": [
        {
          "output_type": "stream",
          "name": "stderr",
          "text": [
            "/usr/local/lib/python3.10/dist-packages/sklearn/base.py:432: UserWarning: X has feature names, but RandomForestClassifier was fitted without feature names\n",
            "  warnings.warn(\n"
          ]
        }
      ]
    },
    {
      "cell_type": "code",
      "source": [
        "#ROTINA 0\n",
        "# Assuming 'new_data.csv' is your new dataset with ground truth labels\n",
        "new_data_with_truth = pd.read_csv('simulation5-modified.csv')  # Replace 'new_data_with_truth.csv' with the actual file name\n",
        "\n",
        "# Preprocess the new dataset (assuming le() function and preprocessing steps are defined)\n",
        "le(new_data_with_truth)\n",
        "new_data_with_truth.fillna(0, inplace=True)\n",
        "new_data_with_truth.replace([np.inf, -np.inf], 0, inplace=True)\n",
        "\n",
        "# Extract features from the new dataset\n",
        "X_new = new_data_with_truth.drop(['Label'], axis=1)  # Assuming ' Label' is the target variable\n",
        "\n",
        "# Assuming 'predicted_data.csv' is the file containing the predictions\n",
        "predicted_data = pd.read_csv('predicted_data.csv')\n",
        "\n",
        "# Extract ground truth labels from the new dataset\n",
        "y_true = new_data_with_truth['Label']  # Assuming 'True_Label' is the column containing ground truth labels\n",
        "\n",
        "# Extract predicted labels from the predicted dataset\n",
        "y_pred = predicted_data['Predicted_Label']\n",
        "\n",
        "# Compute accuracy 7 std deviation\n",
        "accuracy0 = accuracy_score(y_true, y_pred)\n",
        "std_deviation = np.std(accuracy0)\n",
        "\n",
        "# Print the accuracy & Std Deviation\n",
        "print(f'Accuracy: {accuracy0*100:.2f}%')\n",
        "print(f'Standard Deviation: {std_deviation:.2f}')\n",
        "\n",
        "confusion = confusion_matrix(y_true, y_pred)\n",
        "plt.figure(figsize=(8, 6))\n",
        "sns.heatmap(confusion, annot=True, fmt='d', cmap='Blues', cbar=False)\n",
        "plt.xlabel('Predicted Labels')\n",
        "plt.ylabel('True Labels')\n",
        "plt.title('Confusion Matrix')\n",
        "plt.show()"
      ],
      "metadata": {
        "colab": {
          "base_uri": "https://localhost:8080/",
          "height": 600
        },
        "id": "R9PS9IU8cR6x",
        "outputId": "e03bc871-327d-45a6-f8b0-e2cae58d356a"
      },
      "execution_count": null,
      "outputs": [
        {
          "output_type": "stream",
          "name": "stdout",
          "text": [
            "Accuracy: 99.42%\n",
            "Standard Deviation: 0.00\n"
          ]
        },
        {
          "output_type": "display_data",
          "data": {
            "text/plain": [
              "<Figure size 800x600 with 1 Axes>"
            ],
            "image/png": "[encoded data removed]"
          },
          "metadata": {}
        }
      ]
    },
    {
      "cell_type": "code",
      "source": [
        "#ROTINA 1\n",
        "# Assuming 'new_data.csv' is your new dataset\n",
        "new_data = pd.read_csv('simulation5-rotina1.csv')\n",
        "\n",
        "# Preprocess the new dataset (assuming le() function and preprocessing steps are defined)\n",
        "le(new_data)\n",
        "new_data.fillna(0, inplace=True)\n",
        "new_data.replace([np.inf, -np.inf], 0, inplace=True)\n",
        "\n",
        "# Extract features from the new dataset\n",
        "X_new = new_data.drop(['Label'], axis=1)  # Assuming 'Label' is the target variable\n",
        "\n",
        "# Predict using the trained Random Forest model\n",
        "predictions = rf_classifier.predict(X_new)\n",
        "\n",
        "# Add predictions to the new dataset\n",
        "new_data['Predicted_Label'] = predictions\n",
        "\n",
        "# Save the predictions to a new CSV file\n",
        "new_data.to_csv('predicted_data1.csv', index=False)\n"
      ],
      "metadata": {
        "colab": {
          "base_uri": "https://localhost:8080/"
        },
        "id": "akW4lLR0XRSM",
        "outputId": "0ce0050f-e938-47ca-b00d-775cafe4a0d2"
      },
      "execution_count": null,
      "outputs": [
        {
          "output_type": "stream",
          "name": "stderr",
          "text": [
            "/usr/local/lib/python3.10/dist-packages/sklearn/base.py:432: UserWarning: X has feature names, but RandomForestClassifier was fitted without feature names\n",
            "  warnings.warn(\n"
          ]
        }
      ]
    },
    {
      "cell_type": "code",
      "source": [
        "#ROTINA 1\n",
        "# Assuming 'new_data.csv' is your new dataset with ground truth labels\n",
        "new_data_with_truth = pd.read_csv('simulation5-rotina1.csv')  # Replace 'new_data_with_truth.csv' with the actual file name\n",
        "\n",
        "# Preprocess the new dataset (assuming le() function and preprocessing steps are defined)\n",
        "le(new_data_with_truth)\n",
        "new_data_with_truth.fillna(0, inplace=True)\n",
        "new_data_with_truth.replace([np.inf, -np.inf], 0, inplace=True)\n",
        "\n",
        "# Extract features from the new dataset\n",
        "X_new = new_data_with_truth.drop(['Label'], axis=1)  # Assuming ' Label' is the target variable\n",
        "\n",
        "# Assuming 'predicted_data.csv' is the file containing the predictions\n",
        "predicted_data = pd.read_csv('predicted_data1.csv')\n",
        "\n",
        "# Extract ground truth labels from the new dataset\n",
        "y_true = new_data_with_truth['Label']  # Assuming 'True_Label' is the column containing ground truth labels\n",
        "\n",
        "# Extract predicted labels from the predicted dataset\n",
        "y_pred = predicted_data['Predicted_Label']\n",
        "\n",
        "# Compute accuracy 7 std deviation\n",
        "accuracy1 = accuracy_score(y_true, y_pred)\n",
        "std_deviation = np.std(accuracy1)\n",
        "\n",
        "# Print the accuracy & Std Deviation\n",
        "print(f'Accuracy: {accuracy1*100:.2f}%')\n",
        "print(f'Standard Deviation: {std_deviation:.2f}')\n",
        "\n",
        "confusion = confusion_matrix(y_true, y_pred)\n",
        "plt.figure(figsize=(8, 6))\n",
        "sns.heatmap(confusion, annot=True, fmt='d', cmap='Blues', cbar=False)\n",
        "plt.xlabel('Predicted Labels')\n",
        "plt.ylabel('True Labels')\n",
        "plt.title('Confusion Matrix')\n",
        "plt.show()"
      ],
      "metadata": {
        "colab": {
          "base_uri": "https://localhost:8080/",
          "height": 600
        },
        "id": "RHnanRqmWNQA",
        "outputId": "48b3f242-c0c3-4bba-c4a0-d1d6954666de"
      },
      "execution_count": null,
      "outputs": [
        {
          "output_type": "stream",
          "name": "stdout",
          "text": [
            "Accuracy: 97.24%\n",
            "Standard Deviation: 0.00\n"
          ]
        },
        {
          "output_type": "display_data",
          "data": {
            "text/plain": [
              "<Figure size 800x600 with 1 Axes>"
            ],
            "image/png": "[encoded data removed]"
          },
          "metadata": {}
        }
      ]
    },
    {
      "cell_type": "code",
      "source": [
        "#ROTINA 2\n",
        "# Assuming 'new_data.csv' is your new dataset\n",
        "new_data = pd.read_csv('simulation5-rotina2.csv')\n",
        "\n",
        "# Preprocess the new dataset (assuming le() function and preprocessing steps are defined)\n",
        "le(new_data)\n",
        "new_data.fillna(0, inplace=True)\n",
        "new_data.replace([np.inf, -np.inf], 0, inplace=True)\n",
        "\n",
        "# Extract features from the new dataset\n",
        "X_new = new_data.drop(['Label'], axis=1)  # Assuming 'Label' is the target variable\n",
        "\n",
        "# Predict using the trained Random Forest model\n",
        "predictions = rf_classifier.predict(X_new)\n",
        "\n",
        "# Add predictions to the new dataset\n",
        "new_data['Predicted_Label'] = predictions\n",
        "\n",
        "# Save the predictions to a new CSV file\n",
        "new_data.to_csv('predicted_data2.csv', index=False)"
      ],
      "metadata": {
        "colab": {
          "base_uri": "https://localhost:8080/"
        },
        "id": "GtzHEhiBap6s",
        "outputId": "6bbe0b68-6823-4cb1-eb71-7a03a848e6a4"
      },
      "execution_count": null,
      "outputs": [
        {
          "output_type": "stream",
          "name": "stderr",
          "text": [
            "/usr/local/lib/python3.10/dist-packages/sklearn/base.py:432: UserWarning: X has feature names, but RandomForestClassifier was fitted without feature names\n",
            "  warnings.warn(\n"
          ]
        }
      ]
    },
    {
      "cell_type": "code",
      "source": [
        "#rotina 2\n",
        "# Assuming 'new_data.csv' is your new dataset with ground truth labels\n",
        "new_data_with_truth = pd.read_csv('simulation5-rotina2.csv')  # Replace 'new_data_with_truth.csv' with the actual file name\n",
        "\n",
        "# Preprocess the new dataset (assuming le() function and preprocessing steps are defined)\n",
        "le(new_data_with_truth)\n",
        "new_data_with_truth.fillna(0, inplace=True)\n",
        "new_data_with_truth.replace([np.inf, -np.inf], 0, inplace=True)\n",
        "\n",
        "# Extract features from the new dataset\n",
        "X_new = new_data_with_truth.drop(['Label'], axis=1)  # Assuming ' Label' is the target variable\n",
        "\n",
        "# Assuming 'predicted_data.csv' is the file containing the predictions\n",
        "predicted_data = pd.read_csv('predicted_data2.csv')\n",
        "\n",
        "# Extract ground truth labels from the new dataset\n",
        "y_true = new_data_with_truth['Label']  # Assuming 'True_Label' is the column containing ground truth labels\n",
        "\n",
        "# Extract predicted labels from the predicted dataset\n",
        "y_pred = predicted_data['Predicted_Label']\n",
        "\n",
        "# Compute accuracy 7 std deviation\n",
        "accuracy2 = accuracy_score(y_true, y_pred)\n",
        "std_deviation = np.std(accuracy2)\n",
        "\n",
        "# Print the accuracy & Std Deviation\n",
        "print(f'Accuracy: {accuracy2*100:.2f}%')\n",
        "print(f'Standard Deviation: {std_deviation:.2f}')\n",
        "\n",
        "confusion = confusion_matrix(y_true, y_pred)\n",
        "plt.figure(figsize=(8, 6))\n",
        "sns.heatmap(confusion, annot=True, fmt='d', cmap='Blues', cbar=False)\n",
        "plt.xlabel('Predicted Labels')\n",
        "plt.ylabel('True Labels')\n",
        "plt.title('Confusion Matrix')\n",
        "plt.show()\n"
      ],
      "metadata": {
        "colab": {
          "base_uri": "https://localhost:8080/",
          "height": 600
        },
        "id": "lVssSxoXWUUd",
        "outputId": "08052067-5f38-476d-f4fd-cf003e628da4"
      },
      "execution_count": null,
      "outputs": [
        {
          "output_type": "stream",
          "name": "stdout",
          "text": [
            "Accuracy: 96.01%\n",
            "Standard Deviation: 0.00\n"
          ]
        },
        {
          "output_type": "display_data",
          "data": {
            "text/plain": [
              "<Figure size 800x600 with 1 Axes>"
            ],
            "image/png": "[encoded data removed]"
          },
          "metadata": {}
        }
      ]
    },
    {
      "cell_type": "code",
      "source": [
        "#ROTINA 3\n",
        "# Assuming 'new_data.csv' is your new dataset\n",
        "new_data = pd.read_csv('simulation5-rotina3.csv')\n",
        "\n",
        "# Preprocess the new dataset (assuming le() function and preprocessing steps are defined)\n",
        "le(new_data)\n",
        "new_data.fillna(0, inplace=True)\n",
        "new_data.replace([np.inf, -np.inf], 0, inplace=True)\n",
        "\n",
        "# Extract features from the new dataset\n",
        "X_new = new_data.drop(['Label'], axis=1)  # Assuming 'Label' is the target variable\n",
        "\n",
        "# Predict using the trained Random Forest model\n",
        "predictions = rf_classifier.predict(X_new)\n",
        "\n",
        "# Add predictions to the new dataset\n",
        "new_data['Predicted_Label'] = predictions\n",
        "\n",
        "# Save the predictions to a new CSV file\n",
        "new_data.to_csv('predicted_data3.csv', index=False)"
      ],
      "metadata": {
        "colab": {
          "base_uri": "https://localhost:8080/"
        },
        "id": "ZWLdwny-auwz",
        "outputId": "e7bf1cdc-9c4b-446e-c8da-9b526fd70435"
      },
      "execution_count": null,
      "outputs": [
        {
          "output_type": "stream",
          "name": "stderr",
          "text": [
            "/usr/local/lib/python3.10/dist-packages/sklearn/base.py:432: UserWarning: X has feature names, but RandomForestClassifier was fitted without feature names\n",
            "  warnings.warn(\n"
          ]
        }
      ]
    },
    {
      "cell_type": "code",
      "source": [
        "#rotina 3\n",
        "# Assuming 'new_data.csv' is your new dataset with ground truth labels\n",
        "new_data_with_truth = pd.read_csv('simulation5-rotina3.csv')  # Replace 'new_data_with_truth.csv' with the actual file name\n",
        "\n",
        "# Preprocess the new dataset (assuming le() function and preprocessing steps are defined)\n",
        "le(new_data_with_truth)\n",
        "new_data_with_truth.fillna(0, inplace=True)\n",
        "new_data_with_truth.replace([np.inf, -np.inf], 0, inplace=True)\n",
        "\n",
        "# Extract features from the new dataset\n",
        "X_new = new_data_with_truth.drop(['Label'], axis=1)  # Assuming ' Label' is the target variable\n",
        "\n",
        "# Assuming 'predicted_data.csv' is the file containing the predictions\n",
        "predicted_data = pd.read_csv('predicted_data3.csv')\n",
        "\n",
        "# Extract ground truth labels from the new dataset\n",
        "y_true = new_data_with_truth['Label']  # Assuming 'True_Label' is the column containing ground truth labels\n",
        "\n",
        "# Extract predicted labels from the predicted dataset\n",
        "y_pred = predicted_data['Predicted_Label']\n",
        "\n",
        "# Compute accuracy 7 std deviation\n",
        "accuracy3 = accuracy_score(y_true, y_pred)\n",
        "std_deviation = np.std(accuracy3)\n",
        "\n",
        "# Print the accuracy & Std Deviation\n",
        "print(f'Accuracy: {accuracy3*100:.2f}%')\n",
        "print(f'Standard Deviation: {std_deviation:.2f}')\n",
        "\n",
        "confusion = confusion_matrix(y_true, y_pred)\n",
        "plt.figure(figsize=(8, 6))\n",
        "sns.heatmap(confusion, annot=True, fmt='d', cmap='Blues', cbar=False)\n",
        "plt.xlabel('Predicted Labels')\n",
        "plt.ylabel('True Labels')\n",
        "plt.title('Confusion Matrix')\n",
        "plt.show()"
      ],
      "metadata": {
        "colab": {
          "base_uri": "https://localhost:8080/",
          "height": 600
        },
        "id": "SsK5en-9WZke",
        "outputId": "29bc7b87-6125-4020-88b8-031b74868e85"
      },
      "execution_count": null,
      "outputs": [
        {
          "output_type": "stream",
          "name": "stdout",
          "text": [
            "Accuracy: 99.01%\n",
            "Standard Deviation: 0.00\n"
          ]
        },
        {
          "output_type": "display_data",
          "data": {
            "text/plain": [
              "<Figure size 800x600 with 1 Axes>"
            ],
            "image/png": "[encoded data removed]"
          },
          "metadata": {}
        }
      ]
    },
    {
      "cell_type": "code",
      "source": [
        "#ROTINA 4\n",
        "# Assuming 'new_data.csv' is your new dataset\n",
        "new_data = pd.read_csv('simulation5-rotina4.csv')\n",
        "\n",
        "# Preprocess the new dataset (assuming le() function and preprocessing steps are defined)\n",
        "le(new_data)\n",
        "new_data.fillna(0, inplace=True)\n",
        "new_data.replace([np.inf, -np.inf], 0, inplace=True)\n",
        "\n",
        "# Extract features from the new dataset\n",
        "X_new = new_data.drop(['Label'], axis=1)  # Assuming 'Label' is the target variable\n",
        "\n",
        "# Predict using the trained Random Forest model\n",
        "predictions = rf_classifier.predict(X_new)\n",
        "\n",
        "# Add predictions to the new dataset\n",
        "new_data['Predicted_Label'] = predictions\n",
        "\n",
        "# Save the predictions to a new CSV file\n",
        "new_data.to_csv('predicted_data4.csv', index=False)"
      ],
      "metadata": {
        "colab": {
          "base_uri": "https://localhost:8080/"
        },
        "id": "14jhDLl_a10V",
        "outputId": "e2e428c8-3eec-41b1-9bb6-b5bee3ef4255"
      },
      "execution_count": null,
      "outputs": [
        {
          "output_type": "stream",
          "name": "stderr",
          "text": [
            "/usr/local/lib/python3.10/dist-packages/sklearn/base.py:432: UserWarning: X has feature names, but RandomForestClassifier was fitted without feature names\n",
            "  warnings.warn(\n"
          ]
        }
      ]
    },
    {
      "cell_type": "code",
      "source": [
        "#rotina 4\n",
        "# Assuming 'new_data.csv' is your new dataset with ground truth labels\n",
        "new_data_with_truth = pd.read_csv('simulation5-rotina4.csv')  # Replace 'new_data_with_truth.csv' with the actual file name\n",
        "\n",
        "# Preprocess the new dataset (assuming le() function and preprocessing steps are defined)\n",
        "le(new_data_with_truth)\n",
        "new_data_with_truth.fillna(0, inplace=True)\n",
        "new_data_with_truth.replace([np.inf, -np.inf], 0, inplace=True)\n",
        "\n",
        "# Extract features from the new dataset\n",
        "X_new = new_data_with_truth.drop(['Label'], axis=1)  # Assuming ' Label' is the target variable\n",
        "\n",
        "# Assuming 'predicted_data.csv' is the file containing the predictions\n",
        "predicted_data = pd.read_csv('predicted_data4.csv')\n",
        "\n",
        "# Extract ground truth labels from the new dataset\n",
        "y_true = new_data_with_truth['Label']  # Assuming 'True_Label' is the column containing ground truth labels\n",
        "\n",
        "# Extract predicted labels from the predicted dataset\n",
        "y_pred = predicted_data['Predicted_Label']\n",
        "\n",
        "# Compute accuracy 7 std deviation\n",
        "accuracy4 = accuracy_score(y_true, y_pred)\n",
        "std_deviation = np.std(accuracy4)\n",
        "\n",
        "# Print the accuracy & Std Deviation\n",
        "print(f'Accuracy: {accuracy4*100:.2f}%')\n",
        "print(f'Standard Deviation: {std_deviation:.2f}')\n",
        "\n",
        "confusion = confusion_matrix(y_true, y_pred)\n",
        "plt.figure(figsize=(8, 6))\n",
        "sns.heatmap(confusion, annot=True, fmt='d', cmap='Blues', cbar=False)\n",
        "plt.xlabel('Predicted Labels')\n",
        "plt.ylabel('True Labels')\n",
        "plt.title('Confusion Matrix')\n",
        "plt.show()"
      ],
      "metadata": {
        "colab": {
          "base_uri": "https://localhost:8080/",
          "height": 600
        },
        "id": "Vo3nQmQ3Wb4n",
        "outputId": "d8c07dca-b063-4cb7-b59c-0a9d1f4df313"
      },
      "execution_count": null,
      "outputs": [
        {
          "output_type": "stream",
          "name": "stdout",
          "text": [
            "Accuracy: 98.45%\n",
            "Standard Deviation: 0.00\n"
          ]
        },
        {
          "output_type": "display_data",
          "data": {
            "text/plain": [
              "<Figure size 800x600 with 1 Axes>"
            ],
            "image/png": "[encoded data removed]"
          },
          "metadata": {}
        }
      ]
    },
    {
      "cell_type": "code",
      "source": [
        "#ROTINA 5\n",
        "# Assuming 'new_data.csv' is your new dataset\n",
        "new_data = pd.read_csv('simulation5-rotina5.csv')\n",
        "\n",
        "# Preprocess the new dataset (assuming le() function and preprocessing steps are defined)\n",
        "le(new_data)\n",
        "new_data.fillna(0, inplace=True)\n",
        "new_data.replace([np.inf, -np.inf], 0, inplace=True)\n",
        "\n",
        "# Extract features from the new dataset\n",
        "X_new = new_data.drop(['Label'], axis=1)  # Assuming 'Label' is the target variable\n",
        "\n",
        "# Predict using the trained Random Forest model\n",
        "predictions = rf_classifier.predict(X_new)\n",
        "\n",
        "# Add predictions to the new dataset\n",
        "new_data['Predicted_Label'] = predictions\n",
        "\n",
        "# Save the predictions to a new CSV file\n",
        "new_data.to_csv('predicted_data5.csv', index=False)"
      ],
      "metadata": {
        "colab": {
          "base_uri": "https://localhost:8080/"
        },
        "id": "TW_TIRjka5zN",
        "outputId": "2f1c53e6-3122-42eb-ffeb-1e365d9a98f1"
      },
      "execution_count": null,
      "outputs": [
        {
          "output_type": "stream",
          "name": "stderr",
          "text": [
            "/usr/local/lib/python3.10/dist-packages/sklearn/base.py:432: UserWarning: X has feature names, but RandomForestClassifier was fitted without feature names\n",
            "  warnings.warn(\n"
          ]
        }
      ]
    },
    {
      "cell_type": "code",
      "source": [
        "#rotina 5\n",
        "# Assuming 'new_data.csv' is your new dataset with ground truth labels\n",
        "new_data_with_truth = pd.read_csv('simulation5-rotina5.csv')  # Replace 'new_data_with_truth.csv' with the actual file name\n",
        "\n",
        "# Preprocess the new dataset (assuming le() function and preprocessing steps are defined)\n",
        "le(new_data_with_truth)\n",
        "new_data_with_truth.fillna(0, inplace=True)\n",
        "new_data_with_truth.replace([np.inf, -np.inf], 0, inplace=True)\n",
        "\n",
        "# Extract features from the new dataset\n",
        "X_new = new_data_with_truth.drop(['Label'], axis=1)  # Assuming ' Label' is the target variable\n",
        "\n",
        "# Assuming 'predicted_data.csv' is the file containing the predictions\n",
        "predicted_data = pd.read_csv('predicted_data5.csv')\n",
        "\n",
        "# Extract ground truth labels from the new dataset\n",
        "y_true = new_data_with_truth['Label']  # Assuming 'True_Label' is the column containing ground truth labels\n",
        "\n",
        "# Extract predicted labels from the predicted dataset\n",
        "y_pred = predicted_data['Predicted_Label']\n",
        "\n",
        "# Compute accuracy 7 std deviation\n",
        "accuracy5 = accuracy_score(y_true, y_pred)\n",
        "std_deviation = np.std(accuracy5)\n",
        "\n",
        "# Print the accuracy & Std Deviation\n",
        "print(f'Accuracy: {accuracy5*100:.2f}%')\n",
        "print(f'Standard Deviation: {std_deviation:.2f}')\n",
        "\n",
        "confusion = confusion_matrix(y_true, y_pred)\n",
        "plt.figure(figsize=(8, 6))\n",
        "sns.heatmap(confusion, annot=True, fmt='d', cmap='Blues', cbar=False)\n",
        "plt.xlabel('Predicted Labels')\n",
        "plt.ylabel('True Labels')\n",
        "plt.title('Confusion Matrix')\n",
        "plt.show()"
      ],
      "metadata": {
        "colab": {
          "base_uri": "https://localhost:8080/",
          "height": 600
        },
        "id": "ZpOSzSPKWgZl",
        "outputId": "d31ed50f-439f-4116-b953-9b77e0537682"
      },
      "execution_count": null,
      "outputs": [
        {
          "output_type": "stream",
          "name": "stdout",
          "text": [
            "Accuracy: 50.63%\n",
            "Standard Deviation: 0.00\n"
          ]
        },
        {
          "output_type": "display_data",
          "data": {
            "text/plain": [
              "<Figure size 800x600 with 1 Axes>"
            ],
            "image/png": "[encoded data removed]"
          },
          "metadata": {}
        }
      ]
    },
    {
      "cell_type": "code",
      "source": [
        "#ROTINA 6\n",
        "# Assuming 'new_data.csv' is your new dataset\n",
        "new_data = pd.read_csv('simulation5-rotina6.csv')\n",
        "\n",
        "# Preprocess the new dataset (assuming le() function and preprocessing steps are defined)\n",
        "le(new_data)\n",
        "new_data.fillna(0, inplace=True)\n",
        "new_data.replace([np.inf, -np.inf], 0, inplace=True)\n",
        "\n",
        "# Extract features from the new dataset\n",
        "X_new = new_data.drop(['Label'], axis=1)  # Assuming 'Label' is the target variable\n",
        "\n",
        "# Predict using the trained Random Forest model\n",
        "predictions = rf_classifier.predict(X_new)\n",
        "\n",
        "# Add predictions to the new dataset\n",
        "new_data['Predicted_Label'] = predictions\n",
        "\n",
        "# Save the predictions to a new CSV file\n",
        "new_data.to_csv('predicted_data6.csv', index=False)"
      ],
      "metadata": {
        "colab": {
          "base_uri": "https://localhost:8080/"
        },
        "id": "XSjCYeeL-hON",
        "outputId": "e4189965-de36-4253-c1ab-aa62b8c36f8a"
      },
      "execution_count": null,
      "outputs": [
        {
          "output_type": "stream",
          "name": "stderr",
          "text": [
            "/usr/local/lib/python3.10/dist-packages/sklearn/base.py:432: UserWarning: X has feature names, but RandomForestClassifier was fitted without feature names\n",
            "  warnings.warn(\n"
          ]
        }
      ]
    },
    {
      "cell_type": "code",
      "source": [
        "#rotina 6\n",
        "# Assuming 'new_data.csv' is your new dataset with ground truth labels\n",
        "new_data_with_truth = pd.read_csv('simulation5-rotina6.csv')  # Replace 'new_data_with_truth.csv' with the actual file name\n",
        "\n",
        "# Preprocess the new dataset (assuming le() function and preprocessing steps are defined)\n",
        "le(new_data_with_truth)\n",
        "new_data_with_truth.fillna(0, inplace=True)\n",
        "new_data_with_truth.replace([np.inf, -np.inf], 0, inplace=True)\n",
        "\n",
        "# Extract features from the new dataset\n",
        "X_new = new_data_with_truth.drop(['Label'], axis=1)  # Assuming ' Label' is the target variable\n",
        "\n",
        "# Assuming 'predicted_data.csv' is the file containing the predictions\n",
        "predicted_data = pd.read_csv('predicted_data6.csv')\n",
        "\n",
        "# Extract ground truth labels from the new dataset\n",
        "y_true = new_data_with_truth['Label']  # Assuming 'True_Label' is the column containing ground truth labels\n",
        "\n",
        "# Extract predicted labels from the predicted dataset\n",
        "y_pred = predicted_data['Predicted_Label']\n",
        "\n",
        "# Compute accuracy 7 std deviation\n",
        "accuracy6 = accuracy_score(y_true, y_pred)\n",
        "std_deviation = np.std(accuracy6)\n",
        "\n",
        "# Print the accuracy & Std Deviation\n",
        "print(f'Accuracy: {accuracy6*100:.2f}%')\n",
        "print(f'Standard Deviation: {std_deviation:.2f}')\n",
        "\n",
        "confusion = confusion_matrix(y_true, y_pred)\n",
        "plt.figure(figsize=(8, 6))\n",
        "sns.heatmap(confusion, annot=True, fmt='d', cmap='Blues', cbar=False)\n",
        "plt.xlabel('Predicted Labels')\n",
        "plt.ylabel('True Labels')\n",
        "plt.title('Confusion Matrix')\n",
        "plt.show()"
      ],
      "metadata": {
        "colab": {
          "base_uri": "https://localhost:8080/",
          "height": 600
        },
        "id": "KGnN6dJu-jr4",
        "outputId": "f19cd8c2-5093-450c-fadc-72df3cf48278"
      },
      "execution_count": null,
      "outputs": [
        {
          "output_type": "stream",
          "name": "stdout",
          "text": [
            "Accuracy: 77.14%\n",
            "Standard Deviation: 0.00\n"
          ]
        },
        {
          "output_type": "display_data",
          "data": {
            "text/plain": [
              "<Figure size 800x600 with 1 Axes>"
            ],
            "image/png": "[encoded data removed]"
          },
          "metadata": {}
        }
      ]
    },
    {
      "cell_type": "code",
      "source": [
        "#rotina 7 - rotina 10 da tabela da dissertação\n",
        "# Assuming 'new_data.csv' is your new dataset\n",
        "new_data = pd.read_csv('simulation5-rotina88.csv')\n",
        "\n",
        "# Preprocess the new dataset (assuming le() function and preprocessing steps are defined)\n",
        "le(new_data)\n",
        "new_data.fillna(0, inplace=True)\n",
        "new_data.replace([np.inf, -np.inf], 0, inplace=True)\n",
        "\n",
        "# Extract features from the new dataset\n",
        "X_new = new_data.drop(['Label'], axis=1)  # Assuming 'Label' is the target variable\n",
        "\n",
        "# Predict using the trained Random Forest model\n",
        "predictions = rf_classifier.predict(X_new)\n",
        "\n",
        "# Add predictions to the new dataset\n",
        "new_data['Predicted_Label'] = predictions\n",
        "\n",
        "# Save the predictions to a new CSV file\n",
        "new_data.to_csv('predicted_data88.csv', index=False)"
      ],
      "metadata": {
        "colab": {
          "base_uri": "https://localhost:8080/"
        },
        "id": "N3l1HqlT-p0g",
        "outputId": "079d8be7-4f4d-43be-d52f-63ff584c5290"
      },
      "execution_count": null,
      "outputs": [
        {
          "output_type": "stream",
          "name": "stderr",
          "text": [
            "/usr/local/lib/python3.10/dist-packages/sklearn/base.py:432: UserWarning: X has feature names, but RandomForestClassifier was fitted without feature names\n",
            "  warnings.warn(\n"
          ]
        }
      ]
    },
    {
      "cell_type": "code",
      "source": [
        "#rotina 7 - rotina 10 da tabela da dissertação\n",
        "# Assuming 'new_data.csv' is your new dataset with ground truth labels\n",
        "new_data_with_truth = pd.read_csv('simulation5-rotina88.csv')  # Replace 'new_data_with_truth.csv' with the actual file name\n",
        "\n",
        "# Preprocess the new dataset (assuming le() function and preprocessing steps are defined)\n",
        "le(new_data_with_truth)\n",
        "new_data_with_truth.fillna(0, inplace=True)\n",
        "new_data_with_truth.replace([np.inf, -np.inf], 0, inplace=True)\n",
        "\n",
        "# Extract features from the new dataset\n",
        "X_new = new_data_with_truth.drop(['Label'], axis=1)  # Assuming ' Label' is the target variable\n",
        "\n",
        "# Assuming 'predicted_data.csv' is the file containing the predictions\n",
        "predicted_data = pd.read_csv('predicted_data88.csv')\n",
        "\n",
        "# Extract ground truth labels from the new dataset\n",
        "y_true = new_data_with_truth['Label']  # Assuming 'True_Label' is the column containing ground truth labels\n",
        "\n",
        "# Extract predicted labels from the predicted dataset\n",
        "y_pred = predicted_data['Predicted_Label']\n",
        "\n",
        "# Compute accuracy 7 std deviation\n",
        "accuracy7 = accuracy_score(y_true, y_pred)\n",
        "std_deviation = np.std(accuracy7)\n",
        "\n",
        "# Print the accuracy & Std Deviation\n",
        "print(f'Accuracy: {accuracy7*100:.2f}%')\n",
        "print(f'Standard Deviation: {std_deviation:.2f}')\n",
        "\n",
        "confusion = confusion_matrix(y_true, y_pred)\n",
        "plt.figure(figsize=(8, 6))\n",
        "sns.heatmap(confusion, annot=True, fmt='d', cmap='Blues', cbar=False)\n",
        "plt.xlabel('Predicted Labels')\n",
        "plt.ylabel('True Labels')\n",
        "plt.title('Confusion Matrix')\n",
        "plt.show()"
      ],
      "metadata": {
        "colab": {
          "base_uri": "https://localhost:8080/",
          "height": 600
        },
        "id": "9zZreRQa-w3b",
        "outputId": "b79b2bb5-a75b-420b-f560-8eff92220d81"
      },
      "execution_count": null,
      "outputs": [
        {
          "output_type": "stream",
          "name": "stdout",
          "text": [
            "Accuracy: 94.44%\n",
            "Standard Deviation: 0.00\n"
          ]
        },
        {
          "output_type": "display_data",
          "data": {
            "text/plain": [
              "<Figure size 800x600 with 1 Axes>"
            ],
            "image/png": "[encoded data removed]"
          },
          "metadata": {}
        }
      ]
    },
    {
      "cell_type": "code",
      "source": [
        "#ROTINA 8 - rotina 9 da tabela da dissertação\n",
        "# Assuming 'new_data.csv' is your new dataset\n",
        "new_data = pd.read_csv('simulation5-rotina99.csv')\n",
        "\n",
        "# Preprocess the new dataset (assuming le() function and preprocessing steps are defined)\n",
        "le(new_data)\n",
        "new_data.fillna(0, inplace=True)\n",
        "new_data.replace([np.inf, -np.inf], 0, inplace=True)\n",
        "\n",
        "# Extract features from the new dataset\n",
        "X_new = new_data.drop(['Label'], axis=1)  # Assuming 'Label' is the target variable\n",
        "\n",
        "# Predict using the trained Random Forest model\n",
        "predictions = rf_classifier.predict(X_new)\n",
        "\n",
        "# Add predictions to the new dataset\n",
        "new_data['Predicted_Label'] = predictions\n",
        "\n",
        "# Save the predictions to a new CSV file\n",
        "new_data.to_csv('predicted_data99.csv', index=False)"
      ],
      "metadata": {
        "colab": {
          "base_uri": "https://localhost:8080/"
        },
        "id": "r42XnZ4p_BpF",
        "outputId": "844ac5f5-ed2d-4071-90cc-9d79c756a911"
      },
      "execution_count": null,
      "outputs": [
        {
          "output_type": "stream",
          "name": "stderr",
          "text": [
            "/usr/local/lib/python3.10/dist-packages/sklearn/base.py:432: UserWarning: X has feature names, but RandomForestClassifier was fitted without feature names\n",
            "  warnings.warn(\n"
          ]
        }
      ]
    },
    {
      "cell_type": "code",
      "source": [
        "#ROTINA 8 - rotina 9 da tabela da dissertação\n",
        "# Assuming 'new_data.csv' is your new dataset with ground truth labels\n",
        "new_data_with_truth = pd.read_csv('simulation5-rotina99.csv')  # Replace 'new_data_with_truth.csv' with the actual file name\n",
        "\n",
        "# Preprocess the new dataset (assuming le() function and preprocessing steps are defined)\n",
        "le(new_data_with_truth)\n",
        "new_data_with_truth.fillna(0, inplace=True)\n",
        "new_data_with_truth.replace([np.inf, -np.inf], 0, inplace=True)\n",
        "\n",
        "# Extract features from the new dataset\n",
        "X_new = new_data_with_truth.drop(['Label'], axis=1)  # Assuming ' Label' is the target variable\n",
        "\n",
        "# Assuming 'predicted_data.csv' is the file containing the predictions\n",
        "predicted_data = pd.read_csv('predicted_data99.csv')\n",
        "\n",
        "# Extract ground truth labels from the new dataset\n",
        "y_true = new_data_with_truth['Label']  # Assuming 'True_Label' is the column containing ground truth labels\n",
        "\n",
        "# Extract predicted labels from the predicted dataset\n",
        "y_pred = predicted_data['Predicted_Label']\n",
        "\n",
        "# Compute accuracy 7 std deviation\n",
        "accuracy8 = accuracy_score(y_true, y_pred)\n",
        "std_deviation = np.std(accuracy8)\n",
        "\n",
        "# Print the accuracy & Std Deviation\n",
        "print(f'Accuracy: {accuracy8*100:.2f}%')\n",
        "print(f'Standard Deviation: {std_deviation:.2f}')\n",
        "\n",
        "confusion = confusion_matrix(y_true, y_pred)\n",
        "plt.figure(figsize=(8, 6))\n",
        "sns.heatmap(confusion, annot=True, fmt='d', cmap='Blues', cbar=False)\n",
        "plt.xlabel('Predicted Labels')\n",
        "plt.ylabel('True Labels')\n",
        "plt.title('Confusion Matrix')\n",
        "plt.show()"
      ],
      "metadata": {
        "colab": {
          "base_uri": "https://localhost:8080/",
          "height": 600
        },
        "id": "AFPMqaMd_OiW",
        "outputId": "f133ebc9-51a2-4a06-d7f6-ba72a6e382cc"
      },
      "execution_count": null,
      "outputs": [
        {
          "output_type": "stream",
          "name": "stdout",
          "text": [
            "Accuracy: 93.95%\n",
            "Standard Deviation: 0.00\n"
          ]
        },
        {
          "output_type": "display_data",
          "data": {
            "text/plain": [
              "<Figure size 800x600 with 1 Axes>"
            ],
            "image/png": "[encoded data removed]"
          },
          "metadata": {}
        }
      ]
    },
    {
      "cell_type": "code",
      "source": [
        "#ROTINA 9\n",
        "# Assuming 'new_data.csv' is your new dataset\n",
        "new_data = pd.read_csv('simulation5-rotina9.csv')\n",
        "\n",
        "# Preprocess the new dataset (assuming le() function and preprocessing steps are defined)\n",
        "le(new_data)\n",
        "new_data.fillna(0, inplace=True)\n",
        "new_data.replace([np.inf, -np.inf], 0, inplace=True)\n",
        "\n",
        "# Extract features from the new dataset\n",
        "X_new = new_data.drop(['label'], axis=1)  # Assuming 'Label' is the target variable\n",
        "\n",
        "# Predict using the trained Random Forest model\n",
        "predictions = rf_classifier.predict(X_new)\n",
        "\n",
        "# Add predictions to the new dataset\n",
        "new_data['Predicted_Label'] = predictions\n",
        "\n",
        "# Save the predictions to a new CSV file\n",
        "new_data.to_csv('predicted_data9.csv', index=False)"
      ],
      "metadata": {
        "colab": {
          "base_uri": "https://localhost:8080/"
        },
        "id": "UHQ2pwtg_SUj",
        "outputId": "2785c43b-ff47-48a0-f766-2365c80bf406"
      },
      "execution_count": null,
      "outputs": [
        {
          "output_type": "stream",
          "name": "stderr",
          "text": [
            "/usr/local/lib/python3.10/dist-packages/sklearn/base.py:432: UserWarning: X has feature names, but RandomForestClassifier was fitted without feature names\n",
            "  warnings.warn(\n"
          ]
        }
      ]
    },
    {
      "cell_type": "code",
      "source": [
        "#rotina 9\n",
        "# Assuming 'new_data.csv' is your new dataset with ground truth labels\n",
        "new_data_with_truth = pd.read_csv('simulation5-rotina9.csv')  # Replace 'new_data_with_truth.csv' with the actual file name\n",
        "\n",
        "# Preprocess the new dataset (assuming le() function and preprocessing steps are defined)\n",
        "le(new_data_with_truth)\n",
        "new_data_with_truth.fillna(0, inplace=True)\n",
        "new_data_with_truth.replace([np.inf, -np.inf], 0, inplace=True)\n",
        "\n",
        "# Extract features from the new dataset\n",
        "X_new = new_data_with_truth.drop(['label'], axis=1)  # Assuming ' Label' is the target variable\n",
        "\n",
        "# Assuming 'predicted_data.csv' is the file containing the predictions\n",
        "predicted_data = pd.read_csv('predicted_data9.csv')\n",
        "\n",
        "# Extract ground truth labels from the new dataset\n",
        "y_true = new_data_with_truth['label']  # Assuming 'True_Label' is the column containing ground truth labels\n",
        "\n",
        "# Extract predicted labels from the predicted dataset\n",
        "y_pred = predicted_data['Predicted_Label']\n",
        "\n",
        "# Compute accuracy 7 std deviation\n",
        "accuracy9 = accuracy_score(y_true, y_pred)\n",
        "std_deviation = np.std(accuracy8)\n",
        "\n",
        "# Print the accuracy & Std Deviation\n",
        "print(f'Accuracy: {accuracy9*100:.2f}%')\n",
        "print(f'Standard Deviation: {std_deviation:.2f}')\n",
        "\n",
        "confusion = confusion_matrix(y_true, y_pred)\n",
        "plt.figure(figsize=(8, 6))\n",
        "sns.heatmap(confusion, annot=True, fmt='d', cmap='Blues', cbar=False)\n",
        "plt.xlabel('Predicted Labels')\n",
        "plt.ylabel('True Labels')\n",
        "plt.title('Confusion Matrix')\n",
        "plt.show()"
      ],
      "metadata": {
        "colab": {
          "base_uri": "https://localhost:8080/",
          "height": 600
        },
        "id": "uqau2r3k_WvH",
        "outputId": "84efb32a-04d0-4c22-a973-2def5f6b3ae2"
      },
      "execution_count": null,
      "outputs": [
        {
          "output_type": "stream",
          "name": "stdout",
          "text": [
            "Accuracy: 52.50%\n",
            "Standard Deviation: 0.00\n"
          ]
        },
        {
          "output_type": "display_data",
          "data": {
            "text/plain": [
              "<Figure size 800x600 with 1 Axes>"
            ],
            "image/png": "[encoded data removed]"
          },
          "metadata": {}
        }
      ]
    },
    {
      "cell_type": "code",
      "source": [
        "#ROTINA 10 - rotina 8 da tabela da dissertação\n",
        "# Assuming 'new_data.csv' is your new dataset\n",
        "new_data = pd.read_csv('simulation5-rotina1010.csv')\n",
        "\n",
        "# Preprocess the new dataset (assuming le() function and preprocessing steps are defined)\n",
        "le(new_data)\n",
        "new_data.fillna(0, inplace=True)\n",
        "new_data.replace([np.inf, -np.inf], 0, inplace=True)\n",
        "\n",
        "# Extract features from the new dataset\n",
        "X_new = new_data.drop(['Label'], axis=1)  # Assuming 'Label' is the target variable\n",
        "\n",
        "# Predict using the trained Random Forest model\n",
        "predictions = rf_classifier.predict(X_new)\n",
        "\n",
        "# Add predictions to the new dataset\n",
        "new_data['Predicted_Label'] = predictions\n",
        "\n",
        "# Save the predictions to a new CSV file\n",
        "new_data.to_csv('predicted_data1010.csv', index=False)"
      ],
      "metadata": {
        "colab": {
          "base_uri": "https://localhost:8080/"
        },
        "id": "n0_7oJ3E_baN",
        "outputId": "f6393f6f-3f7d-4166-ffa5-36c0af6083a1"
      },
      "execution_count": null,
      "outputs": [
        {
          "output_type": "stream",
          "name": "stderr",
          "text": [
            "/usr/local/lib/python3.10/dist-packages/sklearn/base.py:432: UserWarning: X has feature names, but RandomForestClassifier was fitted without feature names\n",
            "  warnings.warn(\n"
          ]
        }
      ]
    },
    {
      "cell_type": "code",
      "source": [
        "#rotina 10 - rotina 8 da tabela da dissertação\n",
        "# Assuming 'new_data.csv' is your new dataset with ground truth labels\n",
        "new_data_with_truth = pd.read_csv('simulation5-rotina1010.csv')  # Replace 'new_data_with_truth.csv' with the actual file name\n",
        "\n",
        "# Preprocess the new dataset (assuming le() function and preprocessing steps are defined)\n",
        "le(new_data_with_truth)\n",
        "new_data_with_truth.fillna(0, inplace=True)\n",
        "new_data_with_truth.replace([np.inf, -np.inf], 0, inplace=True)\n",
        "\n",
        "# Extract features from the new dataset\n",
        "X_new = new_data_with_truth.drop(['Label'], axis=1)  # Assuming ' Label' is the target variable\n",
        "\n",
        "# Assuming 'predicted_data.csv' is the file containing the predictions\n",
        "predicted_data = pd.read_csv('predicted_data1010.csv')\n",
        "\n",
        "# Extract ground truth labels from the new dataset\n",
        "y_true = new_data_with_truth['Label']  # Assuming 'True_Label' is the column containing ground truth labels\n",
        "\n",
        "# Extract predicted labels from the predicted dataset\n",
        "y_pred = predicted_data['Predicted_Label']\n",
        "\n",
        "# Compute accuracy 7 std deviation\n",
        "accuracy10 = accuracy_score(y_true, y_pred)\n",
        "std_deviation = np.std(accuracy10)\n",
        "\n",
        "# Print the accuracy & Std Deviation\n",
        "print(f'Accuracy: {accuracy10*100:.2f}%')\n",
        "print(f'Standard Deviation: {std_deviation:.2f}')\n",
        "\n",
        "confusion = confusion_matrix(y_true, y_pred)\n",
        "plt.figure(figsize=(8, 6))\n",
        "sns.heatmap(confusion, annot=True, fmt='d', cmap='Blues', cbar=False)\n",
        "plt.xlabel('Predicted Labels')\n",
        "plt.ylabel('True Labels')\n",
        "plt.title('Confusion Matrix')\n",
        "plt.show()"
      ],
      "metadata": {
        "colab": {
          "base_uri": "https://localhost:8080/",
          "height": 600
        },
        "id": "biWSrK-2_exL",
        "outputId": "92ebd96e-bbdd-4829-f625-1217ac9f159b"
      },
      "execution_count": null,
      "outputs": [
        {
          "output_type": "stream",
          "name": "stdout",
          "text": [
            "Accuracy: 89.98%\n",
            "Standard Deviation: 0.00\n"
          ]
        },
        {
          "output_type": "display_data",
          "data": {
            "text/plain": [
              "<Figure size 800x600 with 1 Axes>"
            ],
            "image/png": "[encoded data removed]"
          },
          "metadata": {}
        }
      ]
    },
    {
      "cell_type": "code",
      "source": [
        "#CALCULO FINAL DA MÉDIA DAS ACURÁCIAS E DESVIO PADRÃO\n",
        "import numpy as np\n",
        "\n",
        "# List of accuracies\n",
        "accuracies = [accuracy0, accuracy1, accuracy2, accuracy3, accuracy4, accuracy5, accuracy6, accuracy7, accuracy8, accuracy10]\n",
        "\n",
        "# Calculate average accuracy\n",
        "average_accuracy = np.mean(accuracies)\n",
        "\n",
        "# Calculate standard deviation\n",
        "std_deviation = np.std(accuracies)\n",
        "\n",
        "print(\"Average accuracy:\", average_accuracy)\n",
        "print(\"Standard deviation:\", std_deviation)\n",
        "print(f'Average Accuracy: {average_accuracy*100:.3f}%')\n",
        "print(f'Standard Deviation: {std_deviation:.4f}')\n"
      ],
      "metadata": {
        "colab": {
          "base_uri": "https://localhost:8080/"
        },
        "id": "eUCNtTvMbkfd",
        "outputId": "6ebb15a0-49ae-421c-ccc0-6233eac8d72f"
      },
      "execution_count": null,
      "outputs": [
        {
          "output_type": "stream",
          "name": "stdout",
          "text": [
            "Average accuracy: 0.8962603622965919\n",
            "Standard deviation: 0.14418927108442228\n",
            "Average Accuracy: 89.626%\n",
            "Standard Deviation: 0.1442\n"
          ]
        }
      ]
    }
  ],
  "metadata": {
    "colab": {
      "provenance": [],
      "machine_shape": "hm",
      "gpuType": "T4"
    },
    "kernelspec": {
      "display_name": "Python 3",
      "name": "python3"
    },
    "language_info": {
      "codemirror_mode": {
        "name": "ipython",
        "version": 3
      },
      "file_extension": ".py",
      "mimetype": "text/x-python",
      "name": "python",
      "nbconvert_exporter": "python",
      "pygments_lexer": "ipython3",
      "version": "3.10.11"
    },
    "vscode": {
      "interpreter": {
        "hash": "44e702f896c64f233371aaa95a72244317547150f63b8652f36eae03057feb84"
      }
    },
    "accelerator": "GPU"
  },
  "nbformat": 4,
  "nbformat_minor": 0
}